{
 "cells": [
  {
   "cell_type": "code",
   "execution_count": 209,
   "metadata": {
    "id": "k1WHo4Iddz7l"
   },
   "outputs": [],
   "source": [
    "import pandas as pd\n",
    "\n",
    "# Reading data:\n",
    "df= pd.read_csv(\"compas-scores-two-years.csv\")\n",
    "\n",
    "# Subsetting only \"African-American\" and \"Caucasian\" races:\n",
    "df = df.loc[df[\"race\"].isin([\"African-American\", \"Caucasian\"])]\n",
    "\n",
    "# Replacing \"African-American\" and \"Caucasian\" labels with 0 and 1:\n",
    "df[\"race\"].replace(['African-American', 'Caucasian'],[0, 1], inplace=True)\n",
    "\n",
    "# Label encoding \"score text\" variable:\n",
    "df[\"score_text\"].replace([\"Low\",\"Medium\",\"High\"],[0,1,2],inplace=True)\n",
    "\n",
    "# Label encoding \"age_cat\" variable:\n",
    "df[\"age_cat\"].replace([\"25 - 45\",\"Less than 25\",\"Greater than 45\"],[0,1,2],inplace=True)\n",
    "\n",
    "# Replacing \"Male\" and \"Female\" labels with 0 and 1:\n",
    "df[\"sex\"].replace([\"Male\",\"Female\"],[0,1],inplace=True)"
   ]
  },
  {
   "cell_type": "code",
   "execution_count": 210,
   "metadata": {
    "colab": {
     "base_uri": "https://localhost:8080/"
    },
    "id": "4lSZo05Gd_Lo",
    "outputId": "727f359e-5da5-4859-ba92-a87b9f6bc678"
   },
   "outputs": [
    {
     "name": "stdout",
     "output_type": "stream",
     "text": [
      "(5271, 10) (5271,) (879, 10) (879,)\n",
      "(4392, 10) (4392,) (879, 10) (879,)\n"
     ]
    }
   ],
   "source": [
    "# Target variable \"two_year_recid\"\n",
    "y = df[\"two_year_recid\"]\n",
    "\n",
    "# Predictors:\n",
    "X = pd.DataFrame(df, columns=[\"race\",\"age\",\"age_cat\",\"priors_count\",\"juv_fel_count\",\"juv_misd_count\",\"juv_other_count\",'decile_score','score_text',\"sex\"])\n",
    "\n",
    "# Splitting into train-valid-test sets:\n",
    "from sklearn.model_selection import train_test_split\n",
    "X_train, X_test, y_train, y_test=train_test_split(X,y,test_size=879, random_state=42, stratify=y)\n",
    "print(X_train.shape, y_train.shape, X_test.shape, y_test.shape)\n",
    "X_train, X_valid, y_train, y_valid=train_test_split(X_train,y_train,test_size=879, random_state=42, stratify=y_train)\n",
    "print(X_train.shape, y_train.shape, X_valid.shape, y_valid.shape)"
   ]
  },
  {
   "cell_type": "markdown",
   "metadata": {
    "id": "5XH3AmE1wide"
   },
   "source": [
    "# Baseline"
   ]
  },
  {
   "cell_type": "code",
   "execution_count": 211,
   "metadata": {
    "colab": {
     "base_uri": "https://localhost:8080/"
    },
    "id": "d798yW5oeKVK",
    "outputId": "636563f8-0a29-4cef-ef6a-75b33bcdf7f4"
   },
   "outputs": [
    {
     "name": "stdout",
     "output_type": "stream",
     "text": [
      "Accuracy: 0.6837315130830489\n"
     ]
    }
   ],
   "source": [
    "# Fitting logistic regression model:\n",
    "from sklearn.linear_model import LogisticRegression\n",
    "clf = LogisticRegression(random_state=0).fit(X_train, y_train)\n",
    "\n",
    "# Accuracy of logistic regression model:\n",
    "print(\"Accuracy:\", clf.score(X_test,y_test))"
   ]
  },
  {
   "cell_type": "code",
   "execution_count": 212,
   "metadata": {
    "colab": {
     "base_uri": "https://localhost:8080/"
    },
    "id": "FGlQZYBunn4q",
    "outputId": "a3b63f45-01b4-4fd8-8a89-fb9aa9344c11"
   },
   "outputs": [],
   "source": [
    "index_b= (X_test[\"race\"]==0)\n",
    "X_test_b=X_test[index_b]\n",
    "y_test_b=y_test[index_b]\n",
    "X_test_w=X_test[-index_b]\n",
    "y_test_w=y_test[-index_b]"
   ]
  },
  {
   "cell_type": "code",
   "execution_count": 213,
   "metadata": {
    "colab": {
     "base_uri": "https://localhost:8080/"
    },
    "id": "os9zoVlwv_hn",
    "outputId": "6f4e333d-cbbe-48c5-b190-7178e1103376"
   },
   "outputs": [
    {
     "name": "stdout",
     "output_type": "stream",
     "text": [
      "0.6737864077669903\n",
      "0.6978021978021978\n",
      "calibration score:  0.024015790035207485\n"
     ]
    }
   ],
   "source": [
    "# Calibration score (Accuracy differnce between 2 groups)\n",
    "print(clf.score(X_test_b,y_test_b))\n",
    "print(clf.score(X_test_w,y_test_w))\n",
    "print(\"calibration score: \",abs(clf.score(X_test_b,y_test_b)-clf.score(X_test_w,y_test_w)))"
   ]
  },
  {
   "cell_type": "markdown",
   "metadata": {
    "id": "ZCvk4rRGwmW9"
   },
   "source": [
    "# Determine explanatory variable 'e'"
   ]
  },
  {
   "cell_type": "code",
   "execution_count": 214,
   "metadata": {
    "colab": {
     "base_uri": "https://localhost:8080/"
    },
    "id": "jsb2K-Etwo19",
    "outputId": "2284f64b-6bf8-482b-f8d9-a2fa5f146372"
   },
   "outputs": [
    {
     "name": "stdout",
     "output_type": "stream",
     "text": [
      "0.4970873786407767\n",
      "0.2692307692307692\n",
      "D_all: 0.22785660941000746\n"
     ]
    }
   ],
   "source": [
    "# Calculating D_all\n",
    "\n",
    "import numpy as np\n",
    "print(np.sum(clf.predict(X_test_b)==1)/len(X_test_b))\n",
    "print(np.sum(clf.predict(X_test_w)==1)/len(X_test_w))\n",
    "D_all=np.sum(clf.predict(X_test_b)==1)/len(X_test_b)-np.sum(clf.predict(X_test_w)==1)/len(X_test_w)\n",
    "print(\"D_all:\", D_all)"
   ]
  },
  {
   "cell_type": "code",
   "execution_count": null,
   "metadata": {},
   "outputs": [],
   "source": []
  },
  {
   "cell_type": "code",
   "execution_count": 218,
   "metadata": {},
   "outputs": [],
   "source": [
    "# Function for calculating D_bad:\n",
    "\n",
    "# Insert explanatory variable name in x:\n",
    "\n",
    "def D_bad_function(x):\n",
    "    \n",
    "    # Making male and female subsets of black people:\n",
    "    B_dataset = X_test_b.groupby(x)\n",
    "    W_dataset = X_test_w.groupby(x)\n",
    "\n",
    "    # Total unique values in \"sex\" column\n",
    "    n = np.sum(B_dataset[x].nunique())\n",
    "    \n",
    "    e = []\n",
    "    for i in range(n):\n",
    "        e.append((np.sum(clf.predict(B_dataset.get_group(i))==1)/len(B_dataset.get_group(i))-np.sum(clf.predict(W_dataset.get_group(i))==1)/len(W_dataset.get_group(i)))/n)\n",
    "\n",
    "    d = []\n",
    "    for i in range(n):\n",
    "        d.append((len(B_dataset.get_group(i))/len(X_test_b)-len(W_dataset.get_group(i))/len(X_test_w))*e[i])\n",
    "    \n",
    "    D_exp = np.sum(d)\n",
    "    \n",
    "    return(D_all-D_exp)"
   ]
  },
  {
   "cell_type": "code",
   "execution_count": 221,
   "metadata": {},
   "outputs": [
    {
     "data": {
      "text/plain": [
       "0.2264206056068951"
      ]
     },
     "execution_count": 221,
     "metadata": {},
     "output_type": "execute_result"
    }
   ],
   "source": [
    "D_bad_function(\"sex\")"
   ]
  },
  {
   "cell_type": "code",
   "execution_count": null,
   "metadata": {},
   "outputs": [],
   "source": []
  },
  {
   "cell_type": "code",
   "execution_count": null,
   "metadata": {},
   "outputs": [],
   "source": []
  },
  {
   "cell_type": "code",
   "execution_count": null,
   "metadata": {},
   "outputs": [],
   "source": []
  },
  {
   "cell_type": "code",
   "execution_count": null,
   "metadata": {},
   "outputs": [],
   "source": []
  },
  {
   "cell_type": "code",
   "execution_count": null,
   "metadata": {},
   "outputs": [],
   "source": []
  },
  {
   "cell_type": "code",
   "execution_count": null,
   "metadata": {},
   "outputs": [],
   "source": []
  },
  {
   "cell_type": "code",
   "execution_count": null,
   "metadata": {},
   "outputs": [],
   "source": []
  },
  {
   "cell_type": "code",
   "execution_count": null,
   "metadata": {},
   "outputs": [],
   "source": []
  },
  {
   "cell_type": "markdown",
   "metadata": {
    "id": "L5D4LqW390kY"
   },
   "source": [
    "# Algorithm: Local massaging"
   ]
  },
  {
   "cell_type": "code",
   "execution_count": 37,
   "metadata": {
    "colab": {
     "base_uri": "https://localhost:8080/"
    },
    "id": "_iUloSfy92jD",
    "outputId": "1ade2cf1-7cc3-4aee-9dfc-e054ebc9a04e"
   },
   "outputs": [
    {
     "name": "stdout",
     "output_type": "stream",
     "text": [
      "(3482, 9) (910, 9)\n"
     ]
    }
   ],
   "source": [
    "#split X_test into different sex, 0:male, 1:female\n",
    "index_m= (X_train[\"sex\"]==0)\n",
    "X_train_m=X_train[index_m]\n",
    "y_train_m=y_train[index_m]\n",
    "X_train_f=X_train[-index_m]\n",
    "y_train_f=y_train[-index_m]\n",
    "print(X_train_m.shape,X_train_f.shape)"
   ]
  },
  {
   "cell_type": "code",
   "execution_count": 38,
   "metadata": {
    "colab": {
     "base_uri": "https://localhost:8080/"
    },
    "id": "uak2iAZeCUJB",
    "outputId": "08866da7-15a5-45ac-e770-8c30b1cb2922"
   },
   "outputs": [
    {
     "name": "stderr",
     "output_type": "stream",
     "text": [
      "C:\\ProgramData\\Anaconda3\\lib\\site-packages\\sklearn\\linear_model\\_logistic.py:814: ConvergenceWarning: lbfgs failed to converge (status=1):\n",
      "STOP: TOTAL NO. of ITERATIONS REACHED LIMIT.\n",
      "\n",
      "Increase the number of iterations (max_iter) or scale the data as shown in:\n",
      "    https://scikit-learn.org/stable/modules/preprocessing.html\n",
      "Please also refer to the documentation for alternative solver options:\n",
      "    https://scikit-learn.org/stable/modules/linear_model.html#logistic-regression\n",
      "  n_iter_i = _check_optimize_result(\n"
     ]
    }
   ],
   "source": [
    "from sklearn.linear_model import LogisticRegression\n",
    "clf_m = LogisticRegression(random_state=0).fit(X_train_m, y_train_m)\n",
    "clf_f = LogisticRegression(random_state=0).fit(X_train_f, y_train_f)"
   ]
  },
  {
   "cell_type": "code",
   "execution_count": 39,
   "metadata": {
    "colab": {
     "base_uri": "https://localhost:8080/"
    },
    "id": "9wdKPzdM-PWo",
    "outputId": "739374cf-da21-4109-d0d4-847c0811404d"
   },
   "outputs": [
    {
     "name": "stderr",
     "output_type": "stream",
     "text": [
      "C:\\Users\\Kartik Kotian\\AppData\\Local\\Temp\\ipykernel_19100\\2181445395.py:2: SettingWithCopyWarning: \n",
      "A value is trying to be set on a copy of a slice from a DataFrame.\n",
      "Try using .loc[row_indexer,col_indexer] = value instead\n",
      "\n",
      "See the caveats in the documentation: https://pandas.pydata.org/pandas-docs/stable/user_guide/indexing.html#returning-a-view-versus-a-copy\n",
      "  X_train_m[\"prob_0\"],X_train_m[\"prob_1\"]=clf_m.predict_proba(X_train_m)[:,0],clf_m.predict_proba(X_train_m)[:,1]\n",
      "C:\\Users\\Kartik Kotian\\AppData\\Local\\Temp\\ipykernel_19100\\2181445395.py:2: SettingWithCopyWarning: \n",
      "A value is trying to be set on a copy of a slice from a DataFrame.\n",
      "Try using .loc[row_indexer,col_indexer] = value instead\n",
      "\n",
      "See the caveats in the documentation: https://pandas.pydata.org/pandas-docs/stable/user_guide/indexing.html#returning-a-view-versus-a-copy\n",
      "  X_train_m[\"prob_0\"],X_train_m[\"prob_1\"]=clf_m.predict_proba(X_train_m)[:,0],clf_m.predict_proba(X_train_m)[:,1]\n",
      "C:\\Users\\Kartik Kotian\\AppData\\Local\\Temp\\ipykernel_19100\\2181445395.py:3: SettingWithCopyWarning: \n",
      "A value is trying to be set on a copy of a slice from a DataFrame.\n",
      "Try using .loc[row_indexer,col_indexer] = value instead\n",
      "\n",
      "See the caveats in the documentation: https://pandas.pydata.org/pandas-docs/stable/user_guide/indexing.html#returning-a-view-versus-a-copy\n",
      "  X_train_f[\"prob_0\"],X_train_f[\"prob_1\"]=clf_f.predict_proba(X_train_f)[:,0],clf_f.predict_proba(X_train_f)[:,1]\n",
      "C:\\Users\\Kartik Kotian\\AppData\\Local\\Temp\\ipykernel_19100\\2181445395.py:3: SettingWithCopyWarning: \n",
      "A value is trying to be set on a copy of a slice from a DataFrame.\n",
      "Try using .loc[row_indexer,col_indexer] = value instead\n",
      "\n",
      "See the caveats in the documentation: https://pandas.pydata.org/pandas-docs/stable/user_guide/indexing.html#returning-a-view-versus-a-copy\n",
      "  X_train_f[\"prob_0\"],X_train_f[\"prob_1\"]=clf_f.predict_proba(X_train_f)[:,0],clf_f.predict_proba(X_train_f)[:,1]\n"
     ]
    }
   ],
   "source": [
    "#get probability for logistic regression\n",
    "X_train_m[\"prob_0\"],X_train_m[\"prob_1\"]=clf_m.predict_proba(X_train_m)[:,0],clf_m.predict_proba(X_train_m)[:,1]\n",
    "X_train_f[\"prob_0\"],X_train_f[\"prob_1\"]=clf_f.predict_proba(X_train_f)[:,0],clf_f.predict_proba(X_train_f)[:,1]"
   ]
  },
  {
   "cell_type": "code",
   "execution_count": 40,
   "metadata": {
    "colab": {
     "base_uri": "https://localhost:8080/"
    },
    "id": "7UOqPdAZC3Kv",
    "outputId": "ed281375-e9c1-4f18-ddc5-a83ae60bf644"
   },
   "outputs": [
    {
     "name": "stdout",
     "output_type": "stream",
     "text": [
      "(2638, 9) (1754, 9)\n"
     ]
    }
   ],
   "source": [
    "index_b= (X_train[\"race\"]==0)\n",
    "X_train_b=X_train[index_b]\n",
    "y_train_b=y_train[index_b]\n",
    "X_train_w=X_train[-index_b]\n",
    "y_train_w=y_train[-index_b]\n",
    "print(X_train_b.shape,X_train_w.shape)"
   ]
  },
  {
   "cell_type": "code",
   "execution_count": 41,
   "metadata": {
    "colab": {
     "base_uri": "https://localhost:8080/"
    },
    "id": "QUfG1gGxDM0_",
    "outputId": "152c82fc-8897-4457-9970-d3ab15b9e936"
   },
   "outputs": [
    {
     "name": "stdout",
     "output_type": "stream",
     "text": [
      "(2157, 9) (481, 9) (1325, 9) (429, 9)\n"
     ]
    }
   ],
   "source": [
    "index_b_m= (X_train_b[\"sex\"]==0)\n",
    "X_train_b_m=X_train_b[index_b_m]\n",
    "y_train_b_m=y_train_b[index_b_m]\n",
    "X_train_b_f=X_train_b[-index_b_m]\n",
    "y_train_b_f=y_train_b[-index_b_m]\n",
    "\n",
    "index_w_m= (X_train_w[\"sex\"]==0)\n",
    "X_train_w_m=X_train_w[index_w_m]\n",
    "y_train_w_m=y_train_w[index_w_m]\n",
    "X_train_w_f=X_train_w[-index_w_m]\n",
    "y_train_w_f=y_train_w[-index_w_m]\n",
    "print(X_train_b_m.shape,X_train_b_f.shape,X_train_w_m.shape,X_train_w_f.shape)"
   ]
  },
  {
   "cell_type": "code",
   "execution_count": 42,
   "metadata": {
    "id": "syCgHsfxDnop"
   },
   "outputs": [],
   "source": [
    "#e_0\n",
    "p_plus_e_0=(np.sum(clf_m.predict(X_train_b_m)==1)/len(X_train_b_m)-np.sum(clf_m.predict(X_train_w_m)==1)/len(X_train_w_m))/2\n",
    "#e_1\n",
    "p_plus_e_1=(np.sum(clf_f.predict(X_train_b_f)==1)/len(X_train_b_f)-np.sum(clf_f.predict(X_train_w_f)==1)/len(X_train_w_f))/2"
   ]
  },
  {
   "cell_type": "code",
   "execution_count": 43,
   "metadata": {
    "colab": {
     "base_uri": "https://localhost:8080/"
    },
    "id": "R8vIDZH0CmJj",
    "outputId": "dc7e9574-e491-435d-deff-cef0b5a04c1b"
   },
   "outputs": [
    {
     "name": "stdout",
     "output_type": "stream",
     "text": [
      "1160 506 275 254\n"
     ]
    }
   ],
   "source": [
    "G_0=len(X_train_b)\n",
    "G_1=len(X_train_w)\n",
    "delta_b_m=int(G_0*(np.sum(clf_m.predict(X_train_b_m)==1)/len(X_train_b_m)-p_plus_e_0))\n",
    "delta_w_m=int(G_1*(np.sum(clf_m.predict(X_train_w_m)==1)/len(X_train_w_m)-p_plus_e_1))\n",
    "\n",
    "delta_b_f=int(G_0*(np.sum(clf_f.predict(X_test_b_f)==1)/len(X_test_b_f)-p_plus_e_0))\n",
    "delta_w_f=int(G_1*(np.sum(clf_f.predict(X_test_w_f)==1)/len(X_test_w_f)-p_plus_e_1))\n",
    "print(delta_b_m,delta_w_m,delta_b_f,delta_w_f)"
   ]
  },
  {
   "cell_type": "code",
   "execution_count": 44,
   "metadata": {
    "id": "gLVnUiyX6FlV"
   },
   "outputs": [
    {
     "name": "stderr",
     "output_type": "stream",
     "text": [
      "C:\\Users\\Kartik Kotian\\AppData\\Local\\Temp\\ipykernel_19100\\3556948143.py:1: FutureWarning: The behavior of `series[i:j]` with an integer-dtype index is deprecated. In a future version, this will be treated as *label-based* indexing, consistent with e.g. `series[i]` lookups. To retain the old behavior, use `series.iloc[i:j]`. To get the future behavior, use `series.loc[i:j]`.\n",
      "  index_p_to_n_m=X_train_m[(X_train_m[\"prob_1\"]>=0.5)&(X_train_m[\"race\"]==0)][\"prob_1\"].sort_values()[:delta_b_m]\n",
      "C:\\Users\\Kartik Kotian\\AppData\\Local\\Temp\\ipykernel_19100\\3556948143.py:2: FutureWarning: The behavior of `series[i:j]` with an integer-dtype index is deprecated. In a future version, this will be treated as *label-based* indexing, consistent with e.g. `series[i]` lookups. To retain the old behavior, use `series.iloc[i:j]`. To get the future behavior, use `series.loc[i:j]`.\n",
      "  index_n_to_p_m=X_train_m[(X_train_m[\"prob_1\"]<0.5)&(X_train_m[\"race\"]==1)][\"prob_1\"].sort_values(ascending=False)[:delta_w_m]\n",
      "C:\\Users\\Kartik Kotian\\AppData\\Local\\Temp\\ipykernel_19100\\3556948143.py:3: FutureWarning: The behavior of `series[i:j]` with an integer-dtype index is deprecated. In a future version, this will be treated as *label-based* indexing, consistent with e.g. `series[i]` lookups. To retain the old behavior, use `series.iloc[i:j]`. To get the future behavior, use `series.loc[i:j]`.\n",
      "  index_p_to_n_f=X_train_f[(X_train_f[\"prob_1\"]>=0.5)&(X_train_f[\"race\"]==0)][\"prob_1\"].sort_values()[:delta_b_f]\n",
      "C:\\Users\\Kartik Kotian\\AppData\\Local\\Temp\\ipykernel_19100\\3556948143.py:4: FutureWarning: The behavior of `series[i:j]` with an integer-dtype index is deprecated. In a future version, this will be treated as *label-based* indexing, consistent with e.g. `series[i]` lookups. To retain the old behavior, use `series.iloc[i:j]`. To get the future behavior, use `series.loc[i:j]`.\n",
      "  index_n_to_p_f=X_train_f[(X_train_f[\"prob_1\"]<0.5)&(X_train_f[\"race\"]==1)][\"prob_1\"].sort_values(ascending=False)[:delta_w_f]\n"
     ]
    }
   ],
   "source": [
    "index_p_to_n_m=X_train_m[(X_train_m[\"prob_1\"]>=0.5)&(X_train_m[\"race\"]==0)][\"prob_1\"].sort_values()[:delta_b_m]\n",
    "index_n_to_p_m=X_train_m[(X_train_m[\"prob_1\"]<0.5)&(X_train_m[\"race\"]==1)][\"prob_1\"].sort_values(ascending=False)[:delta_w_m]\n",
    "index_p_to_n_f=X_train_f[(X_train_f[\"prob_1\"]>=0.5)&(X_train_f[\"race\"]==0)][\"prob_1\"].sort_values()[:delta_b_f]\n",
    "index_n_to_p_f=X_train_f[(X_train_f[\"prob_1\"]<0.5)&(X_train_f[\"race\"]==1)][\"prob_1\"].sort_values(ascending=False)[:delta_w_f]"
   ]
  },
  {
   "cell_type": "code",
   "execution_count": 45,
   "metadata": {
    "id": "zg4Ypy-sEfXw"
   },
   "outputs": [],
   "source": [
    "y_train_1=y_train.copy()\n",
    "y_train_1[y_train_1.index.isin(index_p_to_n_m.index)]=0\n",
    "y_train_1[y_train_1.index.isin(index_n_to_p_m.index)]=1\n",
    "y_train_1[y_train_1.index.isin(index_p_to_n_f.index)]=0\n",
    "y_train_1[y_train_1.index.isin(index_n_to_p_f.index)]=1"
   ]
  },
  {
   "cell_type": "code",
   "execution_count": 46,
   "metadata": {
    "colab": {
     "base_uri": "https://localhost:8080/"
    },
    "id": "bD8pi4ANJl3s",
    "outputId": "b7e40fd5-51b9-459b-9eba-a10aaed45061"
   },
   "outputs": [
    {
     "data": {
      "text/plain": [
       "0.4812286689419795"
      ]
     },
     "execution_count": 46,
     "metadata": {},
     "output_type": "execute_result"
    }
   ],
   "source": [
    "from sklearn.linear_model import LogisticRegression\n",
    "clf_new = LogisticRegression(random_state=0).fit(X_train, y_train_1)\n",
    "clf_new.score(X_test,y_test)"
   ]
  },
  {
   "cell_type": "code",
   "execution_count": 47,
   "metadata": {
    "colab": {
     "base_uri": "https://localhost:8080/"
    },
    "id": "rWMYRKbIKp-O",
    "outputId": "438299aa-9c41-40fd-ead9-3883e4161605"
   },
   "outputs": [
    {
     "name": "stdout",
     "output_type": "stream",
     "text": [
      "calibration score:  0.014851168249226498\n"
     ]
    }
   ],
   "source": [
    "print(\"calibration score: \",abs(clf_new.score(X_test_b,y_test_b)-clf_new.score(X_test_w,y_test_w)))"
   ]
  },
  {
   "cell_type": "markdown",
   "metadata": {
    "id": "fRiYXp5_LXDb"
   },
   "source": [
    "# Algorithm: Local preferential sampling"
   ]
  },
  {
   "cell_type": "code",
   "execution_count": 48,
   "metadata": {
    "id": "UZuSGUy3LaZm"
   },
   "outputs": [
    {
     "name": "stderr",
     "output_type": "stream",
     "text": [
      "C:\\Users\\Kartik Kotian\\AppData\\Local\\Temp\\ipykernel_19100\\1728631107.py:1: FutureWarning: The behavior of `series[i:j]` with an integer-dtype index is deprecated. In a future version, this will be treated as *label-based* indexing, consistent with e.g. `series[i]` lookups. To retain the old behavior, use `series.iloc[i:j]`. To get the future behavior, use `series.loc[i:j]`.\n",
      "  index_p_to_n_m_u=X_train_m[(X_train_m[\"prob_1\"]>=0.5)&(X_train_m[\"race\"]==0)][\"prob_1\"].sort_values()[:int(delta_b_m/2)]\n",
      "C:\\Users\\Kartik Kotian\\AppData\\Local\\Temp\\ipykernel_19100\\1728631107.py:2: FutureWarning: The behavior of `series[i:j]` with an integer-dtype index is deprecated. In a future version, this will be treated as *label-based* indexing, consistent with e.g. `series[i]` lookups. To retain the old behavior, use `series.iloc[i:j]`. To get the future behavior, use `series.loc[i:j]`.\n",
      "  index_p_to_n_m_d=X_train_m[(X_train_m[\"prob_1\"]<0.5)&(X_train_m[\"race\"]==0)][\"prob_1\"].sort_values(ascending=False)[:int(delta_b_m/2)]\n",
      "C:\\Users\\Kartik Kotian\\AppData\\Local\\Temp\\ipykernel_19100\\1728631107.py:4: FutureWarning: The behavior of `series[i:j]` with an integer-dtype index is deprecated. In a future version, this will be treated as *label-based* indexing, consistent with e.g. `series[i]` lookups. To retain the old behavior, use `series.iloc[i:j]`. To get the future behavior, use `series.loc[i:j]`.\n",
      "  index_n_to_p_m_d=X_train_m[(X_train_m[\"prob_1\"]<0.5)&(X_train_m[\"race\"]==1)][\"prob_1\"].sort_values(ascending=False)[:int(delta_w_m/2)]\n",
      "C:\\Users\\Kartik Kotian\\AppData\\Local\\Temp\\ipykernel_19100\\1728631107.py:5: FutureWarning: The behavior of `series[i:j]` with an integer-dtype index is deprecated. In a future version, this will be treated as *label-based* indexing, consistent with e.g. `series[i]` lookups. To retain the old behavior, use `series.iloc[i:j]`. To get the future behavior, use `series.loc[i:j]`.\n",
      "  index_n_to_p_m_u=X_train_m[(X_train_m[\"prob_1\"]>=0.5)&(X_train_m[\"race\"]==1)][\"prob_1\"].sort_values()[:int(delta_w_m/2)]\n",
      "C:\\Users\\Kartik Kotian\\AppData\\Local\\Temp\\ipykernel_19100\\1728631107.py:7: FutureWarning: The behavior of `series[i:j]` with an integer-dtype index is deprecated. In a future version, this will be treated as *label-based* indexing, consistent with e.g. `series[i]` lookups. To retain the old behavior, use `series.iloc[i:j]`. To get the future behavior, use `series.loc[i:j]`.\n",
      "  index_p_to_n_f_u=X_train_f[(X_train_f[\"prob_1\"]>=0.5)&(X_train_f[\"race\"]==0)][\"prob_1\"].sort_values()[:int(delta_b_f/2)]\n",
      "C:\\Users\\Kartik Kotian\\AppData\\Local\\Temp\\ipykernel_19100\\1728631107.py:8: FutureWarning: The behavior of `series[i:j]` with an integer-dtype index is deprecated. In a future version, this will be treated as *label-based* indexing, consistent with e.g. `series[i]` lookups. To retain the old behavior, use `series.iloc[i:j]`. To get the future behavior, use `series.loc[i:j]`.\n",
      "  index_p_to_n_f_d=X_train_f[(X_train_f[\"prob_1\"]<0.5)&(X_train_f[\"race\"]==0)][\"prob_1\"].sort_values(ascending=False)[:int(delta_b_f/2)]\n",
      "C:\\Users\\Kartik Kotian\\AppData\\Local\\Temp\\ipykernel_19100\\1728631107.py:10: FutureWarning: The behavior of `series[i:j]` with an integer-dtype index is deprecated. In a future version, this will be treated as *label-based* indexing, consistent with e.g. `series[i]` lookups. To retain the old behavior, use `series.iloc[i:j]`. To get the future behavior, use `series.loc[i:j]`.\n",
      "  index_n_to_p_f_d=X_train_f[(X_train_f[\"prob_1\"]<0.5)&(X_train_f[\"race\"]==1)][\"prob_1\"].sort_values(ascending=False)[:int(delta_w_f/2)]\n",
      "C:\\Users\\Kartik Kotian\\AppData\\Local\\Temp\\ipykernel_19100\\1728631107.py:11: FutureWarning: The behavior of `series[i:j]` with an integer-dtype index is deprecated. In a future version, this will be treated as *label-based* indexing, consistent with e.g. `series[i]` lookups. To retain the old behavior, use `series.iloc[i:j]`. To get the future behavior, use `series.loc[i:j]`.\n",
      "  index_n_to_p_f_u=X_train_f[(X_train_f[\"prob_1\"]>=0.5)&(X_train_f[\"race\"]==1)][\"prob_1\"].sort_values()[:int(delta_w_f/2)]\n"
     ]
    }
   ],
   "source": [
    "index_p_to_n_m_u=X_train_m[(X_train_m[\"prob_1\"]>=0.5)&(X_train_m[\"race\"]==0)][\"prob_1\"].sort_values()[:int(delta_b_m/2)]\n",
    "index_p_to_n_m_d=X_train_m[(X_train_m[\"prob_1\"]<0.5)&(X_train_m[\"race\"]==0)][\"prob_1\"].sort_values(ascending=False)[:int(delta_b_m/2)]\n",
    "\n",
    "index_n_to_p_m_d=X_train_m[(X_train_m[\"prob_1\"]<0.5)&(X_train_m[\"race\"]==1)][\"prob_1\"].sort_values(ascending=False)[:int(delta_w_m/2)]\n",
    "index_n_to_p_m_u=X_train_m[(X_train_m[\"prob_1\"]>=0.5)&(X_train_m[\"race\"]==1)][\"prob_1\"].sort_values()[:int(delta_w_m/2)]\n",
    "\n",
    "index_p_to_n_f_u=X_train_f[(X_train_f[\"prob_1\"]>=0.5)&(X_train_f[\"race\"]==0)][\"prob_1\"].sort_values()[:int(delta_b_f/2)]\n",
    "index_p_to_n_f_d=X_train_f[(X_train_f[\"prob_1\"]<0.5)&(X_train_f[\"race\"]==0)][\"prob_1\"].sort_values(ascending=False)[:int(delta_b_f/2)]\n",
    "\n",
    "index_n_to_p_f_d=X_train_f[(X_train_f[\"prob_1\"]<0.5)&(X_train_f[\"race\"]==1)][\"prob_1\"].sort_values(ascending=False)[:int(delta_w_f/2)]\n",
    "index_n_to_p_f_u=X_train_f[(X_train_f[\"prob_1\"]>=0.5)&(X_train_f[\"race\"]==1)][\"prob_1\"].sort_values()[:int(delta_w_f/2)]"
   ]
  },
  {
   "cell_type": "code",
   "execution_count": 49,
   "metadata": {
    "id": "VZ9v6jpYM_QT"
   },
   "outputs": [],
   "source": [
    "X_train_1=X_train.copy()\n",
    "y_train_1=y_train.copy()\n",
    "df_new=pd.concat([X_train,y_train_1],axis=1)\n",
    "df_new.drop(index_p_to_n_m_d.index,inplace=True)\n",
    "df_new.drop(index_n_to_p_m_u.index,inplace=True)\n",
    "df_new.drop(index_p_to_n_f_d.index,inplace=True)\n",
    "df_new.drop(index_n_to_p_f_u.index,inplace=True)"
   ]
  },
  {
   "cell_type": "code",
   "execution_count": 50,
   "metadata": {
    "id": "We5aSq_SP-xU"
   },
   "outputs": [
    {
     "name": "stderr",
     "output_type": "stream",
     "text": [
      "C:\\Users\\Kartik Kotian\\AppData\\Local\\Temp\\ipykernel_19100\\2618995702.py:5: FutureWarning: The frame.append method is deprecated and will be removed from pandas in a future version. Use pandas.concat instead.\n",
      "  df_new_all=df_new.append([df_dup_1,df_dup_2,df_dup_3,df_dup_4])\n"
     ]
    }
   ],
   "source": [
    "df_dup_1=df_new[df_new.index.isin(index_p_to_n_m_u.index)]\n",
    "df_dup_2=df_new[df_new.index.isin(index_n_to_p_m_d.index)]\n",
    "df_dup_3=df_new[df_new.index.isin(index_p_to_n_f_u.index)]\n",
    "df_dup_4=df_new[df_new.index.isin(index_n_to_p_f_d.index)]\n",
    "df_new_all=df_new.append([df_dup_1,df_dup_2,df_dup_3,df_dup_4])"
   ]
  },
  {
   "cell_type": "code",
   "execution_count": 51,
   "metadata": {
    "colab": {
     "base_uri": "https://localhost:8080/"
    },
    "id": "wv_YIG3MOFtr",
    "outputId": "c98e4fdb-12e7-447e-83c3-c5df66eaf4b2"
   },
   "outputs": [
    {
     "name": "stdout",
     "output_type": "stream",
     "text": [
      "(3351, 10) (4392, 9) (4407, 10)\n",
      "580\n"
     ]
    }
   ],
   "source": [
    "print(df_new.shape,X_train_1.shape,df_new_all.shape)\n",
    "print(len(index_p_to_n_m_d))"
   ]
  },
  {
   "cell_type": "code",
   "execution_count": 52,
   "metadata": {
    "colab": {
     "base_uri": "https://localhost:8080/"
    },
    "id": "jgzoYgAkQux_",
    "outputId": "3a34653f-878c-4839-ae57-e33113061313"
   },
   "outputs": [
    {
     "name": "stdout",
     "output_type": "stream",
     "text": [
      "0.6951080773606371\n",
      "calibration score:  0.004598314307052154\n"
     ]
    }
   ],
   "source": [
    "from sklearn.linear_model import LogisticRegression\n",
    "clf_new = LogisticRegression(random_state=0).fit(df_new_all.drop(\"two_year_recid\",axis=1), df_new_all[\"two_year_recid\"])\n",
    "print(clf_new.score(X_test,y_test))\n",
    "print(\"calibration score: \",abs(clf_new.score(X_test_b,y_test_b)-clf_new.score(X_test_w,y_test_w)))"
   ]
  }
 ],
 "metadata": {
  "colab": {
   "provenance": []
  },
  "hide_input": false,
  "kernelspec": {
   "display_name": "Python 3 (ipykernel)",
   "language": "python",
   "name": "python3"
  },
  "language_info": {
   "codemirror_mode": {
    "name": "ipython",
    "version": 3
   },
   "file_extension": ".py",
   "mimetype": "text/x-python",
   "name": "python",
   "nbconvert_exporter": "python",
   "pygments_lexer": "ipython3",
   "version": "3.9.12"
  }
 },
 "nbformat": 4,
 "nbformat_minor": 1
}
