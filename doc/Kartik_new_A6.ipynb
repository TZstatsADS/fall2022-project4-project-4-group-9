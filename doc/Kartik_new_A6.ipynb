{
 "cells": [
  {
   "cell_type": "code",
   "execution_count": 45,
   "metadata": {
    "id": "k1WHo4Iddz7l"
   },
   "outputs": [],
   "source": [
    "import pandas as pd\n",
    "import numpy as np\n",
    "df= pd.read_csv(\"compas-scores-two-years.csv\")\n",
    "df = df.loc[df[\"race\"].isin([\"African-American\", \"Caucasian\"])]\n",
    "df[\"race\"].replace(['African-American', 'Caucasian'],[0, 1], inplace=True)\n",
    "df[\"score_text\"].replace([\"Low\",\"Medium\",\"High\"],[0,1,2],inplace=True)\n",
    "df[\"sex\"].replace([\"Male\",\"Female\"],[0,1],inplace=True)\n",
    "df[\"c_charge_degree\"].replace([\"M\",\"F\"],[0,1],inplace=True)\n",
    "df[\"priors_count\"] = np.where(df['priors_count'] > 0, 1, 0)\n",
    "juv_cond = (df['juv_fel_count'] > 0) | (df['juv_misd_count'] > 0) | (df['juv_other_count'] > 0)\n",
    "df['juv_count'] = np.where(juv_cond, 1, 0)"
   ]
  },
  {
   "cell_type": "code",
   "execution_count": 46,
   "metadata": {
    "colab": {
     "base_uri": "https://localhost:8080/"
    },
    "id": "4lSZo05Gd_Lo",
    "outputId": "43ec5e0a-e1ff-4f17-c958-71a6ab41480a"
   },
   "outputs": [
    {
     "name": "stdout",
     "output_type": "stream",
     "text": [
      "(5271, 7) (5271,) (879, 7) (879,)\n",
      "(4392, 7) (4392,) (879, 7) (879,)\n"
     ]
    }
   ],
   "source": [
    "y = df[\"two_year_recid\"]\n",
    "X = pd.DataFrame(df, columns=[\"race\",\"age\",\"priors_count\",\"juv_count\",'score_text',\"sex\",\"c_charge_degree\"])\n",
    "from sklearn.model_selection import train_test_split\n",
    "X_train, X_test, y_train, y_test=train_test_split(X,y,test_size=1/7, random_state=42, stratify=y)\n",
    "print(X_train.shape, y_train.shape, X_test.shape, y_test.shape)\n",
    "X_train, X_valid, y_train, y_valid=train_test_split(X_train,y_train,test_size=879, random_state=42, stratify=y_train)\n",
    "print(X_train.shape, y_train.shape, X_valid.shape, y_valid.shape)"
   ]
  },
  {
   "cell_type": "markdown",
   "metadata": {
    "id": "5XH3AmE1wide"
   },
   "source": [
    "#Baseline"
   ]
  },
  {
   "cell_type": "code",
   "execution_count": 47,
   "metadata": {
    "colab": {
     "base_uri": "https://localhost:8080/"
    },
    "id": "d798yW5oeKVK",
    "outputId": "050ead0b-acb4-4498-d792-d888c44543a3"
   },
   "outputs": [
    {
     "data": {
      "text/plain": [
       "0.6791808873720137"
      ]
     },
     "execution_count": 47,
     "metadata": {},
     "output_type": "execute_result"
    }
   ],
   "source": [
    "from sklearn.linear_model import LogisticRegression\n",
    "clf = LogisticRegression(random_state=0).fit(X_train, y_train)\n",
    "clf.score(X_test,y_test)"
   ]
  },
  {
   "cell_type": "code",
   "execution_count": 48,
   "metadata": {
    "colab": {
     "base_uri": "https://localhost:8080/"
    },
    "id": "FGlQZYBunn4q",
    "outputId": "bcbedda7-3348-41a0-f4f6-180ce3466475"
   },
   "outputs": [
    {
     "name": "stdout",
     "output_type": "stream",
     "text": [
      "(515, 7) (364, 7)\n"
     ]
    }
   ],
   "source": [
    "index_b= (X_test[\"race\"]==0)\n",
    "X_test_b=X_test[index_b]\n",
    "y_test_b=y_test[index_b]\n",
    "X_test_w=X_test[-index_b]\n",
    "y_test_w=y_test[-index_b]\n",
    "print(X_test_b.shape,X_test_w.shape)"
   ]
  },
  {
   "cell_type": "code",
   "execution_count": 49,
   "metadata": {
    "colab": {
     "base_uri": "https://localhost:8080/"
    },
    "id": "P-PpERnWKhIZ",
    "outputId": "fdb86408-6efd-49cf-eb7a-e62f12994944"
   },
   "outputs": [
    {
     "name": "stdout",
     "output_type": "stream",
     "text": [
      "(2638, 7) (1754, 7)\n"
     ]
    }
   ],
   "source": [
    "index_b= (X_train[\"race\"]==0)\n",
    "X_train_b=X_train[index_b]\n",
    "y_train_b=y_train[index_b]\n",
    "X_train_w=X_train[-index_b]\n",
    "y_train_w=y_train[-index_b]\n",
    "print(X_train_b.shape,X_train_w.shape)"
   ]
  },
  {
   "cell_type": "code",
   "execution_count": 50,
   "metadata": {
    "colab": {
     "base_uri": "https://localhost:8080/"
    },
    "id": "os9zoVlwv_hn",
    "outputId": "45567f5a-3117-41c2-ffc4-87b0074ec91a"
   },
   "outputs": [
    {
     "name": "stdout",
     "output_type": "stream",
     "text": [
      "0.6621359223300971\n",
      "0.7032967032967034\n",
      "calibration score:  0.04116078096660625\n"
     ]
    }
   ],
   "source": [
    "#calibration\n",
    "print(clf.score(X_test_b,y_test_b))\n",
    "print(clf.score(X_test_w,y_test_w))\n",
    "print(\"calibration score: \",abs(clf.score(X_test_b,y_test_b)-clf.score(X_test_w,y_test_w)))"
   ]
  },
  {
   "cell_type": "markdown",
   "metadata": {
    "id": "ZCvk4rRGwmW9"
   },
   "source": [
    "#Determine e"
   ]
  },
  {
   "cell_type": "code",
   "execution_count": 51,
   "metadata": {
    "colab": {
     "base_uri": "https://localhost:8080/"
    },
    "id": "jsb2K-Etwo19",
    "outputId": "d5efd089-9a82-4b4d-ba8e-17f4b589469b"
   },
   "outputs": [
    {
     "name": "stdout",
     "output_type": "stream",
     "text": [
      "0.5041698256254739\n",
      "0.2611174458380844\n",
      "D_all: 0.24305237978738947\n"
     ]
    }
   ],
   "source": [
    "import numpy as np\n",
    "print(np.sum(clf.predict(X_train_b)==1)/len(X_train_b))\n",
    "print(np.sum(clf.predict(X_train_w)==1)/len(X_train_w))\n",
    "D_all=np.sum(clf.predict(X_train_b)==1)/len(X_train_b)-np.sum(clf.predict(X_train_w)==1)/len(X_train_w)\n",
    "print(\"D_all:\", D_all)"
   ]
  },
  {
   "cell_type": "code",
   "execution_count": 52,
   "metadata": {
    "id": "rSwxZCINHI1W"
   },
   "outputs": [],
   "source": [
    "def D_bad_function(x):\n",
    "    \n",
    "    # Making male and female subsets of black people:\n",
    "    B_dataset = X_train_b.groupby(x)\n",
    "    W_dataset = X_train_w.groupby(x)\n",
    "\n",
    "    # Total unique values in \"sex\" column\n",
    "    n = np.sum(B_dataset[x].nunique())\n",
    "    \n",
    "    e = []\n",
    "    for i in range(n):\n",
    "        e.append((np.sum(clf.predict(B_dataset.get_group(i))==1)/len(B_dataset.get_group(i))+np.sum(clf.predict(W_dataset.get_group(i))==1)/len(W_dataset.get_group(i)))/n)\n",
    "\n",
    "    d = []\n",
    "    for i in range(n):\n",
    "        d.append((len(B_dataset.get_group(i))/len(X_train_b)-len(W_dataset.get_group(i))/len(X_train_w))*e[i])\n",
    "    \n",
    "    D_exp = np.sum(d)\n",
    "    \n",
    "    return(D_all-D_exp)"
   ]
  },
  {
   "cell_type": "code",
   "execution_count": 53,
   "metadata": {
    "id": "mv4HYCFjHWhM"
   },
   "outputs": [],
   "source": [
    "D_bad_all=[D_bad_function(\"sex\"),D_bad_function(\"priors_count\"),D_bad_function(\"juv_count\"),\n",
    "           D_bad_function(\"c_charge_degree\"),D_bad_function(\"score_text\")]"
   ]
  },
  {
   "cell_type": "code",
   "execution_count": 54,
   "metadata": {
    "colab": {
     "base_uri": "https://localhost:8080/",
     "height": 481
    },
    "id": "AWOlnqBNIVCB",
    "outputId": "477123ad-641e-4786-dc52-3056aff6f974"
   },
   "outputs": [
    {
     "data": {
      "text/plain": [
       "([<matplotlib.axis.XTick at 0x1875e326100>,\n",
       "  <matplotlib.axis.XTick at 0x1875e3260d0>,\n",
       "  <matplotlib.axis.XTick at 0x1875e30cf10>,\n",
       "  <matplotlib.axis.XTick at 0x187668521c0>,\n",
       "  <matplotlib.axis.XTick at 0x18766852910>],\n",
       " [Text(0.0, 0, 'sex'),\n",
       "  Text(1.0, 0, 'priors_count'),\n",
       "  Text(2.0, 0, 'juv_count'),\n",
       "  Text(3.0, 0, 'c_charge_degree'),\n",
       "  Text(4.0, 0, 'score_text')])"
      ]
     },
     "execution_count": 54,
     "metadata": {},
     "output_type": "execute_result"
    },
    {
     "data": {
      "image/png": "[encoded data removed]",
      "text/plain": [
       "<Figure size 640x480 with 1 Axes>"
      ]
     },
     "metadata": {},
     "output_type": "display_data"
    }
   ],
   "source": [
    "import matplotlib.pyplot as plt\n",
    "plt.plot(D_bad_all)\n",
    "plt.axhline(y = D_all, color = 'r', linestyle = '-')\n",
    "plt.ylim([0,0.3])\n",
    "plt.legend([\"D_bad\",\"D_all\"])\n",
    "plt.xticks([0.0,1.0,2.0,3.0,4.0],[\"sex\",\"priors_count\",\"juv_count\",\"c_charge_degree\",\"score_text\"],rotation=30)"
   ]
  },
  {
   "cell_type": "code",
   "execution_count": 55,
   "metadata": {
    "colab": {
     "base_uri": "https://localhost:8080/"
    },
    "id": "WlWoh7Mk5kIy",
    "outputId": "1a4acd7c-603c-477c-fcc5-a9415029d544"
   },
   "outputs": [
    {
     "data": {
      "text/plain": [
       "'index_b_m= (X_test_b[\"sex\"]==0)\\nX_test_b_m=X_test_b[index_b_m]\\ny_test_b_m=y_test_b[index_b_m]\\nX_test_b_f=X_test_b[-index_b_m]\\ny_test_b_f=y_test_b[-index_b_m]\\n\\nindex_w_m= (X_test_w[\"sex\"]==0)\\nX_test_w_m=X_test_w[index_w_m]\\ny_test_w_m=y_test_w[index_w_m]\\nX_test_w_f=X_test_w[-index_w_m]\\ny_test_w_f=y_test_w[-index_w_m]\\nprint(X_test_b_m.shape,X_test_b_f.shape,X_test_w_m.shape,X_test_w_f.shape)'"
      ]
     },
     "execution_count": 55,
     "metadata": {},
     "output_type": "execute_result"
    }
   ],
   "source": [
    "'''index_b_m= (X_test_b[\"sex\"]==0)\n",
    "X_test_b_m=X_test_b[index_b_m]\n",
    "y_test_b_m=y_test_b[index_b_m]\n",
    "X_test_b_f=X_test_b[-index_b_m]\n",
    "y_test_b_f=y_test_b[-index_b_m]\n",
    "\n",
    "index_w_m= (X_test_w[\"sex\"]==0)\n",
    "X_test_w_m=X_test_w[index_w_m]\n",
    "y_test_w_m=y_test_w[index_w_m]\n",
    "X_test_w_f=X_test_w[-index_w_m]\n",
    "y_test_w_f=y_test_w[-index_w_m]\n",
    "print(X_test_b_m.shape,X_test_b_f.shape,X_test_w_m.shape,X_test_w_f.shape)'''"
   ]
  },
  {
   "cell_type": "markdown",
   "metadata": {
    "id": "L5D4LqW390kY"
   },
   "source": [
    "# Algorithm: Local massaging"
   ]
  },
  {
   "cell_type": "code",
   "execution_count": 56,
   "metadata": {
    "colab": {
     "base_uri": "https://localhost:8080/"
    },
    "id": "_iUloSfy92jD",
    "outputId": "f5c0e0ff-b924-415b-d5de-a31ff3dbb0c3"
   },
   "outputs": [
    {
     "name": "stdout",
     "output_type": "stream",
     "text": [
      "(2214, 7) (1245, 7) (933, 7)\n"
     ]
    }
   ],
   "source": [
    "#split X_train into different sex, 0:low, 1:medium, 2:high\n",
    "index_0= (X_train[\"score_text\"]==0)\n",
    "X_train_0=X_train[index_0]\n",
    "y_train_0=y_train[index_0]\n",
    "index_1= (X_train[\"score_text\"]==1)\n",
    "X_train_1=X_train[index_1]\n",
    "y_train_1=y_train[index_1]\n",
    "index_2= (X_train[\"score_text\"]==2)\n",
    "X_train_2=X_train[index_2]\n",
    "y_train_2=y_train[index_2]\n",
    "print(X_train_0.shape,X_train_1.shape,X_train_2.shape)"
   ]
  },
  {
   "cell_type": "code",
   "execution_count": 57,
   "metadata": {
    "id": "uak2iAZeCUJB"
   },
   "outputs": [],
   "source": [
    "from sklearn.linear_model import LogisticRegression\n",
    "clf_0 = LogisticRegression(random_state=0).fit(X_train_0, y_train_0)\n",
    "clf_1 = LogisticRegression(random_state=0).fit(X_train_1, y_train_1)\n",
    "clf_2 = LogisticRegression(random_state=0).fit(X_train_2, y_train_2)"
   ]
  },
  {
   "cell_type": "code",
   "execution_count": 58,
   "metadata": {
    "colab": {
     "base_uri": "https://localhost:8080/"
    },
    "id": "9wdKPzdM-PWo",
    "outputId": "ed99a87c-2664-495f-f325-f12e98a3d0e7"
   },
   "outputs": [
    {
     "name": "stderr",
     "output_type": "stream",
     "text": [
      "C:\\Users\\Kartik Kotian\\AppData\\Local\\Temp\\ipykernel_14320\\2565061340.py:2: SettingWithCopyWarning: \n",
      "A value is trying to be set on a copy of a slice from a DataFrame.\n",
      "Try using .loc[row_indexer,col_indexer] = value instead\n",
      "\n",
      "See the caveats in the documentation: https://pandas.pydata.org/pandas-docs/stable/user_guide/indexing.html#returning-a-view-versus-a-copy\n",
      "  X_train_0[\"prob_0\"],X_train_0[\"prob_1\"]=clf_0.predict_proba(X_train_0)[:,0],clf_0.predict_proba(X_train_0)[:,1]\n",
      "C:\\Users\\Kartik Kotian\\AppData\\Local\\Temp\\ipykernel_14320\\2565061340.py:2: SettingWithCopyWarning: \n",
      "A value is trying to be set on a copy of a slice from a DataFrame.\n",
      "Try using .loc[row_indexer,col_indexer] = value instead\n",
      "\n",
      "See the caveats in the documentation: https://pandas.pydata.org/pandas-docs/stable/user_guide/indexing.html#returning-a-view-versus-a-copy\n",
      "  X_train_0[\"prob_0\"],X_train_0[\"prob_1\"]=clf_0.predict_proba(X_train_0)[:,0],clf_0.predict_proba(X_train_0)[:,1]\n",
      "C:\\Users\\Kartik Kotian\\AppData\\Local\\Temp\\ipykernel_14320\\2565061340.py:3: SettingWithCopyWarning: \n",
      "A value is trying to be set on a copy of a slice from a DataFrame.\n",
      "Try using .loc[row_indexer,col_indexer] = value instead\n",
      "\n",
      "See the caveats in the documentation: https://pandas.pydata.org/pandas-docs/stable/user_guide/indexing.html#returning-a-view-versus-a-copy\n",
      "  X_train_1[\"prob_0\"],X_train_1[\"prob_1\"]=clf_1.predict_proba(X_train_1)[:,0],clf_1.predict_proba(X_train_1)[:,1]\n",
      "C:\\Users\\Kartik Kotian\\AppData\\Local\\Temp\\ipykernel_14320\\2565061340.py:3: SettingWithCopyWarning: \n",
      "A value is trying to be set on a copy of a slice from a DataFrame.\n",
      "Try using .loc[row_indexer,col_indexer] = value instead\n",
      "\n",
      "See the caveats in the documentation: https://pandas.pydata.org/pandas-docs/stable/user_guide/indexing.html#returning-a-view-versus-a-copy\n",
      "  X_train_1[\"prob_0\"],X_train_1[\"prob_1\"]=clf_1.predict_proba(X_train_1)[:,0],clf_1.predict_proba(X_train_1)[:,1]\n",
      "C:\\Users\\Kartik Kotian\\AppData\\Local\\Temp\\ipykernel_14320\\2565061340.py:4: SettingWithCopyWarning: \n",
      "A value is trying to be set on a copy of a slice from a DataFrame.\n",
      "Try using .loc[row_indexer,col_indexer] = value instead\n",
      "\n",
      "See the caveats in the documentation: https://pandas.pydata.org/pandas-docs/stable/user_guide/indexing.html#returning-a-view-versus-a-copy\n",
      "  X_train_2[\"prob_0\"],X_train_2[\"prob_1\"]=clf_2.predict_proba(X_train_2)[:,0],clf_2.predict_proba(X_train_2)[:,1]\n",
      "C:\\Users\\Kartik Kotian\\AppData\\Local\\Temp\\ipykernel_14320\\2565061340.py:4: SettingWithCopyWarning: \n",
      "A value is trying to be set on a copy of a slice from a DataFrame.\n",
      "Try using .loc[row_indexer,col_indexer] = value instead\n",
      "\n",
      "See the caveats in the documentation: https://pandas.pydata.org/pandas-docs/stable/user_guide/indexing.html#returning-a-view-versus-a-copy\n",
      "  X_train_2[\"prob_0\"],X_train_2[\"prob_1\"]=clf_2.predict_proba(X_train_2)[:,0],clf_2.predict_proba(X_train_2)[:,1]\n"
     ]
    }
   ],
   "source": [
    "#get probability for logistic regression\n",
    "X_train_0[\"prob_0\"],X_train_0[\"prob_1\"]=clf_0.predict_proba(X_train_0)[:,0],clf_0.predict_proba(X_train_0)[:,1]\n",
    "X_train_1[\"prob_0\"],X_train_1[\"prob_1\"]=clf_1.predict_proba(X_train_1)[:,0],clf_1.predict_proba(X_train_1)[:,1]\n",
    "X_train_2[\"prob_0\"],X_train_2[\"prob_1\"]=clf_2.predict_proba(X_train_2)[:,0],clf_2.predict_proba(X_train_2)[:,1]"
   ]
  },
  {
   "cell_type": "code",
   "execution_count": 59,
   "metadata": {
    "colab": {
     "base_uri": "https://localhost:8080/"
    },
    "id": "7UOqPdAZC3Kv",
    "outputId": "7b0ea148-7e90-4444-b553-27509868e5df"
   },
   "outputs": [
    {
     "name": "stdout",
     "output_type": "stream",
     "text": [
      "(2638, 7) (1754, 7)\n"
     ]
    }
   ],
   "source": [
    "index_b= (X_train[\"race\"]==0)\n",
    "X_train_b=X_train[index_b]\n",
    "y_train_b=y_train[index_b]\n",
    "X_train_w=X_train[-index_b]\n",
    "y_train_w=y_train[-index_b]\n",
    "print(X_train_b.shape,X_train_w.shape)"
   ]
  },
  {
   "cell_type": "code",
   "execution_count": 60,
   "metadata": {
    "colab": {
     "base_uri": "https://localhost:8080/"
    },
    "id": "QUfG1gGxDM0_",
    "outputId": "aa33c9c3-7fc1-445a-c3c6-ce134a656587"
   },
   "outputs": [
    {
     "name": "stdout",
     "output_type": "stream",
     "text": [
      "(1089, 7) (813, 7) (736, 7) (1125, 7) (432, 7) (197, 7)\n"
     ]
    }
   ],
   "source": [
    "index_b_0= (X_train_b[\"score_text\"]==0)\n",
    "X_train_b_0=X_train_b[index_b_0]\n",
    "y_train_b_0=y_train_b[index_b_0]\n",
    "index_b_1= (X_train_b[\"score_text\"]==1)\n",
    "X_train_b_1=X_train_b[index_b_1]\n",
    "y_train_b_1=y_train_b[index_b_1]\n",
    "index_b_2= (X_train_b[\"score_text\"]==2)\n",
    "X_train_b_2=X_train_b[index_b_2]\n",
    "y_train_b_2=y_train_b[index_b_2]\n",
    "\n",
    "index_w_0= (X_train_w[\"score_text\"]==0)\n",
    "X_train_w_0=X_train_w[index_w_0]\n",
    "y_train_w_0=y_train_w[index_w_0]\n",
    "index_w_1= (X_train_w[\"score_text\"]==1)\n",
    "X_train_w_1=X_train_w[index_w_1]\n",
    "y_train_w_1=y_train_w[index_w_1]\n",
    "index_w_2= (X_train_w[\"score_text\"]==2)\n",
    "X_train_w_2=X_train_w[index_w_2]\n",
    "y_train_w_2=y_train_w[index_w_2]\n",
    "\n",
    "print(X_train_b_0.shape,X_train_b_1.shape,X_train_b_2.shape,X_train_w_0.shape,X_train_w_1.shape,X_train_w_2.shape)"
   ]
  },
  {
   "cell_type": "code",
   "execution_count": 61,
   "metadata": {
    "id": "syCgHsfxDnop"
   },
   "outputs": [],
   "source": [
    "#e_0\n",
    "p_plus_e_0=(np.sum(clf_0.predict(X_train_b_0)==1)/len(X_train_b_0)+np.sum(clf_0.predict(X_train_w_0)==1)/len(X_train_w_0))/2\n",
    "#e_1\n",
    "p_plus_e_1=(np.sum(clf_1.predict(X_train_b_1)==1)/len(X_train_b_1)+np.sum(clf_1.predict(X_train_w_1)==1)/len(X_train_w_1))/2\n",
    "#e_2\n",
    "p_plus_e_2=(np.sum(clf_2.predict(X_train_b_2)==1)/len(X_train_b_2)+np.sum(clf_2.predict(X_train_w_2)==1)/len(X_train_w_2))/2"
   ]
  },
  {
   "cell_type": "code",
   "execution_count": 62,
   "metadata": {
    "colab": {
     "base_uri": "https://localhost:8080/"
    },
    "id": "R8vIDZH0CmJj",
    "outputId": "1bfbefcd-2c7b-4de8-e99a-96db8f1632d4"
   },
   "outputs": [
    {
     "name": "stdout",
     "output_type": "stream",
     "text": [
      "35 36 28 15 2 0\n"
     ]
    }
   ],
   "source": [
    "\n",
    "delta_b_0=abs(int(len(X_train_b_0)*(np.sum(clf_0.predict(X_train_b_0)==1)/len(X_train_b_0)-p_plus_e_0)))\n",
    "delta_w_0=abs(int(len(X_train_w_0)*(np.sum(clf_0.predict(X_train_w_0)==1)/len(X_train_w_0)-p_plus_e_0)))\n",
    "\n",
    "delta_b_1=abs(int(len(X_train_b_1)*(np.sum(clf_1.predict(X_train_b_1)==1)/len(X_train_b_1)-p_plus_e_1)))\n",
    "delta_w_1=abs(int(len(X_train_w_1)*(np.sum(clf_1.predict(X_train_w_1)==1)/len(X_train_w_1)-p_plus_e_1)))\n",
    "\n",
    "delta_b_2=abs(int(len(X_train_b_2)*(np.sum(clf_2.predict(X_train_b_2)==1)/len(X_train_b_2)-p_plus_e_2)))\n",
    "delta_w_2=abs(int(len(X_train_w_2)*(np.sum(clf_2.predict(X_train_w_2)==1)/len(X_train_w_2)-p_plus_e_2)))\n",
    "print(delta_b_0,delta_w_0,delta_b_1,delta_w_1,delta_b_2,delta_w_2)"
   ]
  },
  {
   "cell_type": "code",
   "execution_count": 63,
   "metadata": {
    "id": "gLVnUiyX6FlV"
   },
   "outputs": [
    {
     "name": "stderr",
     "output_type": "stream",
     "text": [
      "C:\\Users\\Kartik Kotian\\AppData\\Local\\Temp\\ipykernel_14320\\1690267328.py:1: FutureWarning: The behavior of `series[i:j]` with an integer-dtype index is deprecated. In a future version, this will be treated as *label-based* indexing, consistent with e.g. `series[i]` lookups. To retain the old behavior, use `series.iloc[i:j]`. To get the future behavior, use `series.loc[i:j]`.\n",
      "  index_p_to_n_0=X_train_0[(X_train_0[\"prob_1\"]>=0.5)&(X_train_0[\"race\"]==0)][\"prob_1\"].sort_values()[:delta_b_0]\n",
      "C:\\Users\\Kartik Kotian\\AppData\\Local\\Temp\\ipykernel_14320\\1690267328.py:2: FutureWarning: The behavior of `series[i:j]` with an integer-dtype index is deprecated. In a future version, this will be treated as *label-based* indexing, consistent with e.g. `series[i]` lookups. To retain the old behavior, use `series.iloc[i:j]`. To get the future behavior, use `series.loc[i:j]`.\n",
      "  index_n_to_p_0=X_train_0[(X_train_0[\"prob_1\"]<0.5)&(X_train_0[\"race\"]==1)][\"prob_1\"].sort_values(ascending=False)[:delta_w_0]\n",
      "C:\\Users\\Kartik Kotian\\AppData\\Local\\Temp\\ipykernel_14320\\1690267328.py:4: FutureWarning: The behavior of `series[i:j]` with an integer-dtype index is deprecated. In a future version, this will be treated as *label-based* indexing, consistent with e.g. `series[i]` lookups. To retain the old behavior, use `series.iloc[i:j]`. To get the future behavior, use `series.loc[i:j]`.\n",
      "  index_p_to_n_1=X_train_1[(X_train_1[\"prob_1\"]>=0.5)&(X_train_1[\"race\"]==0)][\"prob_1\"].sort_values()[:delta_b_1]\n",
      "C:\\Users\\Kartik Kotian\\AppData\\Local\\Temp\\ipykernel_14320\\1690267328.py:5: FutureWarning: The behavior of `series[i:j]` with an integer-dtype index is deprecated. In a future version, this will be treated as *label-based* indexing, consistent with e.g. `series[i]` lookups. To retain the old behavior, use `series.iloc[i:j]`. To get the future behavior, use `series.loc[i:j]`.\n",
      "  index_n_to_p_1=X_train_1[(X_train_1[\"prob_1\"]<0.5)&(X_train_1[\"race\"]==1)][\"prob_1\"].sort_values(ascending=False)[:delta_w_1]\n",
      "C:\\Users\\Kartik Kotian\\AppData\\Local\\Temp\\ipykernel_14320\\1690267328.py:7: FutureWarning: The behavior of `series[i:j]` with an integer-dtype index is deprecated. In a future version, this will be treated as *label-based* indexing, consistent with e.g. `series[i]` lookups. To retain the old behavior, use `series.iloc[i:j]`. To get the future behavior, use `series.loc[i:j]`.\n",
      "  index_p_to_n_2=X_train_2[(X_train_2[\"prob_1\"]>=0.5)&(X_train_2[\"race\"]==0)][\"prob_1\"].sort_values()[:delta_b_2]\n",
      "C:\\Users\\Kartik Kotian\\AppData\\Local\\Temp\\ipykernel_14320\\1690267328.py:8: FutureWarning: The behavior of `series[i:j]` with an integer-dtype index is deprecated. In a future version, this will be treated as *label-based* indexing, consistent with e.g. `series[i]` lookups. To retain the old behavior, use `series.iloc[i:j]`. To get the future behavior, use `series.loc[i:j]`.\n",
      "  index_n_to_p_2=X_train_2[(X_train_2[\"prob_1\"]<0.5)&(X_train_2[\"race\"]==1)][\"prob_1\"].sort_values(ascending=False)[:delta_w_2]\n"
     ]
    }
   ],
   "source": [
    "index_p_to_n_0=X_train_0[(X_train_0[\"prob_1\"]>=0.5)&(X_train_0[\"race\"]==0)][\"prob_1\"].sort_values()[:delta_b_0]\n",
    "index_n_to_p_0=X_train_0[(X_train_0[\"prob_1\"]<0.5)&(X_train_0[\"race\"]==1)][\"prob_1\"].sort_values(ascending=False)[:delta_w_0]\n",
    "\n",
    "index_p_to_n_1=X_train_1[(X_train_1[\"prob_1\"]>=0.5)&(X_train_1[\"race\"]==0)][\"prob_1\"].sort_values()[:delta_b_1]\n",
    "index_n_to_p_1=X_train_1[(X_train_1[\"prob_1\"]<0.5)&(X_train_1[\"race\"]==1)][\"prob_1\"].sort_values(ascending=False)[:delta_w_1]\n",
    "\n",
    "index_p_to_n_2=X_train_2[(X_train_2[\"prob_1\"]>=0.5)&(X_train_2[\"race\"]==0)][\"prob_1\"].sort_values()[:delta_b_2]\n",
    "index_n_to_p_2=X_train_2[(X_train_2[\"prob_1\"]<0.5)&(X_train_2[\"race\"]==1)][\"prob_1\"].sort_values(ascending=False)[:delta_w_2]"
   ]
  },
  {
   "cell_type": "code",
   "execution_count": 64,
   "metadata": {
    "id": "zg4Ypy-sEfXw"
   },
   "outputs": [],
   "source": [
    "y_train_new=y_train.copy()\n",
    "y_train_new[y_train_new.index.isin(index_p_to_n_0.index)]=0\n",
    "y_train_new[y_train_new.index.isin(index_n_to_p_0.index)]=1\n",
    "y_train_new[y_train_new.index.isin(index_p_to_n_1.index)]=0\n",
    "y_train_new[y_train_new.index.isin(index_n_to_p_1.index)]=1\n",
    "y_train_new[y_train_new.index.isin(index_p_to_n_2.index)]=0\n",
    "y_train_new[y_train_new.index.isin(index_n_to_p_2.index)]=1"
   ]
  },
  {
   "cell_type": "code",
   "execution_count": 65,
   "metadata": {
    "colab": {
     "base_uri": "https://localhost:8080/"
    },
    "id": "bD8pi4ANJl3s",
    "outputId": "850427cf-fe92-4b86-9d74-92d68f760161"
   },
   "outputs": [
    {
     "data": {
      "text/plain": [
       "0.6723549488054608"
      ]
     },
     "execution_count": 65,
     "metadata": {},
     "output_type": "execute_result"
    }
   ],
   "source": [
    "from sklearn.linear_model import LogisticRegression\n",
    "clf_new = LogisticRegression(random_state=0).fit(X_train, y_train_new)\n",
    "clf_new.score(X_test,y_test)"
   ]
  },
  {
   "cell_type": "code",
   "execution_count": 66,
   "metadata": {
    "colab": {
     "base_uri": "https://localhost:8080/"
    },
    "id": "rWMYRKbIKp-O",
    "outputId": "6bb2f043-0916-472e-9c64-efb07d10ef9d"
   },
   "outputs": [
    {
     "name": "stdout",
     "output_type": "stream",
     "text": [
      "calibration score:  0.048122266083431064\n"
     ]
    }
   ],
   "source": [
    "print(\"calibration score: \",abs(clf_new.score(X_test_b,y_test_b)-clf_new.score(X_test_w,y_test_w)))"
   ]
  },
  {
   "cell_type": "code",
   "execution_count": null,
   "metadata": {},
   "outputs": [],
   "source": []
  },
  {
   "cell_type": "code",
   "execution_count": null,
   "metadata": {},
   "outputs": [],
   "source": []
  },
  {
   "cell_type": "markdown",
   "metadata": {
    "id": "fRiYXp5_LXDb"
   },
   "source": [
    "# Algorithm: Local preferential sampling"
   ]
  },
  {
   "cell_type": "code",
   "execution_count": null,
   "metadata": {
    "id": "UZuSGUy3LaZm"
   },
   "outputs": [],
   "source": [
    "index_p_to_n_0_u=X_train_0[(X_train_m[\"prob_1\"]>=0.5)&(X_train_m[\"race\"]==0)][\"prob_1\"].sort_values()[:int(delta_b_m/2)]\n",
    "index_p_to_n_0_d=X_train_0[(X_train_m[\"prob_1\"]<0.5)&(X_train_m[\"race\"]==0)][\"prob_1\"].sort_values(ascending=False)[:int(delta_b_m/2)]\n",
    "\n",
    "index_n_to_p_m_d=X_train_m[(X_train_m[\"prob_1\"]<0.5)&(X_train_m[\"race\"]==1)][\"prob_1\"].sort_values(ascending=False)[:int(delta_w_m/2)]\n",
    "index_n_to_p_m_u=X_train_m[(X_train_m[\"prob_1\"]>=0.5)&(X_train_m[\"race\"]==1)][\"prob_1\"].sort_values()[:int(delta_w_m/2)]\n",
    "\n",
    "index_p_to_n_f_u=X_train_f[(X_train_f[\"prob_1\"]>=0.5)&(X_train_f[\"race\"]==0)][\"prob_1\"].sort_values()[:int(delta_b_f/2)]\n",
    "index_p_to_n_f_d=X_train_f[(X_train_f[\"prob_1\"]<0.5)&(X_train_f[\"race\"]==0)][\"prob_1\"].sort_values(ascending=False)[:int(delta_b_f/2)]\n",
    "\n",
    "index_n_to_p_f_d=X_train_f[(X_train_f[\"prob_1\"]<0.5)&(X_train_f[\"race\"]==1)][\"prob_1\"].sort_values(ascending=False)[:int(delta_w_f/2)]\n",
    "index_n_to_p_f_u=X_train_f[(X_train_f[\"prob_1\"]>=0.5)&(X_train_f[\"race\"]==1)][\"prob_1\"].sort_values()[:int(delta_w_f/2)]"
   ]
  },
  {
   "cell_type": "code",
   "execution_count": null,
   "metadata": {
    "id": "VZ9v6jpYM_QT"
   },
   "outputs": [],
   "source": [
    "X_train_1=X_train.copy()\n",
    "y_train_1=y_train.copy()\n",
    "df_new=pd.concat([X_train,y_train_1],axis=1)\n",
    "df_new.drop(index_p_to_n_m_d.index,inplace=True)\n",
    "df_new.drop(index_n_to_p_m_u.index,inplace=True)\n",
    "df_new.drop(index_p_to_n_f_d.index,inplace=True)\n",
    "df_new.drop(index_n_to_p_f_u.index,inplace=True)"
   ]
  },
  {
   "cell_type": "code",
   "execution_count": null,
   "metadata": {
    "id": "We5aSq_SP-xU"
   },
   "outputs": [],
   "source": [
    "df_dup_1=df_new[df_new.index.isin(index_p_to_n_m_u.index)]\n",
    "df_dup_2=df_new[df_new.index.isin(index_n_to_p_m_d.index)]\n",
    "df_dup_3=df_new[df_new.index.isin(index_p_to_n_f_u.index)]\n",
    "df_dup_4=df_new[df_new.index.isin(index_n_to_p_f_d.index)]\n",
    "df_new_all=df_new.append([df_dup_1,df_dup_2,df_dup_3,df_dup_4])"
   ]
  },
  {
   "cell_type": "code",
   "execution_count": null,
   "metadata": {
    "colab": {
     "base_uri": "https://localhost:8080/"
    },
    "id": "wv_YIG3MOFtr",
    "outputId": "c98e4fdb-12e7-447e-83c3-c5df66eaf4b2"
   },
   "outputs": [
    {
     "name": "stdout",
     "output_type": "stream",
     "text": [
      "(3017, 10) (3936, 9) (3941, 10)\n",
      "526\n"
     ]
    }
   ],
   "source": [
    "print(df_new.shape,X_train_1.shape,df_new_all.shape)\n",
    "print(len(index_p_to_n_m_d))"
   ]
  },
  {
   "cell_type": "code",
   "execution_count": null,
   "metadata": {
    "colab": {
     "base_uri": "https://localhost:8080/"
    },
    "id": "jgzoYgAkQux_",
    "outputId": "3a34653f-878c-4839-ae57-e33113061313"
   },
   "outputs": [
    {
     "name": "stdout",
     "output_type": "stream",
     "text": [
      "0.6894308943089431\n",
      "calibration score:  0.030714301312427694\n"
     ]
    }
   ],
   "source": [
    "from sklearn.linear_model import LogisticRegression\n",
    "clf_new = LogisticRegression(random_state=0).fit(df_new_all.drop(\"two_year_recid\",axis=1), df_new_all[\"two_year_recid\"])\n",
    "print(clf_new.score(X_test,y_test))\n",
    "print(\"calibration score: \",abs(clf_new.score(X_test_b,y_test_b)-clf_new.score(X_test_w,y_test_w)))"
   ]
  },
  {
   "cell_type": "code",
   "execution_count": null,
   "metadata": {},
   "outputs": [],
   "source": []
  },
  {
   "cell_type": "code",
   "execution_count": null,
   "metadata": {},
   "outputs": [],
   "source": []
  },
  {
   "cell_type": "markdown",
   "metadata": {},
   "source": [
    "# Comparision plots:"
   ]
  },
  {
   "cell_type": "markdown",
   "metadata": {},
   "source": [
    "### Accuracy plot:"
   ]
  },
  {
   "cell_type": "code",
   "execution_count": 219,
   "metadata": {},
   "outputs": [
    {
     "data": {
      "image/png": "[encoded data removed]",
      "text/plain": [
       "<Figure size 1400x800 with 1 Axes>"
      ]
     },
     "metadata": {},
     "output_type": "display_data"
    }
   ],
   "source": [
    "labels = ['Baseline', 'A5', 'A6 LM', 'A6 LPS']   # Add other models here\n",
    "\n",
    "# Replace 0.555 with true scores:\n",
    "Accuracy_score             = np.round_([clf.score(X_test,y_test),0.555, clf_new.score(X_test,y_test),0.555],2)\n",
    "Accuracy_African_American  = np.round_([clf.score(X_test_b,y_test_b),0.555,clf_new.score(X_test_b,y_test_b),0.555],2)\n",
    "Accuracy_Caucassian        = np.round_([clf.score(X_test_w,y_test_w),0.555,clf_new.score(X_test_w,y_test_w),0.555],2)\n",
    "\n",
    "x = np.arange(len(labels))  \n",
    "width = 0.25 \n",
    "\n",
    "fig, ax = plt.subplots(figsize=(14, 8))\n",
    "\n",
    "rects0 = ax.bar(x , Accuracy_score , width, label='Total Accuracy', color=\"gray\")\n",
    "rects1 = ax.bar(x - width, Accuracy_African_American, width, label='African_American', color = \"black\")\n",
    "rects2 = ax.bar(x + width, Accuracy_Caucassian, width, label='Caucassian', color = \"peachpuff\")\n",
    "\n",
    "ax.set_ylabel('Accuracy')\n",
    "ax.set_title('Accuracy Comparision')\n",
    "ax.set_xticks(x, labels)\n",
    "ax.legend(bbox_to_anchor=(1.05, 1.0), loc='upper left')\n",
    "\n",
    "ax.bar_label(rects0, padding=3)\n",
    "ax.bar_label(rects1, padding=3)\n",
    "ax.bar_label(rects2, padding=3)\n",
    "\n",
    "plt.show()"
   ]
  },
  {
   "cell_type": "markdown",
   "metadata": {},
   "source": [
    "### Calibration plot:"
   ]
  },
  {
   "cell_type": "code",
   "execution_count": 187,
   "metadata": {},
   "outputs": [
    {
     "data": {
      "text/plain": [
       "Text(0.5, 1.0, 'Calibration score Comparision')"
      ]
     },
     "execution_count": 187,
     "metadata": {},
     "output_type": "execute_result"
    },
    {
     "data": {
      "image/png": "[encoded data removed]",
      "text/plain": [
       "<Figure size 640x480 with 1 Axes>"
      ]
     },
     "metadata": {},
     "output_type": "display_data"
    }
   ],
   "source": [
    "x_labels = ['Baseline','A5', 'A6 LM', 'A6 LPS']\n",
    "\n",
    "Baseline_cal_score = abs(clf.score(X_test_b,y_test_b)-clf.score(X_test_w,y_test_w))\n",
    "A5_cal_score = 0.05          # Enter score here\n",
    "A6_LM_cal_score = abs(clf_new.score(X_test_b,y_test_b)-clf_new.score(X_test_w,y_test_w))\n",
    "A6_LPS_cal_score = 0.05      # Enter score here\n",
    "\n",
    "Calibration_score = np.round([Baseline_cal_score,A5_cal_score,A6_LM_cal_score,A6_LPS_cal_score],3)\n",
    "\n",
    "score_series = pd.Series(Calibration_score)\n",
    "\n",
    "plt.figure()\n",
    "fig = score_series.plot(kind='bar',color=\"gray\")\n",
    "fig.set_xticklabels(x_labels, rotation=0)\n",
    "fig.bar_label(fig.containers[0], label_type='edge')\n",
    "plt.ylabel('Calibration score',fontsize = 12)\n",
    "plt.title('Calibration score Comparision',fontsize = 14)"
   ]
  },
  {
   "cell_type": "markdown",
   "metadata": {},
   "source": [
    "### FPR plot:"
   ]
  },
  {
   "cell_type": "code",
   "execution_count": null,
   "metadata": {},
   "outputs": [],
   "source": [
    "'''FP = confusion_matrix.sum(axis=0) - np.diag(confusion_matrix)  \n",
    "FN = confusion_matrix.sum(axis=1) - np.diag(confusion_matrix)\n",
    "TP = np.diag(confusion_matrix)\n",
    "TN = confusion_matrix.values.sum() - (FP + FN + TP)\n",
    "\n",
    "# Sensitivity, hit rate, recall, or true positive rate\n",
    "TPR = TP/(TP+FN)\n",
    "# Specificity or true negative rate\n",
    "TNR = TN/(TN+FP) \n",
    "# Precision or positive predictive value\n",
    "PPV = TP/(TP+FP)\n",
    "# Negative predictive value\n",
    "NPV = TN/(TN+FN)\n",
    "# Fall out or false positive rate\n",
    "FPR = FP/(FP+TN)\n",
    "# False negative rate\n",
    "FNR = FN/(TP+FN)\n",
    "# False discovery rate\n",
    "FDR = FP/(TP+FP)\n",
    "\n",
    "# Overall accuracy\n",
    "ACC = (TP+TN)/(TP+FP+FN+TN) '''"
   ]
  },
  {
   "cell_type": "code",
   "execution_count": 222,
   "metadata": {},
   "outputs": [
    {
     "data": {
      "image/png": "[encoded data removed]",
      "text/plain": [
       "<Figure size 1400x800 with 1 Axes>"
      ]
     },
     "metadata": {},
     "output_type": "display_data"
    }
   ],
   "source": [
    "labels = ['Baseline', 'A5', 'A6 LM', 'A6 LPS']   # Add other models here\n",
    "\n",
    "# Insert scores here:\n",
    "FPR_score             = np.round_([clf.score(X_test,y_test),0.555, clf_new.score(X_test,y_test),0.555],2)\n",
    "FPR_African_American  = np.round_([clf.score(X_test_b,y_test_b),0.555,clf_new.score(X_test_b,y_test_b),0.555],2)\n",
    "FPR_Caucassian        = np.round_([clf.score(X_test_w,y_test_w),0.555,clf_new.score(X_test_w,y_test_w),0.555],2)\n",
    "\n",
    "x = np.arange(len(labels))  \n",
    "width = 0.25 \n",
    "\n",
    "fig, ax = plt.subplots(figsize=(14, 8))\n",
    "\n",
    "rects0 = ax.bar(x , Accuracy_score , width, label='Total Accuracy', color=\"gray\")\n",
    "rects1 = ax.bar(x - width, Accuracy_African_American, width, label='African_American', color = \"black\")\n",
    "rects2 = ax.bar(x + width, Accuracy_Caucassian, width, label='Caucassian', color = \"peachpuff\")\n",
    "\n",
    "ax.set_ylabel('False Positive Rate')\n",
    "ax.set_title('False Positive Rate Comparision')\n",
    "ax.set_xticks(x, labels)\n",
    "ax.legend(bbox_to_anchor=(1.05, 1.0), loc='upper left')\n",
    "\n",
    "ax.bar_label(rects0, padding=3)\n",
    "ax.bar_label(rects1, padding=3)\n",
    "ax.bar_label(rects2, padding=3)\n",
    "\n",
    "plt.show()"
   ]
  },
  {
   "cell_type": "code",
   "execution_count": null,
   "metadata": {},
   "outputs": [],
   "source": []
  }
 ],
 "metadata": {
  "colab": {
   "provenance": []
  },
  "hide_input": false,
  "kernelspec": {
   "display_name": "Python 3 (ipykernel)",
   "language": "python",
   "name": "python3"
  },
  "language_info": {
   "codemirror_mode": {
    "name": "ipython",
    "version": 3
   },
   "file_extension": ".py",
   "mimetype": "text/x-python",
   "name": "python",
   "nbconvert_exporter": "python",
   "pygments_lexer": "ipython3",
   "version": "3.9.12"
  }
 },
 "nbformat": 4,
 "nbformat_minor": 1
}
