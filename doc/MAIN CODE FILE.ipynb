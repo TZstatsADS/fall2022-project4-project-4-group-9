{
 "cells": [
  {
   "cell_type": "markdown",
   "metadata": {},
   "source": [
    "# Pre-Process"
   ]
  },
  {
   "cell_type": "code",
   "execution_count": 1,
   "metadata": {
    "id": "k1WHo4Iddz7l"
   },
   "outputs": [],
   "source": [
    "import pandas as pd\n",
    "import numpy as np\n",
    "df= pd.read_csv(\"compas-scores-two-years.csv\")\n",
    "df = df.loc[df[\"race\"].isin([\"African-American\", \"Caucasian\"])]\n",
    "df[\"race\"].replace(['African-American', 'Caucasian'],[0, 1], inplace=True)\n",
    "df[\"score_text\"].replace([\"Low\",\"Medium\",\"High\"],[0,1,2],inplace=True)\n",
    "df[\"sex\"].replace([\"Male\",\"Female\"],[0,1],inplace=True)\n",
    "df[\"c_charge_degree\"].replace([\"M\",\"F\"],[0,1],inplace=True)\n",
    "df[\"priors_count\"] = np.where(df['priors_count'] > 0, 1, 0)\n",
    "juv_cond = (df['juv_fel_count'] > 0) | (df['juv_misd_count'] > 0) | (df['juv_other_count'] > 0)\n",
    "df['juv_count'] = np.where(juv_cond, 1, 0)"
   ]
  },
  {
   "cell_type": "code",
   "execution_count": 2,
   "metadata": {
    "colab": {
     "base_uri": "https://localhost:8080/"
    },
    "id": "4lSZo05Gd_Lo",
    "outputId": "fa7ea89f-1afa-4e39-ea64-537e20ed88d9"
   },
   "outputs": [
    {
     "name": "stdout",
     "output_type": "stream",
     "text": [
      "(5271, 7) (5271,) (879, 7) (879,)\n",
      "(4392, 7) (4392,) (879, 7) (879,)\n"
     ]
    }
   ],
   "source": [
    "y = df[\"two_year_recid\"]\n",
    "X = pd.DataFrame(df, columns=[\"race\",\"age\",\"priors_count\",\"juv_count\",'score_text',\"sex\",\"c_charge_degree\"])\n",
    "from sklearn.model_selection import train_test_split\n",
    "X_train, X_test, y_train, y_test=train_test_split(X,y,test_size=1/7, random_state=67, stratify=y)\n",
    "print(X_train.shape, y_train.shape, X_test.shape, y_test.shape)\n",
    "X_train, X_valid, y_train, y_valid=train_test_split(X_train,y_train,test_size=879, random_state=67, stratify=y_train)\n",
    "print(X_train.shape, y_train.shape, X_valid.shape, y_valid.shape)"
   ]
  },
  {
   "cell_type": "markdown",
   "metadata": {
    "id": "5XH3AmE1wide"
   },
   "source": [
    "# Baseline"
   ]
  },
  {
   "cell_type": "code",
   "execution_count": 3,
   "metadata": {
    "colab": {
     "base_uri": "https://localhost:8080/"
    },
    "id": "d798yW5oeKVK",
    "outputId": "1320634f-7a13-4bcf-dca9-ecb9ce79ef01"
   },
   "outputs": [
    {
     "data": {
      "text/plain": [
       "0.6666666666666666"
      ]
     },
     "execution_count": 3,
     "metadata": {},
     "output_type": "execute_result"
    }
   ],
   "source": [
    "from sklearn.linear_model import LogisticRegression\n",
    "clf = LogisticRegression(random_state=0).fit(X_train, y_train)\n",
    "clf.score(X_test,y_test)"
   ]
  },
  {
   "cell_type": "code",
   "execution_count": 4,
   "metadata": {
    "colab": {
     "base_uri": "https://localhost:8080/"
    },
    "id": "FGlQZYBunn4q",
    "outputId": "9d87403a-7e31-4d11-9d41-3c34eb1a5694"
   },
   "outputs": [
    {
     "name": "stdout",
     "output_type": "stream",
     "text": [
      "(522, 7) (357, 7)\n"
     ]
    }
   ],
   "source": [
    "index_b= (X_test[\"race\"]==0)\n",
    "X_test_b=X_test[index_b]\n",
    "y_test_b=y_test[index_b]\n",
    "X_test_w=X_test[-index_b]\n",
    "y_test_w=y_test[-index_b]"
   ]
  },
  {
   "cell_type": "code",
   "execution_count": 5,
   "metadata": {
    "colab": {
     "base_uri": "https://localhost:8080/"
    },
    "id": "P-PpERnWKhIZ",
    "outputId": "441634f2-b11b-45a0-8740-edf46165d7e1"
   },
   "outputs": [
    {
     "name": "stdout",
     "output_type": "stream",
     "text": [
      "(2626, 7) (1766, 7)\n"
     ]
    }
   ],
   "source": [
    "index_b= (X_train[\"race\"]==0)\n",
    "X_train_b=X_train[index_b]\n",
    "y_train_b=y_train[index_b]\n",
    "X_train_w=X_train[-index_b]\n",
    "y_train_w=y_train[-index_b]"
   ]
  },
  {
   "cell_type": "code",
   "execution_count": 6,
   "metadata": {
    "colab": {
     "base_uri": "https://localhost:8080/"
    },
    "id": "os9zoVlwv_hn",
    "outputId": "4651fa73-a307-4cbd-f416-b129e4375b7d"
   },
   "outputs": [
    {
     "name": "stdout",
     "output_type": "stream",
     "text": [
      "0.6475095785440613\n",
      "0.6946778711484594\n",
      "calibration score:  0.04716829260439803\n"
     ]
    }
   ],
   "source": [
    "#calibration\n",
    "print(clf.score(X_test_b,y_test_b))\n",
    "print(clf.score(X_test_w,y_test_w))\n",
    "print(\"calibration score: \",abs(clf.score(X_test_b,y_test_b)-clf.score(X_test_w,y_test_w)))"
   ]
  },
  {
   "cell_type": "code",
   "execution_count": null,
   "metadata": {},
   "outputs": [],
   "source": []
  },
  {
   "cell_type": "code",
   "execution_count": null,
   "metadata": {},
   "outputs": [],
   "source": []
  },
  {
   "cell_type": "code",
   "execution_count": null,
   "metadata": {},
   "outputs": [],
   "source": []
  },
  {
   "cell_type": "markdown",
   "metadata": {},
   "source": [
    "# A5"
   ]
  },
  {
   "cell_type": "code",
   "execution_count": null,
   "metadata": {},
   "outputs": [],
   "source": []
  },
  {
   "cell_type": "code",
   "execution_count": null,
   "metadata": {},
   "outputs": [],
   "source": []
  },
  {
   "cell_type": "code",
   "execution_count": null,
   "metadata": {},
   "outputs": [],
   "source": []
  },
  {
   "cell_type": "code",
   "execution_count": null,
   "metadata": {},
   "outputs": [],
   "source": []
  },
  {
   "cell_type": "markdown",
   "metadata": {},
   "source": [
    "# A6"
   ]
  },
  {
   "cell_type": "markdown",
   "metadata": {
    "id": "ZCvk4rRGwmW9"
   },
   "source": [
    "## Determine e"
   ]
  },
  {
   "cell_type": "code",
   "execution_count": 7,
   "metadata": {
    "colab": {
     "base_uri": "https://localhost:8080/"
    },
    "id": "jsb2K-Etwo19",
    "outputId": "3735f91a-7c71-4e36-b6b0-7a74e9086ace"
   },
   "outputs": [
    {
     "name": "stdout",
     "output_type": "stream",
     "text": [
      "0.5003808073115004\n",
      "0.2480181200453001\n",
      "D_all: 0.25236268726620026\n"
     ]
    }
   ],
   "source": [
    "print(np.sum(clf.predict(X_train_b)==1)/len(X_train_b))\n",
    "print(np.sum(clf.predict(X_train_w)==1)/len(X_train_w))\n",
    "D_all=np.sum(clf.predict(X_train_b)==1)/len(X_train_b)-np.sum(clf.predict(X_train_w)==1)/len(X_train_w)\n",
    "print(\"D_all:\", D_all)"
   ]
  },
  {
   "cell_type": "code",
   "execution_count": 8,
   "metadata": {
    "id": "rSwxZCINHI1W"
   },
   "outputs": [],
   "source": [
    "def D_bad_function(x):\n",
    "    \n",
    "    # Making male and female subsets of black people:\n",
    "    B_dataset = X_train_b.groupby(x)\n",
    "    W_dataset = X_train_w.groupby(x)\n",
    "\n",
    "    # Total unique values in \"sex\" column\n",
    "    n = np.sum(B_dataset[x].nunique())\n",
    "    \n",
    "    e = []\n",
    "    for i in range(n):\n",
    "        e.append((np.sum(clf.predict(B_dataset.get_group(i))==1)/len(B_dataset.get_group(i))+np.sum(clf.predict(W_dataset.get_group(i))==1)/len(W_dataset.get_group(i)))/n)\n",
    "\n",
    "    d = []\n",
    "    for i in range(n):\n",
    "        d.append((len(B_dataset.get_group(i))/len(X_train_b)-len(W_dataset.get_group(i))/len(X_train_w))*e[i])\n",
    "    \n",
    "    D_exp = np.sum(d)\n",
    "    \n",
    "    return(D_all-D_exp)"
   ]
  },
  {
   "cell_type": "code",
   "execution_count": 9,
   "metadata": {
    "id": "mv4HYCFjHWhM"
   },
   "outputs": [],
   "source": [
    "D_bad_all=[D_bad_function(\"sex\"),D_bad_function(\"priors_count\"),D_bad_function(\"juv_count\"),\n",
    "           D_bad_function(\"c_charge_degree\"),D_bad_function(\"score_text\")]"
   ]
  },
  {
   "cell_type": "code",
   "execution_count": 10,
   "metadata": {
    "colab": {
     "base_uri": "https://localhost:8080/",
     "height": 481
    },
    "id": "AWOlnqBNIVCB",
    "outputId": "9915ea09-e770-4cf9-8853-796ce1980155"
   },
   "outputs": [
    {
     "data": {
      "text/plain": [
       "([<matplotlib.axis.XTick at 0x7fbb30fab8d0>,\n",
       "  <matplotlib.axis.XTick at 0x7fbb31008b50>,\n",
       "  <matplotlib.axis.XTick at 0x7fbb31008950>,\n",
       "  <matplotlib.axis.XTick at 0x7fbb30f192d0>,\n",
       "  <matplotlib.axis.XTick at 0x7fbb30f194d0>],\n",
       " [Text(0.0, 0, 'sex'),\n",
       "  Text(1.0, 0, 'priors_count'),\n",
       "  Text(2.0, 0, 'juv_count'),\n",
       "  Text(3.0, 0, 'c_charge_degree'),\n",
       "  Text(4.0, 0, 'score_text')])"
      ]
     },
     "execution_count": 10,
     "metadata": {},
     "output_type": "execute_result"
    },
    {
     "data": {
      "image/png": "[encoded data removed]",
      "text/plain": [
       "<Figure size 432x288 with 1 Axes>"
      ]
     },
     "metadata": {
      "needs_background": "light"
     },
     "output_type": "display_data"
    }
   ],
   "source": [
    "import matplotlib.pyplot as plt\n",
    "plt.plot(D_bad_all)\n",
    "plt.axhline(y = D_all, color = 'r', linestyle = '--')\n",
    "plt.ylabel(\"discrimination\")\n",
    "plt.ylim([0,0.3])\n",
    "plt.legend([\"D_bad\",\"D_all\"])\n",
    "plt.xticks([0.0,1.0,2.0,3.0,4.0],[\"sex\",\"priors_count\",\"juv_count\",\"c_charge_degree\",\"score_text\"],rotation=30)"
   ]
  },
  {
   "cell_type": "markdown",
   "metadata": {
    "id": "L5D4LqW390kY"
   },
   "source": [
    "## Algorithm: Local massaging"
   ]
  },
  {
   "cell_type": "code",
   "execution_count": 11,
   "metadata": {
    "colab": {
     "base_uri": "https://localhost:8080/"
    },
    "id": "_iUloSfy92jD",
    "outputId": "97c5817e-8897-492b-bd6d-1004351a571f"
   },
   "outputs": [
    {
     "name": "stdout",
     "output_type": "stream",
     "text": [
      "(2237, 7) (1207, 7) (948, 7)\n"
     ]
    }
   ],
   "source": [
    "#split X_train into different sex, 0:low, 1:medium, 2:high\n",
    "index_0= (X_train[\"score_text\"]==0)\n",
    "X_train_0=X_train[index_0]\n",
    "y_train_0=y_train[index_0]\n",
    "index_1= (X_train[\"score_text\"]==1)\n",
    "X_train_1=X_train[index_1]\n",
    "y_train_1=y_train[index_1]\n",
    "index_2= (X_train[\"score_text\"]==2)\n",
    "X_train_2=X_train[index_2]\n",
    "y_train_2=y_train[index_2]\n",
    "print(X_train_0.shape,X_train_1.shape,X_train_2.shape)"
   ]
  },
  {
   "cell_type": "code",
   "execution_count": 12,
   "metadata": {
    "id": "uak2iAZeCUJB"
   },
   "outputs": [],
   "source": [
    "from sklearn.linear_model import LogisticRegression\n",
    "clf_0 = LogisticRegression(random_state=0).fit(X_train_0, y_train_0)\n",
    "clf_1 = LogisticRegression(random_state=0).fit(X_train_1, y_train_1)\n",
    "clf_2 = LogisticRegression(random_state=0).fit(X_train_2, y_train_2)"
   ]
  },
  {
   "cell_type": "code",
   "execution_count": 13,
   "metadata": {
    "colab": {
     "base_uri": "https://localhost:8080/"
    },
    "id": "9wdKPzdM-PWo",
    "outputId": "0c4e3973-78c4-4a95-9904-d0ef37c8b426"
   },
   "outputs": [
    {
     "name": "stderr",
     "output_type": "stream",
     "text": [
      "/usr/local/lib/python3.7/dist-packages/ipykernel_launcher.py:2: SettingWithCopyWarning: \n",
      "A value is trying to be set on a copy of a slice from a DataFrame.\n",
      "Try using .loc[row_indexer,col_indexer] = value instead\n",
      "\n",
      "See the caveats in the documentation: https://pandas.pydata.org/pandas-docs/stable/user_guide/indexing.html#returning-a-view-versus-a-copy\n",
      "  \n",
      "/usr/local/lib/python3.7/dist-packages/ipykernel_launcher.py:3: SettingWithCopyWarning: \n",
      "A value is trying to be set on a copy of a slice from a DataFrame.\n",
      "Try using .loc[row_indexer,col_indexer] = value instead\n",
      "\n",
      "See the caveats in the documentation: https://pandas.pydata.org/pandas-docs/stable/user_guide/indexing.html#returning-a-view-versus-a-copy\n",
      "  This is separate from the ipykernel package so we can avoid doing imports until\n",
      "/usr/local/lib/python3.7/dist-packages/ipykernel_launcher.py:4: SettingWithCopyWarning: \n",
      "A value is trying to be set on a copy of a slice from a DataFrame.\n",
      "Try using .loc[row_indexer,col_indexer] = value instead\n",
      "\n",
      "See the caveats in the documentation: https://pandas.pydata.org/pandas-docs/stable/user_guide/indexing.html#returning-a-view-versus-a-copy\n",
      "  after removing the cwd from sys.path.\n"
     ]
    }
   ],
   "source": [
    "#get probability for logistic regression\n",
    "X_train_0[\"prob_0\"],X_train_0[\"prob_1\"]=clf_0.predict_proba(X_train_0)[:,0],clf_0.predict_proba(X_train_0)[:,1]\n",
    "X_train_1[\"prob_0\"],X_train_1[\"prob_1\"]=clf_1.predict_proba(X_train_1)[:,0],clf_1.predict_proba(X_train_1)[:,1]\n",
    "X_train_2[\"prob_0\"],X_train_2[\"prob_1\"]=clf_2.predict_proba(X_train_2)[:,0],clf_2.predict_proba(X_train_2)[:,1]"
   ]
  },
  {
   "cell_type": "code",
   "execution_count": 14,
   "metadata": {
    "colab": {
     "base_uri": "https://localhost:8080/"
    },
    "id": "7UOqPdAZC3Kv",
    "outputId": "32a7c6a4-3438-4580-c592-7186678dbf73"
   },
   "outputs": [
    {
     "name": "stdout",
     "output_type": "stream",
     "text": [
      "(2626, 7) (1766, 7)\n"
     ]
    }
   ],
   "source": [
    "index_b= (X_train[\"race\"]==0)\n",
    "X_train_b=X_train[index_b]\n",
    "y_train_b=y_train[index_b]\n",
    "X_train_w=X_train[-index_b]\n",
    "y_train_w=y_train[-index_b]\n",
    "print(X_train_b.shape,X_train_w.shape)"
   ]
  },
  {
   "cell_type": "code",
   "execution_count": 15,
   "metadata": {
    "colab": {
     "base_uri": "https://localhost:8080/"
    },
    "id": "QUfG1gGxDM0_",
    "outputId": "02aa1e60-6baf-4fd1-c8d9-d785eef426b9"
   },
   "outputs": [
    {
     "name": "stdout",
     "output_type": "stream",
     "text": [
      "(1084, 7) (808, 7) (734, 7) (1153, 7) (399, 7) (214, 7)\n"
     ]
    }
   ],
   "source": [
    "index_b_0= (X_train_b[\"score_text\"]==0)\n",
    "X_train_b_0=X_train_b[index_b_0]\n",
    "y_train_b_0=y_train_b[index_b_0]\n",
    "index_b_1= (X_train_b[\"score_text\"]==1)\n",
    "X_train_b_1=X_train_b[index_b_1]\n",
    "y_train_b_1=y_train_b[index_b_1]\n",
    "index_b_2= (X_train_b[\"score_text\"]==2)\n",
    "X_train_b_2=X_train_b[index_b_2]\n",
    "y_train_b_2=y_train_b[index_b_2]\n",
    "\n",
    "index_w_0= (X_train_w[\"score_text\"]==0)\n",
    "X_train_w_0=X_train_w[index_w_0]\n",
    "y_train_w_0=y_train_w[index_w_0]\n",
    "index_w_1= (X_train_w[\"score_text\"]==1)\n",
    "X_train_w_1=X_train_w[index_w_1]\n",
    "y_train_w_1=y_train_w[index_w_1]\n",
    "index_w_2= (X_train_w[\"score_text\"]==2)\n",
    "X_train_w_2=X_train_w[index_w_2]\n",
    "y_train_w_2=y_train_w[index_w_2]\n",
    "\n",
    "print(X_train_b_0.shape,X_train_b_1.shape,X_train_b_2.shape,X_train_w_0.shape,X_train_w_1.shape,X_train_w_2.shape)"
   ]
  },
  {
   "cell_type": "code",
   "execution_count": 16,
   "metadata": {
    "id": "syCgHsfxDnop"
   },
   "outputs": [],
   "source": [
    "#e_0\n",
    "p_plus_e_0=(np.sum(clf_0.predict(X_train_b_0)==1)/len(X_train_b_0)+np.sum(clf_0.predict(X_train_w_0)==1)/len(X_train_w_0))/2\n",
    "#e_1\n",
    "p_plus_e_1=(np.sum(clf_1.predict(X_train_b_1)==1)/len(X_train_b_1)+np.sum(clf_1.predict(X_train_w_1)==1)/len(X_train_w_1))/2\n",
    "#e_2\n",
    "p_plus_e_2=(np.sum(clf_2.predict(X_train_b_2)==1)/len(X_train_b_2)+np.sum(clf_2.predict(X_train_w_2)==1)/len(X_train_w_2))/2"
   ]
  },
  {
   "cell_type": "code",
   "execution_count": 17,
   "metadata": {
    "colab": {
     "base_uri": "https://localhost:8080/"
    },
    "id": "R8vIDZH0CmJj",
    "outputId": "9546ca0a-c4c4-47b4-ebb9-c3b2745c2a47"
   },
   "outputs": [
    {
     "name": "stdout",
     "output_type": "stream",
     "text": [
      "21 23 24 11 8 2\n"
     ]
    }
   ],
   "source": [
    "\n",
    "delta_b_0=abs(int(len(X_train_b_0)*(np.sum(clf_0.predict(X_train_b_0)==1)/len(X_train_b_0)-p_plus_e_0)))\n",
    "delta_w_0=abs(int(len(X_train_w_0)*(np.sum(clf_0.predict(X_train_w_0)==1)/len(X_train_w_0)-p_plus_e_0)))\n",
    "\n",
    "delta_b_1=abs(int(len(X_train_b_1)*(np.sum(clf_1.predict(X_train_b_1)==1)/len(X_train_b_1)-p_plus_e_1)))\n",
    "delta_w_1=abs(int(len(X_train_w_1)*(np.sum(clf_1.predict(X_train_w_1)==1)/len(X_train_w_1)-p_plus_e_1)))\n",
    "\n",
    "delta_b_2=abs(int(len(X_train_b_2)*(np.sum(clf_2.predict(X_train_b_2)==1)/len(X_train_b_2)-p_plus_e_2)))\n",
    "delta_w_2=abs(int(len(X_train_w_2)*(np.sum(clf_2.predict(X_train_w_2)==1)/len(X_train_w_2)-p_plus_e_2)))\n",
    "print(delta_b_0,delta_w_0,delta_b_1,delta_w_1,delta_b_2,delta_w_2)"
   ]
  },
  {
   "cell_type": "code",
   "execution_count": 18,
   "metadata": {
    "id": "gLVnUiyX6FlV"
   },
   "outputs": [],
   "source": [
    "index_p_to_n_0=X_train_0[(X_train_0[\"prob_1\"]>=0.5)&(X_train_0[\"race\"]==0)][\"prob_1\"].sort_values()[:delta_b_0]\n",
    "index_n_to_p_0=X_train_0[(X_train_0[\"prob_1\"]<0.5)&(X_train_0[\"race\"]==1)][\"prob_1\"].sort_values(ascending=False)[:delta_w_0]\n",
    "\n",
    "index_p_to_n_1=X_train_1[(X_train_1[\"prob_1\"]>=0.5)&(X_train_1[\"race\"]==0)][\"prob_1\"].sort_values()[:delta_b_1]\n",
    "index_n_to_p_1=X_train_1[(X_train_1[\"prob_1\"]<0.5)&(X_train_1[\"race\"]==1)][\"prob_1\"].sort_values(ascending=False)[:delta_w_1]\n",
    "\n",
    "index_p_to_n_2=X_train_2[(X_train_2[\"prob_1\"]>=0.5)&(X_train_2[\"race\"]==0)][\"prob_1\"].sort_values()[:delta_b_2]\n",
    "index_n_to_p_2=X_train_2[(X_train_2[\"prob_1\"]<0.5)&(X_train_2[\"race\"]==1)][\"prob_1\"].sort_values(ascending=False)[:delta_w_2]"
   ]
  },
  {
   "cell_type": "code",
   "execution_count": 19,
   "metadata": {
    "id": "zg4Ypy-sEfXw"
   },
   "outputs": [],
   "source": [
    "y_train_new=y_train.copy()\n",
    "y_train_new[y_train_new.index.isin(index_p_to_n_0.index)]=0\n",
    "y_train_new[y_train_new.index.isin(index_n_to_p_0.index)]=1\n",
    "y_train_new[y_train_new.index.isin(index_p_to_n_1.index)]=0\n",
    "y_train_new[y_train_new.index.isin(index_n_to_p_1.index)]=1\n",
    "y_train_new[y_train_new.index.isin(index_p_to_n_2.index)]=0\n",
    "y_train_new[y_train_new.index.isin(index_n_to_p_2.index)]=1"
   ]
  },
  {
   "cell_type": "code",
   "execution_count": 20,
   "metadata": {
    "colab": {
     "base_uri": "https://localhost:8080/"
    },
    "id": "bD8pi4ANJl3s",
    "outputId": "135f1b75-b0b3-4d7c-9b19-9e8fe7b66bef"
   },
   "outputs": [
    {
     "data": {
      "text/plain": [
       "0.6723549488054608"
      ]
     },
     "execution_count": 20,
     "metadata": {},
     "output_type": "execute_result"
    }
   ],
   "source": [
    "from sklearn.linear_model import LogisticRegression\n",
    "clf_new = LogisticRegression(random_state=0).fit(X_train, y_train_new)\n",
    "clf_new.score(X_test,y_test)"
   ]
  },
  {
   "cell_type": "code",
   "execution_count": 21,
   "metadata": {
    "colab": {
     "base_uri": "https://localhost:8080/"
    },
    "id": "rWMYRKbIKp-O",
    "outputId": "ebabf0c1-2eb0-4444-f8be-c7eeca0290a1"
   },
   "outputs": [
    {
     "name": "stdout",
     "output_type": "stream",
     "text": [
      "calibration score:  0.04702340706397501\n"
     ]
    }
   ],
   "source": [
    "print(\"calibration score: \",abs(clf_new.score(X_test_b,y_test_b)-clf_new.score(X_test_w,y_test_w)))"
   ]
  },
  {
   "cell_type": "markdown",
   "metadata": {
    "id": "fRiYXp5_LXDb"
   },
   "source": [
    "## Algorithm: Local preferential sampling"
   ]
  },
  {
   "cell_type": "code",
   "execution_count": 22,
   "metadata": {
    "id": "UZuSGUy3LaZm"
   },
   "outputs": [],
   "source": [
    "index_p_to_n_0_u=X_train_0[(X_train_0[\"prob_1\"]>=0.5)&(X_train_0[\"race\"]==0)][\"prob_1\"].sort_values()[:int(delta_b_0/2)]\n",
    "index_p_to_n_0_d=X_train_0[(X_train_0[\"prob_1\"]<0.5)&(X_train_0[\"race\"]==0)][\"prob_1\"].sort_values(ascending=False)[:int(delta_b_0/2)]\n",
    "\n",
    "index_n_to_p_0_d=X_train_0[(X_train_0[\"prob_1\"]<0.5)&(X_train_0[\"race\"]==1)][\"prob_1\"].sort_values(ascending=False)[:int(delta_w_0/2)]\n",
    "index_n_to_p_0_u=X_train_0[(X_train_0[\"prob_1\"]>=0.5)&(X_train_0[\"race\"]==1)][\"prob_1\"].sort_values()[:int(delta_w_0/2)]\n",
    "\n",
    "index_p_to_n_1_u=X_train_1[(X_train_1[\"prob_1\"]>=0.5)&(X_train_1[\"race\"]==0)][\"prob_1\"].sort_values()[:int(delta_b_1/2)]\n",
    "index_p_to_n_1_d=X_train_1[(X_train_1[\"prob_1\"]<0.5)&(X_train_1[\"race\"]==0)][\"prob_1\"].sort_values(ascending=False)[:int(delta_b_1/2)]\n",
    "\n",
    "index_n_to_p_1_d=X_train_1[(X_train_1[\"prob_1\"]<0.5)&(X_train_1[\"race\"]==1)][\"prob_1\"].sort_values(ascending=False)[:int(delta_w_1/2)]\n",
    "index_n_to_p_1_u=X_train_1[(X_train_1[\"prob_1\"]>=0.5)&(X_train_1[\"race\"]==1)][\"prob_1\"].sort_values()[:int(delta_w_1/2)]\n",
    "\n",
    "index_p_to_n_2_u=X_train_2[(X_train_2[\"prob_1\"]>=0.5)&(X_train_2[\"race\"]==0)][\"prob_1\"].sort_values()[:int(delta_b_2/2)]\n",
    "index_p_to_n_2_d=X_train_2[(X_train_2[\"prob_1\"]<0.5)&(X_train_2[\"race\"]==0)][\"prob_1\"].sort_values(ascending=False)[:int(delta_b_2/2)]\n",
    "\n",
    "index_n_to_p_2_d=X_train_2[(X_train_2[\"prob_1\"]<0.5)&(X_train_2[\"race\"]==1)][\"prob_1\"].sort_values(ascending=False)[:int(delta_w_2/2)]\n",
    "index_n_to_p_2_u=X_train_2[(X_train_2[\"prob_1\"]>=0.5)&(X_train_2[\"race\"]==1)][\"prob_1\"].sort_values()[:int(delta_w_2/2)]"
   ]
  },
  {
   "cell_type": "code",
   "execution_count": 23,
   "metadata": {
    "id": "VZ9v6jpYM_QT"
   },
   "outputs": [],
   "source": [
    "X_train_new1=X_train.copy()\n",
    "y_train_new1=y_train.copy()\n",
    "df_new=pd.concat([X_train_new1,y_train_new1],axis=1)\n",
    "df_new.drop(index_p_to_n_0_d.index,inplace=True)\n",
    "df_new.drop(index_n_to_p_0_u.index,inplace=True)\n",
    "df_new.drop(index_p_to_n_1_d.index,inplace=True)\n",
    "df_new.drop(index_n_to_p_1_u.index,inplace=True)\n",
    "df_new.drop(index_p_to_n_2_d.index,inplace=True)\n",
    "df_new.drop(index_n_to_p_2_u.index,inplace=True)"
   ]
  },
  {
   "cell_type": "code",
   "execution_count": 24,
   "metadata": {
    "id": "We5aSq_SP-xU"
   },
   "outputs": [],
   "source": [
    "df_dup_1=df_new[df_new.index.isin(index_p_to_n_0_u.index)]\n",
    "df_dup_2=df_new[df_new.index.isin(index_n_to_p_0_d.index)]\n",
    "df_dup_3=df_new[df_new.index.isin(index_p_to_n_1_u.index)]\n",
    "df_dup_4=df_new[df_new.index.isin(index_n_to_p_1_d.index)]\n",
    "df_dup_5=df_new[df_new.index.isin(index_p_to_n_2_u.index)]\n",
    "df_dup_6=df_new[df_new.index.isin(index_n_to_p_2_d.index)]\n",
    "df_new_all=df_new.append([df_dup_1,df_dup_2,df_dup_3,df_dup_4,df_dup_4,df_dup_4])"
   ]
  },
  {
   "cell_type": "code",
   "execution_count": 25,
   "metadata": {
    "colab": {
     "base_uri": "https://localhost:8080/"
    },
    "id": "wv_YIG3MOFtr",
    "outputId": "de4e08ed-b406-4d2e-f2cb-4a42cd6bf275"
   },
   "outputs": [
    {
     "name": "stdout",
     "output_type": "stream",
     "text": [
      "(4350, 8) (4392, 7) (4398, 8)\n"
     ]
    }
   ],
   "source": [
    "print(df_new.shape,X_train_new1.shape,df_new_all.shape)"
   ]
  },
  {
   "cell_type": "code",
   "execution_count": 26,
   "metadata": {
    "colab": {
     "base_uri": "https://localhost:8080/"
    },
    "id": "jgzoYgAkQux_",
    "outputId": "fcb11718-b124-48e3-ab02-dcceaff01d01"
   },
   "outputs": [
    {
     "name": "stdout",
     "output_type": "stream",
     "text": [
      "0.6689419795221843\n",
      "calibration score:  0.03390321645899741\n"
     ]
    }
   ],
   "source": [
    "from sklearn.linear_model import LogisticRegression\n",
    "clf_new1 = LogisticRegression(random_state=0).fit(df_new_all.drop(\"two_year_recid\",axis=1), df_new_all[\"two_year_recid\"])\n",
    "print(clf_new1.score(X_test,y_test))\n",
    "print(\"calibration score: \",abs(clf_new1.score(X_test_b,y_test_b)-clf_new1.score(X_test_w,y_test_w)))"
   ]
  },
  {
   "cell_type": "markdown",
   "metadata": {
    "id": "O5LUwohfGXdw"
   },
   "source": [
    "# Comparision plots:"
   ]
  },
  {
   "cell_type": "markdown",
   "metadata": {
    "id": "nlHCYOAGGbgg"
   },
   "source": [
    "## Accuracy plot:"
   ]
  },
  {
   "cell_type": "code",
   "execution_count": 27,
   "metadata": {
    "colab": {
     "base_uri": "https://localhost:8080/",
     "height": 499
    },
    "id": "-P2VMvoxGgOi",
    "outputId": "516264bc-0b9f-4807-f907-63112a617a16"
   },
   "outputs": [
    {
     "data": {
      "image/png": "[encoded data removed]",
      "text/plain": [
       "<Figure size 1008x576 with 1 Axes>"
      ]
     },
     "metadata": {
      "needs_background": "light"
     },
     "output_type": "display_data"
    }
   ],
   "source": [
    "labels = ['Baseline', 'A5', 'A6 LM', 'A6 LPS']   # Add other models here\n",
    "\n",
    "# Replace 0.555 with true scores:\n",
    "Accuracy_score             = np.round_([clf.score(X_test,y_test),0.555, clf_new.score(X_test,y_test),clf_new1.score(X_test,y_test)],3)\n",
    "Accuracy_African_American  = np.round_([clf.score(X_test_b,y_test_b),0.555,clf_new.score(X_test_b,y_test_b),clf_new1.score(X_test_b,y_test_b)],3)\n",
    "Accuracy_Caucassian        = np.round_([clf.score(X_test_w,y_test_w),0.555,clf_new.score(X_test_w,y_test_w),clf_new1.score(X_test_w,y_test_w)],3)\n",
    "\n",
    "x = np.arange(len(labels))  \n",
    "width = 0.25 \n",
    "\n",
    "fig, ax = plt.subplots(figsize=(14, 8))\n",
    "\n",
    "rects0 = ax.bar(x , Accuracy_score , width, label='Total Accuracy', color=\"gray\")\n",
    "rects1 = ax.bar(x - width, Accuracy_African_American, width, label='African_American', color = \"black\")\n",
    "rects2 = ax.bar(x + width, Accuracy_Caucassian, width, label='Caucassian', color = \"peachpuff\")\n",
    "\n",
    "ax.set_ylabel('Accuracy')\n",
    "ax.set_title('Accuracy Comparision')\n",
    "ax.set_xticks(x, labels)\n",
    "ax.legend(bbox_to_anchor=(1.05, 1.0), loc='upper left')\n",
    "\n",
    "ax.bar_label(rects0, padding=3)\n",
    "ax.bar_label(rects1, padding=3)\n",
    "ax.bar_label(rects2, padding=3)\n",
    "\n",
    "plt.show()"
   ]
  },
  {
   "cell_type": "markdown",
   "metadata": {
    "id": "3McibdwKLmBM"
   },
   "source": [
    "## Calibration plot:"
   ]
  },
  {
   "cell_type": "code",
   "execution_count": 28,
   "metadata": {
    "colab": {
     "base_uri": "https://localhost:8080/",
     "height": 299
    },
    "id": "J2nUCHB8Llcc",
    "outputId": "82b9c3e1-9385-441a-e049-68c724e58ad4"
   },
   "outputs": [
    {
     "data": {
      "text/plain": [
       "Text(0.5, 1.0, 'Calibration score Comparision')"
      ]
     },
     "execution_count": 28,
     "metadata": {},
     "output_type": "execute_result"
    },
    {
     "data": {
      "image/png": "[encoded data removed]",
      "text/plain": [
       "<Figure size 432x288 with 1 Axes>"
      ]
     },
     "metadata": {
      "needs_background": "light"
     },
     "output_type": "display_data"
    }
   ],
   "source": [
    "x_labels = ['Baseline','A5', 'A6 LM', 'A6 LPS']\n",
    "\n",
    "Baseline_cal_score = abs(clf.score(X_test_b,y_test_b)-clf.score(X_test_w,y_test_w))\n",
    "A5_cal_score = 0.05          # Enter score here\n",
    "A6_LM_cal_score = abs(clf_new.score(X_test_b,y_test_b)-clf_new.score(X_test_w,y_test_w))\n",
    "A6_LPS_cal_score = abs(clf_new1.score(X_test_b,y_test_b)-clf_new1.score(X_test_w,y_test_w))      # Enter score here\n",
    "\n",
    "Calibration_score = np.round([Baseline_cal_score,A5_cal_score,A6_LM_cal_score,A6_LPS_cal_score],3)\n",
    "\n",
    "score_series = pd.Series(Calibration_score)\n",
    "\n",
    "plt.figure()\n",
    "fig = score_series.plot(kind='bar',color=\"gray\")\n",
    "fig.set_xticklabels(x_labels, rotation=0)\n",
    "fig.bar_label(fig.containers[0], label_type='edge')\n",
    "plt.ylabel('Calibration score',fontsize = 12)\n",
    "plt.title('Calibration score Comparision',fontsize = 14)"
   ]
  },
  {
   "cell_type": "markdown",
   "metadata": {
    "id": "tl4rIzPdTqZI"
   },
   "source": [
    "## False Positive Rate plot:"
   ]
  },
  {
   "cell_type": "code",
   "execution_count": 29,
   "metadata": {
    "colab": {
     "base_uri": "https://localhost:8080/"
    },
    "id": "DhfKFRZhUS3M",
    "outputId": "2a40d18a-e6da-4e39-bfc9-0669c5191650"
   },
   "outputs": [
    {
     "name": "stdout",
     "output_type": "stream",
     "text": [
      "Total FPR:  0.24733475479744135\n",
      "African American FPR:  0.340080971659919\n",
      "Caucasian FPR:  0.14414414414414414\n"
     ]
    }
   ],
   "source": [
    "#FPR for baseline\n",
    "from sklearn.metrics import confusion_matrix\n",
    "y_pred_T = clf.predict(X_test)\n",
    "CM_T = confusion_matrix(y_test, y_pred_T)\n",
    "\n",
    "TN_T = CM_T[0][0]\n",
    "FN_T = CM_T[1][0]\n",
    "TP_T = CM_T[1][1]\n",
    "FP_T = CM_T[0][1]\n",
    "\n",
    "FPR_T = FP_T/(FP_T+TN_T)\n",
    "print(\"Total FPR: \",FPR_T)\n",
    "\n",
    "# African American FPR\n",
    "\n",
    "y_pred_b = clf.predict(X_test_b)\n",
    "CM_b = confusion_matrix(y_test_b, y_pred_b)\n",
    "\n",
    "TN_b = CM_b[0][0]\n",
    "FP_b = CM_b[0][1]\n",
    "\n",
    "FPR_b = FP_b/(FP_b+TN_b)\n",
    "print(\"African American FPR: \",FPR_b)\n",
    "\n",
    "# Caucasian FPR\n",
    "\n",
    "y_pred_w = clf.predict(X_test_w)\n",
    "CM_w = confusion_matrix(y_test_w, y_pred_w)\n",
    "\n",
    "TN_w = CM_w [0][0]\n",
    "FP_w = CM_w [0][1]\n",
    "\n",
    "FPR_w = FP_w/(FP_w+TN_w)\n",
    "print(\"Caucasian FPR: \",FPR_w)"
   ]
  },
  {
   "cell_type": "code",
   "execution_count": 30,
   "metadata": {
    "colab": {
     "base_uri": "https://localhost:8080/"
    },
    "id": "jxyj7p_-UeDT",
    "outputId": "a75beb3c-8acd-4e70-95d1-f9760d432264"
   },
   "outputs": [
    {
     "name": "stdout",
     "output_type": "stream",
     "text": [
      "Total FPR:  0.23880597014925373\n",
      "African American FPR:  0.31983805668016196\n",
      "Caucasian FPR:  0.14864864864864866\n"
     ]
    }
   ],
   "source": [
    "# FPR for A6 LM\n",
    "\n",
    "# Overall FPR\n",
    "y_pred_T = clf_new.predict(X_test)\n",
    "CM_T = confusion_matrix(y_test, y_pred_T)\n",
    "TN_T = CM_T[0][0]\n",
    "FP_T = CM_T[0][1]\n",
    "FPR_T_LM = FP_T/(FP_T+TN_T)\n",
    "print(\"Total FPR: \",FPR_T_LM)\n",
    "\n",
    "\n",
    "# African American FPR\n",
    "y_pred_b = clf_new.predict(X_test_b)\n",
    "CM_b = confusion_matrix(y_test_b, y_pred_b)\n",
    "TN_b = CM_b[0][0]\n",
    "FP_b = CM_b[0][1]\n",
    "FPR_b_LM = FP_b/(FP_b+TN_b)\n",
    "print(\"African American FPR: \",FPR_b_LM)\n",
    "\n",
    "\n",
    "# Caucasian FPR\n",
    "y_pred_w = clf_new.predict(X_test_w)\n",
    "CM_w = confusion_matrix(y_test_w, y_pred_w)\n",
    "TN_w = CM_w [0][0]\n",
    "FP_w = CM_w [0][1]\n",
    "FPR_w_LM = FP_w/(FP_w+TN_w)\n",
    "print(\"Caucasian FPR: \",FPR_w_LM)"
   ]
  },
  {
   "cell_type": "code",
   "execution_count": 31,
   "metadata": {
    "colab": {
     "base_uri": "https://localhost:8080/"
    },
    "id": "Me2eA7BrT_fa",
    "outputId": "9e9b2d67-9b7f-4c03-85db-8ad26c48f530"
   },
   "outputs": [
    {
     "name": "stdout",
     "output_type": "stream",
     "text": [
      "Total FPR:  0.24520255863539445\n",
      "African American FPR:  0.3360323886639676\n",
      "Caucasian FPR:  0.14414414414414414\n"
     ]
    }
   ],
   "source": [
    "# FPR for A6 LPS\n",
    "from sklearn.metrics import confusion_matrix\n",
    "# Overall FPR\n",
    "y_pred_T = clf_new1.predict(X_test)\n",
    "CM_T = confusion_matrix(y_test, y_pred_T)\n",
    "TN_T = CM_T[0][0]\n",
    "FP_T = CM_T[0][1]\n",
    "FPR_T_LPS = FP_T/(FP_T+TN_T)\n",
    "print(\"Total FPR: \",FPR_T_LPS)\n",
    "\n",
    "# African American FPR\n",
    "y_pred_b = clf_new1.predict(X_test_b)\n",
    "CM_b = confusion_matrix(y_test_b, y_pred_b)\n",
    "TN_b = CM_b[0][0]\n",
    "FP_b = CM_b[0][1]\n",
    "FPR_b_LPS = FP_b/(FP_b+TN_b)\n",
    "print(\"African American FPR: \",FPR_b_LPS)\n",
    "\n",
    "# Caucasian FPR\n",
    "y_pred_w = clf_new1.predict(X_test_w)\n",
    "CM_w = confusion_matrix(y_test_w, y_pred_w)\n",
    "TN_w = CM_w [0][0]\n",
    "FP_w = CM_w [0][1]\n",
    "FPR_w_LPS = FP_w/(FP_w+TN_w)\n",
    "print(\"Caucasian FPR: \",FPR_w_LPS)"
   ]
  },
  {
   "cell_type": "code",
   "execution_count": 32,
   "metadata": {
    "colab": {
     "base_uri": "https://localhost:8080/",
     "height": 499
    },
    "id": "ax3CVe58Tpx9",
    "outputId": "42586b6b-2b7c-4d8d-eea2-bc75be987907"
   },
   "outputs": [
    {
     "data": {
      "image/png": "[encoded data removed]",
      "text/plain": [
       "<Figure size 1008x576 with 1 Axes>"
      ]
     },
     "metadata": {
      "needs_background": "light"
     },
     "output_type": "display_data"
    }
   ],
   "source": [
    "labels = ['Baseline', 'A5', 'A6 LM', 'A6 LPS']   # Add other models here\n",
    "\n",
    "# Insert scores here:\n",
    "FPR_score             = np.round_([FPR_T,0.555, FPR_T_LM, FPR_T_LPS],3)\n",
    "FPR_African_American  = np.round_([FPR_b,0.555, FPR_b_LM, FPR_b_LPS],3)\n",
    "FPR_Caucassian        = np.round_([FPR_w,0.555, FPR_w_LM, FPR_w_LPS],3)\n",
    "\n",
    "x = np.arange(len(labels))  \n",
    "width = 0.25 \n",
    "\n",
    "fig, ax = plt.subplots(figsize=(14, 8))\n",
    "\n",
    "rects0 = ax.bar(x , FPR_score  , width, label='Total Accuracy', color=\"gray\")\n",
    "rects1 = ax.bar(x - width, FPR_African_American, width, label='African_American', color = \"black\")\n",
    "rects2 = ax.bar(x + width, FPR_Caucassian, width, label='Caucassian', color = \"peachpuff\")\n",
    "\n",
    "ax.set_ylabel('False Positive Rate')\n",
    "ax.set_title('False Positive Rate Comparision')\n",
    "ax.set_xticks(x, labels)\n",
    "ax.legend(bbox_to_anchor=(1.05, 1.0), loc='upper left')\n",
    "\n",
    "ax.bar_label(rects0, padding=3)\n",
    "ax.bar_label(rects1, padding=3)\n",
    "ax.bar_label(rects2, padding=3)\n",
    "\n",
    "plt.show()"
   ]
  }
 ],
 "metadata": {
  "colab": {
   "provenance": []
  },
  "hide_input": false,
  "kernelspec": {
   "display_name": "Python 3 (ipykernel)",
   "language": "python",
   "name": "python3"
  },
  "language_info": {
   "codemirror_mode": {
    "name": "ipython",
    "version": 3
   },
   "file_extension": ".py",
   "mimetype": "text/x-python",
   "name": "python",
   "nbconvert_exporter": "python",
   "pygments_lexer": "ipython3",
   "version": "3.9.12"
  }
 },
 "nbformat": 4,
 "nbformat_minor": 1
}
