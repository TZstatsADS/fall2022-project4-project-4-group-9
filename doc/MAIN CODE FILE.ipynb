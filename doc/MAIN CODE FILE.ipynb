{
 "cells": [
  {
   "cell_type": "markdown",
   "id": "8bcd0009",
   "metadata": {},
   "source": [
    "# Pre-Process"
   ]
  },
  {
   "cell_type": "code",
   "execution_count": 94,
   "id": "86544438",
   "metadata": {},
   "outputs": [],
   "source": [
    "import warnings\n",
    "warnings.filterwarnings(\"ignore\")"
   ]
  },
  {
   "cell_type": "code",
   "execution_count": 95,
   "id": "fbbdbe9e",
   "metadata": {
    "id": "k1WHo4Iddz7l"
   },
   "outputs": [],
   "source": [
    "import pandas as pd\n",
    "import numpy as np\n",
    "df= pd.read_csv(\"compas-scores-two-years.csv\")\n",
    "df = df.loc[df[\"race\"].isin([\"African-American\", \"Caucasian\"])]\n",
    "df[\"race\"].replace(['African-American', 'Caucasian'],[0, 1], inplace=True)\n",
    "df[\"score_text\"].replace([\"Low\",\"Medium\",\"High\"],[0,1,2],inplace=True)\n",
    "df[\"sex\"].replace([\"Male\",\"Female\"],[0,1],inplace=True)\n",
    "df[\"c_charge_degree\"].replace([\"M\",\"F\"],[0,1],inplace=True)\n",
    "df[\"priors_count\"] = np.where(df['priors_count'] > 0, 1, 0)\n",
    "juv_cond = (df['juv_fel_count'] > 0) | (df['juv_misd_count'] > 0) | (df['juv_other_count'] > 0)\n",
    "df['juv_count'] = np.where(juv_cond, 1, 0)"
   ]
  },
  {
   "cell_type": "code",
   "execution_count": 96,
   "id": "44d2c5b7",
   "metadata": {
    "colab": {
     "base_uri": "https://localhost:8080/"
    },
    "id": "4lSZo05Gd_Lo",
    "outputId": "43ec5e0a-e1ff-4f17-c958-71a6ab41480a"
   },
   "outputs": [
    {
     "name": "stdout",
     "output_type": "stream",
     "text": [
      "(5271, 7) (5271,) (879, 7) (879,)\n",
      "(4392, 7) (4392,) (879, 7) (879,)\n"
     ]
    }
   ],
   "source": [
    "y = df[\"two_year_recid\"]\n",
    "X = pd.DataFrame(df, columns=[\"race\",\"age\",\"priors_count\",\"juv_count\",'score_text',\"sex\",\"c_charge_degree\"])\n",
    "from sklearn.model_selection import train_test_split\n",
    "X_train, X_test, y_train, y_test=train_test_split(X,y,test_size=1/7, random_state=42, stratify=y)\n",
    "print(X_train.shape, y_train.shape, X_test.shape, y_test.shape)\n",
    "X_train, X_valid, y_train, y_valid=train_test_split(X_train,y_train,test_size=879, random_state=42, stratify=y_train)\n",
    "print(X_train.shape, y_train.shape, X_valid.shape, y_valid.shape)"
   ]
  },
  {
   "cell_type": "markdown",
   "id": "79826a04",
   "metadata": {
    "id": "5XH3AmE1wide"
   },
   "source": [
    "# Baseline"
   ]
  },
  {
   "cell_type": "code",
   "execution_count": 128,
   "id": "fcb0fc58",
   "metadata": {
    "colab": {
     "base_uri": "https://localhost:8080/"
    },
    "id": "d798yW5oeKVK",
    "outputId": "050ead0b-acb4-4498-d792-d888c44543a3"
   },
   "outputs": [
    {
     "name": "stdout",
     "output_type": "stream",
     "text": [
      "Accuracy baseline:  0.6791808873720137\n"
     ]
    }
   ],
   "source": [
    "from sklearn.linear_model import LogisticRegression\n",
    "clf = LogisticRegression(random_state=0).fit(X_train, y_train)\n",
    "clf.score(X_test,y_test)\n",
    "print(\"Accuracy baseline: \",clf.score(X_test,y_test))"
   ]
  },
  {
   "cell_type": "code",
   "execution_count": 98,
   "id": "e7cc6814",
   "metadata": {
    "colab": {
     "base_uri": "https://localhost:8080/"
    },
    "id": "FGlQZYBunn4q",
    "outputId": "bcbedda7-3348-41a0-f4f6-180ce3466475"
   },
   "outputs": [
    {
     "name": "stdout",
     "output_type": "stream",
     "text": [
      "(515, 7) (364, 7)\n"
     ]
    }
   ],
   "source": [
    "index_b= (X_test[\"race\"]==0)\n",
    "X_test_b=X_test[index_b]\n",
    "y_test_b=y_test[index_b]\n",
    "X_test_w=X_test[-index_b]\n",
    "y_test_w=y_test[-index_b]"
   ]
  },
  {
   "cell_type": "code",
   "execution_count": 99,
   "id": "3650470c",
   "metadata": {
    "colab": {
     "base_uri": "https://localhost:8080/"
    },
    "id": "P-PpERnWKhIZ",
    "outputId": "fdb86408-6efd-49cf-eb7a-e62f12994944"
   },
   "outputs": [
    {
     "name": "stdout",
     "output_type": "stream",
     "text": [
      "(2638, 7) (1754, 7)\n"
     ]
    }
   ],
   "source": [
    "index_b= (X_train[\"race\"]==0)\n",
    "X_train_b=X_train[index_b]\n",
    "y_train_b=y_train[index_b]\n",
    "X_train_w=X_train[-index_b]\n",
    "y_train_w=y_train[-index_b]"
   ]
  },
  {
   "cell_type": "code",
   "execution_count": 126,
   "id": "5835c198",
   "metadata": {
    "colab": {
     "base_uri": "https://localhost:8080/"
    },
    "id": "os9zoVlwv_hn",
    "outputId": "45567f5a-3117-41c2-ffc4-87b0074ec91a"
   },
   "outputs": [
    {
     "name": "stdout",
     "output_type": "stream",
     "text": [
      "calibration score baseline:  0.04116078096660625\n"
     ]
    }
   ],
   "source": [
    "#calibration\n",
    "print(\"calibration score baseline: \",abs(clf.score(X_test_b,y_test_b)-clf.score(X_test_w,y_test_w)))"
   ]
  },
  {
   "cell_type": "code",
   "execution_count": null,
   "id": "eb95abe6",
   "metadata": {},
   "outputs": [],
   "source": []
  },
  {
   "cell_type": "code",
   "execution_count": null,
   "id": "f28b8b28",
   "metadata": {},
   "outputs": [],
   "source": []
  },
  {
   "cell_type": "markdown",
   "id": "d8f59e34",
   "metadata": {},
   "source": [
    "# A5"
   ]
  },
  {
   "cell_type": "code",
   "execution_count": null,
   "id": "92cfc0f2",
   "metadata": {},
   "outputs": [],
   "source": []
  },
  {
   "cell_type": "code",
   "execution_count": null,
   "id": "467027e2",
   "metadata": {},
   "outputs": [],
   "source": []
  },
  {
   "cell_type": "code",
   "execution_count": null,
   "id": "4aaebb66",
   "metadata": {},
   "outputs": [],
   "source": []
  },
  {
   "cell_type": "code",
   "execution_count": null,
   "id": "7652d153",
   "metadata": {},
   "outputs": [],
   "source": []
  },
  {
   "cell_type": "code",
   "execution_count": null,
   "id": "8fcfeb13",
   "metadata": {},
   "outputs": [],
   "source": []
  },
  {
   "cell_type": "code",
   "execution_count": null,
   "id": "4d979b79",
   "metadata": {},
   "outputs": [],
   "source": []
  },
  {
   "cell_type": "code",
   "execution_count": null,
   "id": "9d108351",
   "metadata": {},
   "outputs": [],
   "source": []
  },
  {
   "cell_type": "markdown",
   "id": "f6d2e0f1",
   "metadata": {},
   "source": [
    "# A6"
   ]
  },
  {
   "cell_type": "markdown",
   "id": "99044f07",
   "metadata": {
    "id": "ZCvk4rRGwmW9"
   },
   "source": [
    "## Determine e"
   ]
  },
  {
   "cell_type": "code",
   "execution_count": 101,
   "id": "962b8704",
   "metadata": {
    "colab": {
     "base_uri": "https://localhost:8080/"
    },
    "id": "jsb2K-Etwo19",
    "outputId": "d5efd089-9a82-4b4d-ba8e-17f4b589469b"
   },
   "outputs": [
    {
     "name": "stdout",
     "output_type": "stream",
     "text": [
      "D_all: 0.24305237978738947\n"
     ]
    }
   ],
   "source": [
    "import numpy as np\n",
    "D_all=np.sum(clf.predict(X_train_b)==1)/len(X_train_b)-np.sum(clf.predict(X_train_w)==1)/len(X_train_w)\n",
    "print(\"D_all:\", D_all)"
   ]
  },
  {
   "cell_type": "code",
   "execution_count": 102,
   "id": "80920415",
   "metadata": {
    "id": "rSwxZCINHI1W"
   },
   "outputs": [],
   "source": [
    "def D_bad_function(x):\n",
    "    \n",
    "    # Making male and female subsets of black people:\n",
    "    B_dataset = X_train_b.groupby(x)\n",
    "    W_dataset = X_train_w.groupby(x)\n",
    "\n",
    "    # Total unique values in \"sex\" column\n",
    "    n = np.sum(B_dataset[x].nunique())\n",
    "    \n",
    "    e = []\n",
    "    for i in range(n):\n",
    "        e.append((np.sum(clf.predict(B_dataset.get_group(i))==1)/len(B_dataset.get_group(i))+np.sum(clf.predict(W_dataset.get_group(i))==1)/len(W_dataset.get_group(i)))/n)\n",
    "\n",
    "    d = []\n",
    "    for i in range(n):\n",
    "        d.append((len(B_dataset.get_group(i))/len(X_train_b)-len(W_dataset.get_group(i))/len(X_train_w))*e[i])\n",
    "    \n",
    "    D_exp = np.sum(d)\n",
    "    \n",
    "    return(D_all-D_exp)"
   ]
  },
  {
   "cell_type": "code",
   "execution_count": 103,
   "id": "0045429a",
   "metadata": {
    "id": "mv4HYCFjHWhM"
   },
   "outputs": [],
   "source": [
    "D_bad_all=[D_bad_function(\"sex\"),D_bad_function(\"priors_count\"),D_bad_function(\"juv_count\"),\n",
    "           D_bad_function(\"c_charge_degree\"),D_bad_function(\"score_text\")]"
   ]
  },
  {
   "cell_type": "code",
   "execution_count": 104,
   "id": "79cd9837",
   "metadata": {
    "colab": {
     "base_uri": "https://localhost:8080/",
     "height": 481
    },
    "id": "AWOlnqBNIVCB",
    "outputId": "477123ad-641e-4786-dc52-3056aff6f974"
   },
   "outputs": [
    {
     "data": {
      "text/plain": [
       "([<matplotlib.axis.XTick at 0x1b1d5abfc70>,\n",
       "  <matplotlib.axis.XTick at 0x1b1d5abf2b0>,\n",
       "  <matplotlib.axis.XTick at 0x1b1d5abc850>,\n",
       "  <matplotlib.axis.XTick at 0x1b1de223d00>,\n",
       "  <matplotlib.axis.XTick at 0x1b1de216490>],\n",
       " [Text(0.0, 0, 'sex'),\n",
       "  Text(1.0, 0, 'priors_count'),\n",
       "  Text(2.0, 0, 'juv_count'),\n",
       "  Text(3.0, 0, 'c_charge_degree'),\n",
       "  Text(4.0, 0, 'score_text')])"
      ]
     },
     "execution_count": 104,
     "metadata": {},
     "output_type": "execute_result"
    },
    {
     "data": {
      "image/png": "[encoded data removed]",
      "text/plain": [
       "<Figure size 640x480 with 1 Axes>"
      ]
     },
     "metadata": {},
     "output_type": "display_data"
    }
   ],
   "source": [
    "import matplotlib.pyplot as plt\n",
    "plt.plot(D_bad_all)\n",
    "plt.axhline(y = D_all, color = 'r', linestyle = '-')\n",
    "plt.ylim([0,0.3])\n",
    "plt.legend([\"D_bad\",\"D_all\"])\n",
    "plt.xticks([0.0,1.0,2.0,3.0,4.0],[\"sex\",\"priors_count\",\"juv_count\",\"c_charge_degree\",\"score_text\"],rotation=30)"
   ]
  },
  {
   "cell_type": "markdown",
   "id": "d5a406ac",
   "metadata": {
    "id": "L5D4LqW390kY"
   },
   "source": [
    "## Algorithm A6 : Local massaging"
   ]
  },
  {
   "cell_type": "code",
   "execution_count": 105,
   "id": "1c99cd06",
   "metadata": {
    "colab": {
     "base_uri": "https://localhost:8080/"
    },
    "id": "_iUloSfy92jD",
    "outputId": "1ade2cf1-7cc3-4aee-9dfc-e054ebc9a04e"
   },
   "outputs": [],
   "source": [
    "\n",
    "index_m= (X_train[\"juv_count\"]==0)\n",
    "X_train_m=X_train[index_m]\n",
    "y_train_m=y_train[index_m]\n",
    "X_train_f=X_train[-index_m]\n",
    "y_train_f=y_train[-index_m]"
   ]
  },
  {
   "cell_type": "code",
   "execution_count": 106,
   "id": "cc33a563",
   "metadata": {
    "colab": {
     "base_uri": "https://localhost:8080/"
    },
    "id": "uak2iAZeCUJB",
    "outputId": "08866da7-15a5-45ac-e770-8c30b1cb2922"
   },
   "outputs": [],
   "source": [
    "from sklearn.linear_model import LogisticRegression\n",
    "clf_m = LogisticRegression(random_state=0).fit(X_train_m, y_train_m)\n",
    "clf_f = LogisticRegression(random_state=0).fit(X_train_f, y_train_f)"
   ]
  },
  {
   "cell_type": "code",
   "execution_count": 107,
   "id": "36891504",
   "metadata": {
    "colab": {
     "base_uri": "https://localhost:8080/"
    },
    "id": "9wdKPzdM-PWo",
    "outputId": "739374cf-da21-4109-d0d4-847c0811404d"
   },
   "outputs": [],
   "source": [
    "#get probability for logistic regression\n",
    "X_train_m[\"prob_0\"],X_train_m[\"prob_1\"]=clf_m.predict_proba(X_train_m)[:,0],clf_m.predict_proba(X_train_m)[:,1]\n",
    "X_train_f[\"prob_0\"],X_train_f[\"prob_1\"]=clf_f.predict_proba(X_train_f)[:,0],clf_f.predict_proba(X_train_f)[:,1]"
   ]
  },
  {
   "cell_type": "code",
   "execution_count": 108,
   "id": "bc800f2f",
   "metadata": {
    "colab": {
     "base_uri": "https://localhost:8080/"
    },
    "id": "7UOqPdAZC3Kv",
    "outputId": "ed281375-e9c1-4f18-ddc5-a83ae60bf644"
   },
   "outputs": [],
   "source": [
    "index_b= (X_train[\"race\"]==0)\n",
    "X_train_b=X_train[index_b]\n",
    "y_train_b=y_train[index_b]\n",
    "X_train_w=X_train[-index_b]\n",
    "y_train_w=y_train[-index_b]"
   ]
  },
  {
   "cell_type": "code",
   "execution_count": 109,
   "id": "37d49e5c",
   "metadata": {
    "colab": {
     "base_uri": "https://localhost:8080/"
    },
    "id": "QUfG1gGxDM0_",
    "outputId": "152c82fc-8897-4457-9970-d3ab15b9e936"
   },
   "outputs": [
    {
     "name": "stdout",
     "output_type": "stream",
     "text": [
      "(2128, 7) (510, 7) (1607, 7) (147, 7)\n"
     ]
    }
   ],
   "source": [
    "index_b_m= (X_train_b[\"juv_count\"]==0)\n",
    "X_train_b_m=X_train_b[index_b_m]\n",
    "y_train_b_m=y_train_b[index_b_m]\n",
    "X_train_b_f=X_train_b[-index_b_m]\n",
    "y_train_b_f=y_train_b[-index_b_m]\n",
    "\n",
    "index_w_m= (X_train_w[\"juv_count\"]==0)\n",
    "X_train_w_m=X_train_w[index_w_m]\n",
    "y_train_w_m=y_train_w[index_w_m]\n",
    "X_train_w_f=X_train_w[-index_w_m]\n",
    "y_train_w_f=y_train_w[-index_w_m]\n",
    "print(X_train_b_m.shape,X_train_b_f.shape,X_train_w_m.shape,X_train_w_f.shape)"
   ]
  },
  {
   "cell_type": "code",
   "execution_count": 110,
   "id": "949fbc6c",
   "metadata": {
    "id": "syCgHsfxDnop"
   },
   "outputs": [],
   "source": [
    "#e_0\n",
    "p_plus_e_0=(np.sum(clf_m.predict(X_train_b_m)==1)/len(X_train_b_m)-np.sum(clf_m.predict(X_train_w_m)==1)/len(X_train_w_m))/2\n",
    "#e_1\n",
    "p_plus_e_1=(np.sum(clf_f.predict(X_train_b_f)==1)/len(X_train_b_f)-np.sum(clf_f.predict(X_train_w_f)==1)/len(X_train_w_f))/2"
   ]
  },
  {
   "cell_type": "code",
   "execution_count": 111,
   "id": "7edc147a",
   "metadata": {
    "colab": {
     "base_uri": "https://localhost:8080/"
    },
    "id": "R8vIDZH0CmJj",
    "outputId": "dc7e9574-e491-435d-deff-cef0b5a04c1b"
   },
   "outputs": [
    {
     "name": "stdout",
     "output_type": "stream",
     "text": [
      "802 129 2232 881\n"
     ]
    }
   ],
   "source": [
    "G_0=len(X_train_b)\n",
    "G_1=len(X_train_w)\n",
    "delta_b_m=int(G_0*(np.sum(clf_m.predict(X_train_b_m)==1)/len(X_train_b_m)-p_plus_e_0))\n",
    "delta_w_m=int(G_1*(np.sum(clf_m.predict(X_train_w_m)==1)/len(X_train_w_m)-p_plus_e_1))\n",
    "\n",
    "delta_b_f=int(G_0*(np.sum(clf_f.predict(X_train_b_f)==1)/len(X_train_b_f)-p_plus_e_0))\n",
    "delta_w_f=int(G_1*(np.sum(clf_f.predict(X_train_w_f)==1)/len(X_train_w_f)-p_plus_e_1))\n",
    "print(delta_b_m,delta_w_m,delta_b_f,delta_w_f)"
   ]
  },
  {
   "cell_type": "code",
   "execution_count": 112,
   "id": "c438edb9",
   "metadata": {
    "id": "gLVnUiyX6FlV"
   },
   "outputs": [],
   "source": [
    "index_p_to_n_m=X_train_m[(X_train_m[\"prob_1\"]>=0.5)&(X_train_m[\"race\"]==0)][\"prob_1\"].sort_values()[:delta_b_m]\n",
    "index_n_to_p_m=X_train_m[(X_train_m[\"prob_1\"]<0.5)&(X_train_m[\"race\"]==1)][\"prob_1\"].sort_values(ascending=False)[:delta_w_m]\n",
    "index_p_to_n_f=X_train_f[(X_train_f[\"prob_1\"]>=0.5)&(X_train_f[\"race\"]==0)][\"prob_1\"].sort_values()[:delta_b_f]\n",
    "index_n_to_p_f=X_train_f[(X_train_f[\"prob_1\"]<0.5)&(X_train_f[\"race\"]==1)][\"prob_1\"].sort_values(ascending=False)[:delta_w_f]"
   ]
  },
  {
   "cell_type": "code",
   "execution_count": 113,
   "id": "ad18e1a0",
   "metadata": {
    "id": "zg4Ypy-sEfXw"
   },
   "outputs": [],
   "source": [
    "y_train_1=y_train.copy()\n",
    "y_train_1[y_train_1.index.isin(index_p_to_n_m.index)]=0\n",
    "y_train_1[y_train_1.index.isin(index_n_to_p_m.index)]=1\n",
    "y_train_1[y_train_1.index.isin(index_p_to_n_f.index)]=0\n",
    "y_train_1[y_train_1.index.isin(index_n_to_p_f.index)]=1"
   ]
  },
  {
   "cell_type": "code",
   "execution_count": 125,
   "id": "6172ed86",
   "metadata": {
    "colab": {
     "base_uri": "https://localhost:8080/"
    },
    "id": "bD8pi4ANJl3s",
    "outputId": "b7e40fd5-51b9-459b-9eba-a10aaed45061"
   },
   "outputs": [
    {
     "name": "stdout",
     "output_type": "stream",
     "text": [
      "Accuracy LM:  0.6791808873720137\n",
      "calibration score LM:  0.04116078096660625\n"
     ]
    }
   ],
   "source": [
    "from sklearn.linear_model import LogisticRegression\n",
    "clf_new = LogisticRegression(random_state=0).fit(X_train, y_train_1)\n",
    "print(\"Accuracy LM: \",clf_new.score(X_test,y_test))\n",
    "print(\"calibration score LM: \",abs(clf_new.score(X_test_b,y_test_b)-clf_new.score(X_test_w,y_test_w)))"
   ]
  },
  {
   "cell_type": "markdown",
   "id": "659d608b",
   "metadata": {
    "id": "fRiYXp5_LXDb"
   },
   "source": [
    "## Algorithm A6: Local preferential sampling"
   ]
  },
  {
   "cell_type": "code",
   "execution_count": 115,
   "id": "a23c438d",
   "metadata": {
    "id": "UZuSGUy3LaZm"
   },
   "outputs": [],
   "source": [
    "index_p_to_n_m_u=X_train_m[(X_train_m[\"prob_1\"]>=0.5)&(X_train_m[\"race\"]==0)][\"prob_1\"].sort_values()[:int(delta_b_m/2)]\n",
    "index_p_to_n_m_d=X_train_m[(X_train_m[\"prob_1\"]<0.5)&(X_train_m[\"race\"]==0)][\"prob_1\"].sort_values(ascending=False)[:int(delta_b_m/2)]\n",
    "\n",
    "index_n_to_p_m_d=X_train_m[(X_train_m[\"prob_1\"]<0.5)&(X_train_m[\"race\"]==1)][\"prob_1\"].sort_values(ascending=False)[:int(delta_w_m/2)]\n",
    "index_n_to_p_m_u=X_train_m[(X_train_m[\"prob_1\"]>=0.5)&(X_train_m[\"race\"]==1)][\"prob_1\"].sort_values()[:int(delta_w_m/2)]\n",
    "\n",
    "index_p_to_n_f_u=X_train_f[(X_train_f[\"prob_1\"]>=0.5)&(X_train_f[\"race\"]==0)][\"prob_1\"].sort_values()[:int(delta_b_f/2)]\n",
    "index_p_to_n_f_d=X_train_f[(X_train_f[\"prob_1\"]<0.5)&(X_train_f[\"race\"]==0)][\"prob_1\"].sort_values(ascending=False)[:int(delta_b_f/2)]\n",
    "\n",
    "index_n_to_p_f_d=X_train_f[(X_train_f[\"prob_1\"]<0.5)&(X_train_f[\"race\"]==1)][\"prob_1\"].sort_values(ascending=False)[:int(delta_w_f/2)]\n",
    "index_n_to_p_f_u=X_train_f[(X_train_f[\"prob_1\"]>=0.5)&(X_train_f[\"race\"]==1)][\"prob_1\"].sort_values()[:int(delta_w_f/2)]"
   ]
  },
  {
   "cell_type": "code",
   "execution_count": 116,
   "id": "cb7b791d",
   "metadata": {
    "id": "VZ9v6jpYM_QT"
   },
   "outputs": [],
   "source": [
    "X_train_1=X_train.copy()\n",
    "y_train_1=y_train.copy()\n",
    "df_new=pd.concat([X_train,y_train_1],axis=1)\n",
    "df_new.drop(index_p_to_n_m_d.index,inplace=True)\n",
    "df_new.drop(index_n_to_p_m_u.index,inplace=True)\n",
    "df_new.drop(index_p_to_n_f_d.index,inplace=True)\n",
    "df_new.drop(index_n_to_p_f_u.index,inplace=True)"
   ]
  },
  {
   "cell_type": "code",
   "execution_count": 117,
   "id": "71d2371f",
   "metadata": {
    "id": "We5aSq_SP-xU"
   },
   "outputs": [],
   "source": [
    "df_dup_1=df_new[df_new.index.isin(index_p_to_n_m_u.index)]\n",
    "df_dup_2=df_new[df_new.index.isin(index_n_to_p_m_d.index)]\n",
    "df_dup_3=df_new[df_new.index.isin(index_p_to_n_f_u.index)]\n",
    "df_dup_4=df_new[df_new.index.isin(index_n_to_p_f_d.index)]\n",
    "df_new_all=df_new.append([df_dup_1,df_dup_2,df_dup_3,df_dup_4])"
   ]
  },
  {
   "cell_type": "code",
   "execution_count": 124,
   "id": "431bcc7a",
   "metadata": {
    "colab": {
     "base_uri": "https://localhost:8080/"
    },
    "id": "jgzoYgAkQux_",
    "outputId": "3a34653f-878c-4839-ae57-e33113061313"
   },
   "outputs": [
    {
     "name": "stdout",
     "output_type": "stream",
     "text": [
      "Accuracy LPS:  0.6757679180887372\n",
      "calibration score LPS:  0.03760802304491617\n"
     ]
    }
   ],
   "source": [
    "from sklearn.linear_model import LogisticRegression\n",
    "clf_new2 = LogisticRegression(random_state=0).fit(df_new_all.drop(\"two_year_recid\",axis=1), df_new_all[\"two_year_recid\"])\n",
    "print(\"Accuracy LPS: \",clf_new2.score(X_test,y_test))\n",
    "print(\"calibration score LPS: \",abs(clf_new2.score(X_test_b,y_test_b)-clf_new2.score(X_test_w,y_test_w)))"
   ]
  },
  {
   "cell_type": "code",
   "execution_count": null,
   "id": "8b4ad460",
   "metadata": {},
   "outputs": [],
   "source": []
  },
  {
   "cell_type": "code",
   "execution_count": null,
   "id": "52a06bce",
   "metadata": {},
   "outputs": [],
   "source": []
  },
  {
   "cell_type": "code",
   "execution_count": null,
   "id": "9e22b50d",
   "metadata": {},
   "outputs": [],
   "source": []
  },
  {
   "cell_type": "markdown",
   "id": "46ab9e2b",
   "metadata": {},
   "source": [
    "# Comparision plots:"
   ]
  },
  {
   "cell_type": "markdown",
   "id": "0a268f92",
   "metadata": {},
   "source": [
    "### Accuracy plot:"
   ]
  },
  {
   "cell_type": "code",
   "execution_count": 120,
   "id": "99d9c004",
   "metadata": {},
   "outputs": [
    {
     "data": {
      "image/png": "[encoded data removed]",
      "text/plain": [
       "<Figure size 1400x800 with 1 Axes>"
      ]
     },
     "metadata": {},
     "output_type": "display_data"
    }
   ],
   "source": [
    "labels = ['Baseline', 'A5', 'A6 LM', 'A6 LPS']   # Add other models here\n",
    "\n",
    "# Replace 0.555 with true scores:\n",
    "Accuracy_score             = np.round_([clf.score(X_test,y_test),0.555, clf_new.score(X_test,y_test),clf_new2.score(X_test,y_test)],3)\n",
    "Accuracy_African_American  = np.round_([clf.score(X_test_b,y_test_b),0.555,clf_new.score(X_test_b,y_test_b),clf_new2.score(X_test_b,y_test_b)],3)\n",
    "Accuracy_Caucassian        = np.round_([clf.score(X_test_w,y_test_w),0.555,clf_new.score(X_test_w,y_test_w),clf_new2.score(X_test_w,y_test_w)],3)\n",
    "\n",
    "x = np.arange(len(labels))  \n",
    "width = 0.25 \n",
    "\n",
    "fig, ax = plt.subplots(figsize=(14, 8))\n",
    "\n",
    "rects0 = ax.bar(x , Accuracy_score , width, label='Total Accuracy', color=\"gray\")\n",
    "rects1 = ax.bar(x - width, Accuracy_African_American, width, label='African_American', color = \"black\")\n",
    "rects2 = ax.bar(x + width, Accuracy_Caucassian, width, label='Caucassian', color = \"peachpuff\")\n",
    "\n",
    "ax.set_ylabel('Accuracy')\n",
    "ax.set_title('Accuracy Comparision')\n",
    "ax.set_xticks(x, labels)\n",
    "ax.legend(bbox_to_anchor=(1.05, 1.0), loc='upper left')\n",
    "\n",
    "ax.bar_label(rects0, padding=3)\n",
    "ax.bar_label(rects1, padding=3)\n",
    "ax.bar_label(rects2, padding=3)\n",
    "\n",
    "plt.show()"
   ]
  },
  {
   "cell_type": "markdown",
   "id": "76a0ff04",
   "metadata": {},
   "source": [
    "### Calibration plot:"
   ]
  },
  {
   "cell_type": "code",
   "execution_count": 122,
   "id": "a8c37b68",
   "metadata": {},
   "outputs": [
    {
     "data": {
      "text/plain": [
       "Text(0.5, 1.0, 'Calibration score Comparision')"
      ]
     },
     "execution_count": 122,
     "metadata": {},
     "output_type": "execute_result"
    },
    {
     "data": {
      "image/png": "[encoded data removed]",
      "text/plain": [
       "<Figure size 640x480 with 1 Axes>"
      ]
     },
     "metadata": {},
     "output_type": "display_data"
    }
   ],
   "source": [
    "x_labels = ['Baseline','A5', 'A6 LM', 'A6 LPS']\n",
    "\n",
    "Baseline_cal_score = abs(clf.score(X_test_b,y_test_b)-clf.score(X_test_w,y_test_w))\n",
    "A5_cal_score = 0.05          # Enter score here\n",
    "A6_LM_cal_score = abs(clf_new.score(X_test_b,y_test_b)-clf_new.score(X_test_w,y_test_w))\n",
    "A6_LPS_cal_score = abs(clf_new2.score(X_test_b,y_test_b)-clf_new2.score(X_test_w,y_test_w))    \n",
    "\n",
    "Calibration_score = np.round([Baseline_cal_score,A5_cal_score,A6_LM_cal_score,A6_LPS_cal_score],3)\n",
    "\n",
    "score_series = pd.Series(Calibration_score)\n",
    "\n",
    "plt.figure()\n",
    "fig = score_series.plot(kind='bar',color=\"gray\")\n",
    "fig.set_xticklabels(x_labels, rotation=0)\n",
    "fig.bar_label(fig.containers[0], label_type='edge')\n",
    "plt.ylabel('Calibration score',fontsize = 12)\n",
    "plt.title('Calibration score Comparision',fontsize = 14)"
   ]
  },
  {
   "cell_type": "markdown",
   "id": "991ccefe",
   "metadata": {},
   "source": [
    "### False Positive Rate plot:"
   ]
  },
  {
   "cell_type": "code",
   "execution_count": null,
   "id": "c1995c58",
   "metadata": {},
   "outputs": [],
   "source": [
    "'''FP = confusion_matrix.sum(axis=0) - np.diag(confusion_matrix)  \n",
    "FN = confusion_matrix.sum(axis=1) - np.diag(confusion_matrix)\n",
    "TP = np.diag(confusion_matrix)\n",
    "TN = confusion_matrix.values.sum() - (FP + FN + TP)\n",
    "\n",
    "# Sensitivity, hit rate, recall, or true positive rate\n",
    "TPR = TP/(TP+FN)\n",
    "# Specificity or true negative rate\n",
    "TNR = TN/(TN+FP) \n",
    "# Precision or positive predictive value\n",
    "PPV = TP/(TP+FP)\n",
    "# Negative predictive value\n",
    "NPV = TN/(TN+FN)\n",
    "# Fall out or false positive rate\n",
    "FPR = FP/(FP+TN)\n",
    "# False negative rate\n",
    "FNR = FN/(TP+FN)\n",
    "# False discovery rate\n",
    "FDR = FP/(TP+FP)\n",
    "\n",
    "# Overall accuracy\n",
    "ACC = (TP+TN)/(TP+FP+FN+TN) '''"
   ]
  },
  {
   "cell_type": "code",
   "execution_count": 222,
   "id": "a98fb051",
   "metadata": {},
   "outputs": [
    {
     "data": {
      "image/png": "[encoded data removed]",
      "text/plain": [
       "<Figure size 1400x800 with 1 Axes>"
      ]
     },
     "metadata": {},
     "output_type": "display_data"
    }
   ],
   "source": [
    "labels = ['Baseline', 'A5', 'A6 LM', 'A6 LPS']   # Add other models here\n",
    "\n",
    "# Insert scores here:\n",
    "FPR_score             = np.round_([clf.score(X_test,y_test),0.555, clf_new.score(X_test,y_test),0.555],2)\n",
    "FPR_African_American  = np.round_([clf.score(X_test_b,y_test_b),0.555,clf_new.score(X_test_b,y_test_b),0.555],2)\n",
    "FPR_Caucassian        = np.round_([clf.score(X_test_w,y_test_w),0.555,clf_new.score(X_test_w,y_test_w),0.555],2)\n",
    "\n",
    "x = np.arange(len(labels))  \n",
    "width = 0.25 \n",
    "\n",
    "fig, ax = plt.subplots(figsize=(14, 8))\n",
    "\n",
    "rects0 = ax.bar(x , Accuracy_score , width, label='Total Accuracy', color=\"gray\")\n",
    "rects1 = ax.bar(x - width, Accuracy_African_American, width, label='African_American', color = \"black\")\n",
    "rects2 = ax.bar(x + width, Accuracy_Caucassian, width, label='Caucassian', color = \"peachpuff\")\n",
    "\n",
    "ax.set_ylabel('False Positive Rate')\n",
    "ax.set_title('False Positive Rate Comparision')\n",
    "ax.set_xticks(x, labels)\n",
    "ax.legend(bbox_to_anchor=(1.05, 1.0), loc='upper left')\n",
    "\n",
    "ax.bar_label(rects0, padding=3)\n",
    "ax.bar_label(rects1, padding=3)\n",
    "ax.bar_label(rects2, padding=3)\n",
    "\n",
    "plt.show()"
   ]
  },
  {
   "cell_type": "code",
   "execution_count": null,
   "id": "f905a1a5",
   "metadata": {},
   "outputs": [],
   "source": []
  }
 ],
 "metadata": {
  "hide_input": false,
  "kernelspec": {
   "display_name": "Python 3 (ipykernel)",
   "language": "python",
   "name": "python3"
  },
  "language_info": {
   "codemirror_mode": {
    "name": "ipython",
    "version": 3
   },
   "file_extension": ".py",
   "mimetype": "text/x-python",
   "name": "python",
   "nbconvert_exporter": "python",
   "pygments_lexer": "ipython3",
   "version": "3.9.12"
  }
 },
 "nbformat": 4,
 "nbformat_minor": 5
}
