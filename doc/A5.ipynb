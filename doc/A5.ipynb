{
  "nbformat": 4,
  "nbformat_minor": 0,
  "metadata": {
    "colab": {
      "provenance": [],
      "collapsed_sections": [
        "WTQk2i45Clb4",
        "0yLNx1_uDnMu"
      ]
    },
    "kernelspec": {
      "name": "python3",
      "display_name": "Python 3"
    },
    "language_info": {
      "name": "python"
    },
    "accelerator": "GPU",
    "gpuClass": "standard"
  },
  "cells": [
    {
      "cell_type": "markdown",
      "source": [
        "###Import data"
      ],
      "metadata": {
        "id": "DZxppeK-C655"
      }
    },
    {
      "cell_type": "code",
      "execution_count": 1,
      "metadata": {
        "id": "mrI4lh5eY4Yx"
      },
      "outputs": [],
      "source": [
        "import pandas as pd"
      ]
    },
    {
      "cell_type": "code",
      "source": [
        "from google.colab import files\n",
        "uploaded = files.upload()"
      ],
      "metadata": {
        "colab": {
          "base_uri": "https://localhost:8080/",
          "height": 73
        },
        "id": "09RR9eEjZEGA",
        "outputId": "fd5ff5c4-dc4f-4f72-df54-d260be6f94c2"
      },
      "execution_count": 2,
      "outputs": [
        {
          "output_type": "display_data",
          "data": {
            "text/plain": [
              "<IPython.core.display.HTML object>"
            ],
            "text/html": [
              "\n",
              "     <input type=\"file\" id=\"files-df33e1d0-3b78-4a7d-a7c6-94a2202ab368\" name=\"files[]\" multiple disabled\n",
              "        style=\"border:none\" />\n",
              "     <output id=\"result-df33e1d0-3b78-4a7d-a7c6-94a2202ab368\">\n",
              "      Upload widget is only available when the cell has been executed in the\n",
              "      current browser session. Please rerun this cell to enable.\n",
              "      </output>\n",
              "      <script>// Copyright 2017 Google LLC\n",
              "//\n",
              "// Licensed under the Apache License, Version 2.0 (the \"License\");\n",
              "// you may not use this file except in compliance with the License.\n",
              "// You may obtain a copy of the License at\n",
              "//\n",
              "//      http://www.apache.org/licenses/LICENSE-2.0\n",
              "//\n",
              "// Unless required by applicable law or agreed to in writing, software\n",
              "// distributed under the License is distributed on an \"AS IS\" BASIS,\n",
              "// WITHOUT WARRANTIES OR CONDITIONS OF ANY KIND, either express or implied.\n",
              "// See the License for the specific language governing permissions and\n",
              "// limitations under the License.\n",
              "\n",
              "/**\n",
              " * @fileoverview Helpers for google.colab Python module.\n",
              " */\n",
              "(function(scope) {\n",
              "function span(text, styleAttributes = {}) {\n",
              "  const element = document.createElement('span');\n",
              "  element.textContent = text;\n",
              "  for (const key of Object.keys(styleAttributes)) {\n",
              "    element.style[key] = styleAttributes[key];\n",
              "  }\n",
              "  return element;\n",
              "}\n",
              "\n",
              "// Max number of bytes which will be uploaded at a time.\n",
              "const MAX_PAYLOAD_SIZE = 100 * 1024;\n",
              "\n",
              "function _uploadFiles(inputId, outputId) {\n",
              "  const steps = uploadFilesStep(inputId, outputId);\n",
              "  const outputElement = document.getElementById(outputId);\n",
              "  // Cache steps on the outputElement to make it available for the next call\n",
              "  // to uploadFilesContinue from Python.\n",
              "  outputElement.steps = steps;\n",
              "\n",
              "  return _uploadFilesContinue(outputId);\n",
              "}\n",
              "\n",
              "// This is roughly an async generator (not supported in the browser yet),\n",
              "// where there are multiple asynchronous steps and the Python side is going\n",
              "// to poll for completion of each step.\n",
              "// This uses a Promise to block the python side on completion of each step,\n",
              "// then passes the result of the previous step as the input to the next step.\n",
              "function _uploadFilesContinue(outputId) {\n",
              "  const outputElement = document.getElementById(outputId);\n",
              "  const steps = outputElement.steps;\n",
              "\n",
              "  const next = steps.next(outputElement.lastPromiseValue);\n",
              "  return Promise.resolve(next.value.promise).then((value) => {\n",
              "    // Cache the last promise value to make it available to the next\n",
              "    // step of the generator.\n",
              "    outputElement.lastPromiseValue = value;\n",
              "    return next.value.response;\n",
              "  });\n",
              "}\n",
              "\n",
              "/**\n",
              " * Generator function which is called between each async step of the upload\n",
              " * process.\n",
              " * @param {string} inputId Element ID of the input file picker element.\n",
              " * @param {string} outputId Element ID of the output display.\n",
              " * @return {!Iterable<!Object>} Iterable of next steps.\n",
              " */\n",
              "function* uploadFilesStep(inputId, outputId) {\n",
              "  const inputElement = document.getElementById(inputId);\n",
              "  inputElement.disabled = false;\n",
              "\n",
              "  const outputElement = document.getElementById(outputId);\n",
              "  outputElement.innerHTML = '';\n",
              "\n",
              "  const pickedPromise = new Promise((resolve) => {\n",
              "    inputElement.addEventListener('change', (e) => {\n",
              "      resolve(e.target.files);\n",
              "    });\n",
              "  });\n",
              "\n",
              "  const cancel = document.createElement('button');\n",
              "  inputElement.parentElement.appendChild(cancel);\n",
              "  cancel.textContent = 'Cancel upload';\n",
              "  const cancelPromise = new Promise((resolve) => {\n",
              "    cancel.onclick = () => {\n",
              "      resolve(null);\n",
              "    };\n",
              "  });\n",
              "\n",
              "  // Wait for the user to pick the files.\n",
              "  const files = yield {\n",
              "    promise: Promise.race([pickedPromise, cancelPromise]),\n",
              "    response: {\n",
              "      action: 'starting',\n",
              "    }\n",
              "  };\n",
              "\n",
              "  cancel.remove();\n",
              "\n",
              "  // Disable the input element since further picks are not allowed.\n",
              "  inputElement.disabled = true;\n",
              "\n",
              "  if (!files) {\n",
              "    return {\n",
              "      response: {\n",
              "        action: 'complete',\n",
              "      }\n",
              "    };\n",
              "  }\n",
              "\n",
              "  for (const file of files) {\n",
              "    const li = document.createElement('li');\n",
              "    li.append(span(file.name, {fontWeight: 'bold'}));\n",
              "    li.append(span(\n",
              "        `(${file.type || 'n/a'}) - ${file.size} bytes, ` +\n",
              "        `last modified: ${\n",
              "            file.lastModifiedDate ? file.lastModifiedDate.toLocaleDateString() :\n",
              "                                    'n/a'} - `));\n",
              "    const percent = span('0% done');\n",
              "    li.appendChild(percent);\n",
              "\n",
              "    outputElement.appendChild(li);\n",
              "\n",
              "    const fileDataPromise = new Promise((resolve) => {\n",
              "      const reader = new FileReader();\n",
              "      reader.onload = (e) => {\n",
              "        resolve(e.target.result);\n",
              "      };\n",
              "      reader.readAsArrayBuffer(file);\n",
              "    });\n",
              "    // Wait for the data to be ready.\n",
              "    let fileData = yield {\n",
              "      promise: fileDataPromise,\n",
              "      response: {\n",
              "        action: 'continue',\n",
              "      }\n",
              "    };\n",
              "\n",
              "    // Use a chunked sending to avoid message size limits. See b/62115660.\n",
              "    let position = 0;\n",
              "    do {\n",
              "      const length = Math.min(fileData.byteLength - position, MAX_PAYLOAD_SIZE);\n",
              "      const chunk = new Uint8Array(fileData, position, length);\n",
              "      position += length;\n",
              "\n",
              "      const base64 = btoa(String.fromCharCode.apply(null, chunk));\n",
              "      yield {\n",
              "        response: {\n",
              "          action: 'append',\n",
              "          file: file.name,\n",
              "          data: base64,\n",
              "        },\n",
              "      };\n",
              "\n",
              "      let percentDone = fileData.byteLength === 0 ?\n",
              "          100 :\n",
              "          Math.round((position / fileData.byteLength) * 100);\n",
              "      percent.textContent = `${percentDone}% done`;\n",
              "\n",
              "    } while (position < fileData.byteLength);\n",
              "  }\n",
              "\n",
              "  // All done.\n",
              "  yield {\n",
              "    response: {\n",
              "      action: 'complete',\n",
              "    }\n",
              "  };\n",
              "}\n",
              "\n",
              "scope.google = scope.google || {};\n",
              "scope.google.colab = scope.google.colab || {};\n",
              "scope.google.colab._files = {\n",
              "  _uploadFiles,\n",
              "  _uploadFilesContinue,\n",
              "};\n",
              "})(self);\n",
              "</script> "
            ]
          },
          "metadata": {}
        },
        {
          "output_type": "stream",
          "name": "stdout",
          "text": [
            "Saving compas-scores-two-years.csv to compas-scores-two-years.csv\n"
          ]
        }
      ]
    },
    {
      "cell_type": "code",
      "source": [
        "import io\n",
        "df = pd.read_csv(io.BytesIO(uploaded['compas-scores-two-years.csv']))"
      ],
      "metadata": {
        "id": "ibMtBmTaZZG1"
      },
      "execution_count": 3,
      "outputs": []
    },
    {
      "cell_type": "markdown",
      "source": [
        "###Preprocessing"
      ],
      "metadata": {
        "id": "xhLNTCw1AUMB"
      }
    },
    {
      "cell_type": "code",
      "source": [
        "df = df.loc[df[\"race\"].isin([\"African-American\", \"Caucasian\"])]\n",
        "df[\"race\"].replace(['African-American', 'Caucasian'],[0, 1], inplace=True)\n",
        "df[\"sex\"] = pd.get_dummies(df[\"sex\"])[\"Female\"]\n",
        "le={\"Low\":0,\"Medium\":1,\"High\":2}\n",
        "df[\"score_text\"]= df[\"score_text\"].replace(le)\n",
        "df.columns.values"
      ],
      "metadata": {
        "colab": {
          "base_uri": "https://localhost:8080/"
        },
        "id": "3YDqoRvK_1vs",
        "outputId": "a6122ea9-7705-4572-fd84-889eb96b3f5d"
      },
      "execution_count": 4,
      "outputs": [
        {
          "output_type": "stream",
          "name": "stderr",
          "text": [
            "/usr/local/lib/python3.7/dist-packages/pandas/core/generic.py:6619: SettingWithCopyWarning: \n",
            "A value is trying to be set on a copy of a slice from a DataFrame\n",
            "\n",
            "See the caveats in the documentation: https://pandas.pydata.org/pandas-docs/stable/user_guide/indexing.html#returning-a-view-versus-a-copy\n",
            "  return self._update_inplace(result)\n",
            "/usr/local/lib/python3.7/dist-packages/ipykernel_launcher.py:3: SettingWithCopyWarning: \n",
            "A value is trying to be set on a copy of a slice from a DataFrame.\n",
            "Try using .loc[row_indexer,col_indexer] = value instead\n",
            "\n",
            "See the caveats in the documentation: https://pandas.pydata.org/pandas-docs/stable/user_guide/indexing.html#returning-a-view-versus-a-copy\n",
            "  This is separate from the ipykernel package so we can avoid doing imports until\n",
            "/usr/local/lib/python3.7/dist-packages/ipykernel_launcher.py:5: SettingWithCopyWarning: \n",
            "A value is trying to be set on a copy of a slice from a DataFrame.\n",
            "Try using .loc[row_indexer,col_indexer] = value instead\n",
            "\n",
            "See the caveats in the documentation: https://pandas.pydata.org/pandas-docs/stable/user_guide/indexing.html#returning-a-view-versus-a-copy\n",
            "  \"\"\"\n"
          ]
        },
        {
          "output_type": "execute_result",
          "data": {
            "text/plain": [
              "array(['id', 'name', 'first', 'last', 'compas_screening_date', 'sex',\n",
              "       'dob', 'age', 'age_cat', 'race', 'juv_fel_count', 'decile_score',\n",
              "       'juv_misd_count', 'juv_other_count', 'priors_count',\n",
              "       'days_b_screening_arrest', 'c_jail_in', 'c_jail_out',\n",
              "       'c_case_number', 'c_offense_date', 'c_arrest_date',\n",
              "       'c_days_from_compas', 'c_charge_degree', 'c_charge_desc',\n",
              "       'is_recid', 'r_case_number', 'r_charge_degree',\n",
              "       'r_days_from_arrest', 'r_offense_date', 'r_charge_desc',\n",
              "       'r_jail_in', 'r_jail_out', 'violent_recid', 'is_violent_recid',\n",
              "       'vr_case_number', 'vr_charge_degree', 'vr_offense_date',\n",
              "       'vr_charge_desc', 'type_of_assessment', 'decile_score.1',\n",
              "       'score_text', 'screening_date', 'v_type_of_assessment',\n",
              "       'v_decile_score', 'v_score_text', 'v_screening_date', 'in_custody',\n",
              "       'out_custody', 'priors_count.1', 'start', 'end', 'event',\n",
              "       'two_year_recid'], dtype=object)"
            ]
          },
          "metadata": {},
          "execution_count": 4
        }
      ]
    },
    {
      "cell_type": "code",
      "source": [
        "len(df)"
      ],
      "metadata": {
        "colab": {
          "base_uri": "https://localhost:8080/"
        },
        "id": "5z5fHHov_880",
        "outputId": "72aaf3c3-5f8f-4603-f92b-b9f0cdee8891"
      },
      "execution_count": 5,
      "outputs": [
        {
          "output_type": "execute_result",
          "data": {
            "text/plain": [
              "6150"
            ]
          },
          "metadata": {},
          "execution_count": 5
        }
      ]
    },
    {
      "cell_type": "code",
      "source": [
        "Z = pd.DataFrame(df[\"race\"])\n",
        "y = df[\"two_year_recid\"]\n",
        "X = pd.DataFrame(df, columns=[\"race\",\"age\",\"priors_count\",\"juv_fel_count\",\"juv_misd_count\",\"juv_other_count\",'decile_score','score_text',\"sex\"])"
      ],
      "metadata": {
        "id": "lQtZ4d48__JF"
      },
      "execution_count": 6,
      "outputs": []
    },
    {
      "cell_type": "code",
      "source": [
        "Z.shape"
      ],
      "metadata": {
        "colab": {
          "base_uri": "https://localhost:8080/"
        },
        "id": "QQ6EVxeBEAGg",
        "outputId": "26a47732-17ec-4bd0-cb1d-e70cf1d7bd15"
      },
      "execution_count": 7,
      "outputs": [
        {
          "output_type": "execute_result",
          "data": {
            "text/plain": [
              "(6150, 1)"
            ]
          },
          "metadata": {},
          "execution_count": 7
        }
      ]
    },
    {
      "cell_type": "code",
      "source": [
        "y.head(10)"
      ],
      "metadata": {
        "colab": {
          "base_uri": "https://localhost:8080/"
        },
        "id": "7FjJzLCQpYQ4",
        "outputId": "3cb24765-eb01-4581-de27-d26db3bbdb2f"
      },
      "execution_count": 8,
      "outputs": [
        {
          "output_type": "execute_result",
          "data": {
            "text/plain": [
              "1     1\n",
              "2     1\n",
              "3     0\n",
              "6     1\n",
              "8     0\n",
              "9     1\n",
              "10    0\n",
              "11    1\n",
              "12    0\n",
              "13    0\n",
              "Name: two_year_recid, dtype: int64"
            ]
          },
          "metadata": {},
          "execution_count": 8
        }
      ]
    },
    {
      "cell_type": "code",
      "source": [
        "from sklearn.model_selection import train_test_split\n",
        "X_train, X_test, y_train, y_test=train_test_split(X,y,test_size=879, random_state=42, stratify=y)\n",
        "(X_train.shape, y_train.shape), (X_test.shape, y_test.shape)"
      ],
      "metadata": {
        "colab": {
          "base_uri": "https://localhost:8080/"
        },
        "id": "aFBoJDapABsl",
        "outputId": "efc64b47-afb0-410c-8fc8-3345e2b8e098"
      },
      "execution_count": 9,
      "outputs": [
        {
          "output_type": "execute_result",
          "data": {
            "text/plain": [
              "(((5271, 9), (5271,)), ((879, 9), (879,)))"
            ]
          },
          "metadata": {},
          "execution_count": 9
        }
      ]
    },
    {
      "cell_type": "code",
      "source": [
        "X_train, X_valid, y_train, y_valid=train_test_split(X_train,y_train,test_size=879, random_state=42, stratify=y_train)\n",
        "(X_train.shape, y_train.shape), (X_valid.shape, y_valid.shape)"
      ],
      "metadata": {
        "colab": {
          "base_uri": "https://localhost:8080/"
        },
        "id": "fRFROWEPAEN1",
        "outputId": "b0b37093-8b8b-49eb-e99c-6a1046d8f556"
      },
      "execution_count": 10,
      "outputs": [
        {
          "output_type": "execute_result",
          "data": {
            "text/plain": [
              "(((4392, 9), (4392,)), ((879, 9), (879,)))"
            ]
          },
          "metadata": {},
          "execution_count": 10
        }
      ]
    },
    {
      "cell_type": "markdown",
      "source": [
        "###Baseline"
      ],
      "metadata": {
        "id": "GIiMiuQ8AKwu"
      }
    },
    {
      "cell_type": "code",
      "source": [
        "from sklearn.linear_model import LogisticRegression\n",
        "clf = LogisticRegression(random_state=0).fit(X_train, y_train)"
      ],
      "metadata": {
        "id": "6L1y89MPAOSP"
      },
      "execution_count": 11,
      "outputs": []
    },
    {
      "cell_type": "code",
      "source": [
        "clf.score(X_test,y_test)"
      ],
      "metadata": {
        "colab": {
          "base_uri": "https://localhost:8080/"
        },
        "id": "P_ZgNtmZAZFu",
        "outputId": "c9f8fdb2-7782-4403-92c5-7c5daec62e61"
      },
      "execution_count": 12,
      "outputs": [
        {
          "output_type": "execute_result",
          "data": {
            "text/plain": [
              "0.7007963594994312"
            ]
          },
          "metadata": {},
          "execution_count": 12
        }
      ]
    },
    {
      "cell_type": "code",
      "source": [
        "from sklearn.metrics import classification_report\n",
        "y_pred=clf.predict(X_test)\n",
        "print(classification_report(y_test, y_pred))"
      ],
      "metadata": {
        "colab": {
          "base_uri": "https://localhost:8080/"
        },
        "id": "NdhgEtudAZDb",
        "outputId": "f78a44ce-683a-4a06-8f54-1a9fc4fccf66"
      },
      "execution_count": 13,
      "outputs": [
        {
          "output_type": "stream",
          "name": "stdout",
          "text": [
            "              precision    recall  f1-score   support\n",
            "\n",
            "           0       0.70      0.78      0.74       469\n",
            "           1       0.71      0.61      0.65       410\n",
            "\n",
            "    accuracy                           0.70       879\n",
            "   macro avg       0.70      0.69      0.70       879\n",
            "weighted avg       0.70      0.70      0.70       879\n",
            "\n"
          ]
        }
      ]
    },
    {
      "cell_type": "code",
      "source": [
        "#calibration score\n",
        "from sklearn import metrics\n",
        "abs(metrics.recall_score(y_test, y_pred, pos_label=0)-metrics.recall_score(y_test, y_pred, pos_label=1))"
      ],
      "metadata": {
        "colab": {
          "base_uri": "https://localhost:8080/"
        },
        "id": "VlbgcLsJAZAx",
        "outputId": "41b1c168-4927-4ed2-cd05-17d4310d76ac"
      },
      "execution_count": 14,
      "outputs": [
        {
          "output_type": "execute_result",
          "data": {
            "text/plain": [
              "0.17519891830048362"
            ]
          },
          "metadata": {},
          "execution_count": 14
        }
      ]
    },
    {
      "cell_type": "code",
      "source": [
        "!git clone https://github.com/sony/nnabla-examples.git\n",
        "%cd nnabla-examples/responsible_ai/prejudice_remover_regularizer\n",
        "!pip install nnabla-ext-cuda114"
      ],
      "metadata": {
        "colab": {
          "base_uri": "https://localhost:8080/",
          "height": 1000
        },
        "id": "bd37p-77AeIP",
        "outputId": "80521fba-8f17-4341-8cb7-d0f4d2e0dfe9"
      },
      "execution_count": 16,
      "outputs": [
        {
          "output_type": "stream",
          "name": "stdout",
          "text": [
            "Cloning into 'nnabla-examples'...\n",
            "remote: Enumerating objects: 8716, done.\u001b[K\n",
            "remote: Counting objects: 100% (1269/1269), done.\u001b[K\n",
            "remote: Compressing objects: 100% (570/570), done.\u001b[K\n",
            "remote: Total 8716 (delta 718), reused 1149 (delta 667), pack-reused 7447\u001b[K\n",
            "Receiving objects: 100% (8716/8716), 295.83 MiB | 24.72 MiB/s, done.\n",
            "Resolving deltas: 100% (4623/4623), done.\n",
            "Checking out files: 100% (1642/1642), done.\n",
            "/content/nnabla-examples/responsible_ai/prejudice_remover_regularizer\n",
            "Looking in indexes: https://pypi.org/simple, https://us-python.pkg.dev/colab-wheels/public/simple/\n",
            "Collecting nnabla-ext-cuda114\n",
            "  Downloading nnabla_ext_cuda114-1.31.0-cp37-cp37m-manylinux_2_17_x86_64.whl (114.8 MB)\n",
            "\u001b[K     |████████████████████████████████| 114.8 MB 1.9 MB/s \n",
            "\u001b[?25hRequirement already satisfied: setuptools in /usr/local/lib/python3.7/dist-packages (from nnabla-ext-cuda114) (57.4.0)\n",
            "Collecting nnabla==1.31.0\n",
            "  Downloading nnabla-1.31.0-cp37-cp37m-manylinux_2_17_x86_64.whl (18.8 MB)\n",
            "\u001b[K     |████████████████████████████████| 18.8 MB 655 kB/s \n",
            "\u001b[?25hRequirement already satisfied: pyyaml in /usr/local/lib/python3.7/dist-packages (from nnabla==1.31.0->nnabla-ext-cuda114) (6.0)\n",
            "Requirement already satisfied: h5py in /usr/local/lib/python3.7/dist-packages (from nnabla==1.31.0->nnabla-ext-cuda114) (3.1.0)\n",
            "Collecting boto3\n",
            "  Downloading boto3-1.26.17-py3-none-any.whl (132 kB)\n",
            "\u001b[K     |████████████████████████████████| 132 kB 58.7 MB/s \n",
            "\u001b[?25hRequirement already satisfied: six in /usr/local/lib/python3.7/dist-packages (from nnabla==1.31.0->nnabla-ext-cuda114) (1.15.0)\n",
            "Requirement already satisfied: tqdm in /usr/local/lib/python3.7/dist-packages (from nnabla==1.31.0->nnabla-ext-cuda114) (4.64.1)\n",
            "Requirement already satisfied: scipy in /usr/local/lib/python3.7/dist-packages (from nnabla==1.31.0->nnabla-ext-cuda114) (1.7.3)\n",
            "Requirement already satisfied: Cython in /usr/local/lib/python3.7/dist-packages (from nnabla==1.31.0->nnabla-ext-cuda114) (0.29.32)\n",
            "Collecting configparser\n",
            "  Downloading configparser-5.3.0-py3-none-any.whl (19 kB)\n",
            "Requirement already satisfied: imageio in /usr/local/lib/python3.7/dist-packages (from nnabla==1.31.0->nnabla-ext-cuda114) (2.9.0)\n",
            "Requirement already satisfied: pillow in /usr/local/lib/python3.7/dist-packages (from nnabla==1.31.0->nnabla-ext-cuda114) (7.1.2)\n",
            "Requirement already satisfied: numpy>=1.20.0 in /usr/local/lib/python3.7/dist-packages (from nnabla==1.31.0->nnabla-ext-cuda114) (1.21.6)\n",
            "Collecting protobuf<=3.19.4\n",
            "  Downloading protobuf-3.19.4-cp37-cp37m-manylinux_2_17_x86_64.manylinux2014_x86_64.whl (1.1 MB)\n",
            "\u001b[K     |████████████████████████████████| 1.1 MB 65.8 MB/s \n",
            "\u001b[?25hRequirement already satisfied: contextlib2 in /usr/local/lib/python3.7/dist-packages (from nnabla==1.31.0->nnabla-ext-cuda114) (0.5.5)\n",
            "Collecting botocore<1.30.0,>=1.29.17\n",
            "  Downloading botocore-1.29.17-py3-none-any.whl (10.0 MB)\n",
            "\u001b[K     |████████████████████████████████| 10.0 MB 52.3 MB/s \n",
            "\u001b[?25hCollecting jmespath<2.0.0,>=0.7.1\n",
            "  Downloading jmespath-1.0.1-py3-none-any.whl (20 kB)\n",
            "Collecting s3transfer<0.7.0,>=0.6.0\n",
            "  Downloading s3transfer-0.6.0-py3-none-any.whl (79 kB)\n",
            "\u001b[K     |████████████████████████████████| 79 kB 10.9 MB/s \n",
            "\u001b[?25hRequirement already satisfied: python-dateutil<3.0.0,>=2.1 in /usr/local/lib/python3.7/dist-packages (from botocore<1.30.0,>=1.29.17->boto3->nnabla==1.31.0->nnabla-ext-cuda114) (2.8.2)\n",
            "Collecting urllib3<1.27,>=1.25.4\n",
            "  Downloading urllib3-1.26.13-py2.py3-none-any.whl (140 kB)\n",
            "\u001b[K     |████████████████████████████████| 140 kB 75.4 MB/s \n",
            "\u001b[?25hRequirement already satisfied: cached-property in /usr/local/lib/python3.7/dist-packages (from h5py->nnabla==1.31.0->nnabla-ext-cuda114) (1.5.2)\n",
            "Installing collected packages: urllib3, jmespath, botocore, s3transfer, protobuf, configparser, boto3, nnabla, nnabla-ext-cuda114\n",
            "  Attempting uninstall: urllib3\n",
            "    Found existing installation: urllib3 1.24.3\n",
            "    Uninstalling urllib3-1.24.3:\n",
            "      Successfully uninstalled urllib3-1.24.3\n",
            "  Attempting uninstall: protobuf\n",
            "    Found existing installation: protobuf 3.19.6\n",
            "    Uninstalling protobuf-3.19.6:\n",
            "      Successfully uninstalled protobuf-3.19.6\n",
            "\u001b[31mERROR: pip's dependency resolver does not currently take into account all the packages that are installed. This behaviour is the source of the following dependency conflicts.\n",
            "requests 2.23.0 requires urllib3!=1.25.0,!=1.25.1,<1.26,>=1.21.1, but you have urllib3 1.26.13 which is incompatible.\n",
            "googleapis-common-protos 1.57.0 requires protobuf!=3.20.0,!=3.20.1,!=4.21.1,!=4.21.2,!=4.21.3,!=4.21.4,!=4.21.5,<5.0.0dev,>=3.19.5, but you have protobuf 3.19.4 which is incompatible.\n",
            "google-cloud-translate 3.8.4 requires protobuf!=3.20.0,!=3.20.1,!=4.21.0,!=4.21.1,!=4.21.2,!=4.21.3,!=4.21.4,!=4.21.5,<5.0.0dev,>=3.19.5, but you have protobuf 3.19.4 which is incompatible.\n",
            "google-cloud-language 2.6.1 requires protobuf!=3.20.0,!=3.20.1,!=4.21.0,!=4.21.1,!=4.21.2,!=4.21.3,!=4.21.4,!=4.21.5,<5.0.0dev,>=3.19.5, but you have protobuf 3.19.4 which is incompatible.\n",
            "google-cloud-firestore 2.7.2 requires protobuf!=3.20.0,!=3.20.1,!=4.21.0,!=4.21.1,!=4.21.2,!=4.21.3,!=4.21.4,!=4.21.5,<5.0.0dev,>=3.19.5, but you have protobuf 3.19.4 which is incompatible.\n",
            "google-cloud-datastore 2.9.0 requires protobuf!=3.20.0,!=3.20.1,!=4.21.0,!=4.21.1,!=4.21.2,!=4.21.3,!=4.21.4,!=4.21.5,<5.0.0dev,>=3.19.5, but you have protobuf 3.19.4 which is incompatible.\n",
            "google-cloud-bigquery 3.3.6 requires protobuf!=3.20.0,!=3.20.1,!=4.21.0,!=4.21.1,!=4.21.2,!=4.21.3,!=4.21.4,!=4.21.5,<5.0.0dev,>=3.19.5, but you have protobuf 3.19.4 which is incompatible.\n",
            "google-cloud-bigquery-storage 2.16.2 requires protobuf!=3.20.0,!=3.20.1,!=4.21.0,!=4.21.1,!=4.21.2,!=4.21.3,!=4.21.4,!=4.21.5,<5.0.0dev,>=3.19.5, but you have protobuf 3.19.4 which is incompatible.\u001b[0m\n",
            "Successfully installed boto3-1.26.17 botocore-1.29.17 configparser-5.3.0 jmespath-1.0.1 nnabla-1.31.0 nnabla-ext-cuda114-1.31.0 protobuf-3.19.4 s3transfer-0.6.0 urllib3-1.26.13\n"
          ]
        },
        {
          "output_type": "display_data",
          "data": {
            "application/vnd.colab-display-data+json": {
              "pip_warning": {
                "packages": [
                  "google"
                ]
              }
            }
          },
          "metadata": {}
        }
      ]
    },
    {
      "cell_type": "code",
      "source": [
        "import matplotlib.pyplot as plt\n",
        "import numpy as np\n",
        "import os\n",
        "import sys\n",
        "from sklearn.model_selection import train_test_split\n",
        "from sklearn.preprocessing import StandardScaler\n",
        "from sklearn import metrics\n",
        "import nnabla as nn\n",
        "from nnabla.logger import logger\n",
        "import nnabla.functions as F\n",
        "import nnabla.parametric_functions as PF\n",
        "import nnabla.solvers as S\n",
        "from nnabla.utils.data_iterator import data_iterator\n",
        "from nnabla.utils.data_source import DataSource\n",
        "from sklearn.metrics import confusion_matrix, ConfusionMatrixDisplay\n",
        "from IPython.display import Markdown\n",
        "\n",
        "from utils import *"
      ],
      "metadata": {
        "id": "kIV8AgMABXFD"
      },
      "execution_count": 17,
      "outputs": []
    },
    {
      "cell_type": "code",
      "source": [
        "nn.clear_parameters()"
      ],
      "metadata": {
        "id": "MD4-JS6ICZRz"
      },
      "execution_count": 18,
      "outputs": []
    },
    {
      "cell_type": "markdown",
      "source": [
        "###Data preparation"
      ],
      "metadata": {
        "id": "RtXsRFHpBmQX"
      }
    },
    {
      "cell_type": "code",
      "source": [
        "(X_train, X_test, y_train, y_test, Z_train, Z_test) = train_test_split(X, y, Z, test_size=0.3, stratify=y, random_state=7)\n",
        "\n",
        "scale_orig = StandardScaler()\n",
        "X_train = scale_orig.fit_transform(X_train)\n",
        "X_test = scale_orig.fit_transform(X_test)"
      ],
      "metadata": {
        "id": "tIAKmZh3BXCl"
      },
      "execution_count": 19,
      "outputs": []
    },
    {
      "cell_type": "code",
      "source": [
        "class dataset(DataSource):\n",
        "    def __init__(self,features, labels, senstive_attribute, shuffle=False):\n",
        "        super(dataset, self).__init__(shuffle=shuffle)\n",
        "        self.x = features\n",
        "        self.y = labels.reshape(-1, 1)\n",
        "        self.z = senstive_attribute\n",
        "        self._size = self.y.size\n",
        "        self._variables = ('x', 'y', 'z')\n",
        "        \n",
        "    def _get_data(self, idx):\n",
        "        return self.x[idx], self.y[idx], self.z[idx]\n",
        "\n",
        "trainset = dataset(X_train, y_train.to_numpy(), Z_train.to_numpy(), shuffle=True)\n",
        "testset = dataset(X_test, y_test.to_numpy(), Z_test.to_numpy())\n",
        "\n",
        "batchsize = 32\n",
        "test_batchsize = X_test.shape[0]\n",
        "\n",
        "trainloader = data_iterator(trainset, batch_size=batchsize)\n",
        "testloader = data_iterator(testset, batch_size=test_batchsize)"
      ],
      "metadata": {
        "id": "iXPWdzloBXAF"
      },
      "execution_count": 20,
      "outputs": []
    },
    {
      "cell_type": "code",
      "source": [
        "from nnabla.ext_utils import get_extension_context\n",
        "context = \"cudnn\" # for cpu set context as 'cpu'\n",
        "device_id = 0\n",
        "ctx = get_extension_context(context, device_id=device_id)\n",
        "nn.set_default_context(ctx)"
      ],
      "metadata": {
        "id": "X20EKg-dBW6Q"
      },
      "execution_count": 21,
      "outputs": []
    },
    {
      "cell_type": "code",
      "source": [
        "n_feature = nn.Variable((batchsize, 9))\n",
        "n_label = nn.Variable((batchsize, 1))\n",
        "n_senstive = nn.Variable((batchsize, 1))\n",
        "\n",
        "test_feature = nn.Variable((test_batchsize, 9))\n",
        "test_label = nn.Variable((test_batchsize, 1))\n",
        "test_senstive = nn.Variable((test_batchsize, 1))"
      ],
      "metadata": {
        "id": "wHjKzLwJBy4U"
      },
      "execution_count": 22,
      "outputs": []
    },
    {
      "cell_type": "markdown",
      "source": [
        "###Classifier Network"
      ],
      "metadata": {
        "id": "Lc9mDdCXB1U1"
      }
    },
    {
      "cell_type": "code",
      "source": [
        "def Classifier(features_n, n_hidden=32, p_dropout=0.2,train=True):\n",
        "    with nn.parameter_scope('classifier'):\n",
        "        l1 = PF.affine(features_n, n_hidden, name='l1')\n",
        "        l1 = F.relu(l1)\n",
        "        if (train):\n",
        "            l1 = F.dropout(l1,p_dropout)\n",
        "        l2 = PF.affine(l1, n_hidden, name='l2')\n",
        "        l2 = F.relu(l2)\n",
        "        if (train):\n",
        "            l2 = F.dropout(l2,p_dropout)\n",
        "        l3 = PF.affine(l2, n_hidden, name='l3')\n",
        "        l3 = F.relu(l3)\n",
        "        if (train):\n",
        "            l3 = F.dropout(l3,p_dropout)\n",
        "        l4 = PF.affine(l3, 1, name='l4')\n",
        "    return l4"
      ],
      "metadata": {
        "id": "zd_KZUpIBy1v"
      },
      "execution_count": 23,
      "outputs": []
    },
    {
      "cell_type": "code",
      "source": [
        "clf = Classifier(n_feature)\n",
        "clf_sigm = F.sigmoid(clf)\n",
        "clf.persistent = True\n",
        "clf_sigm.persistent = True"
      ],
      "metadata": {
        "id": "agvgnr3VByzK"
      },
      "execution_count": 24,
      "outputs": []
    },
    {
      "cell_type": "code",
      "source": [
        "t_clf = Classifier(test_feature,train=False)"
      ],
      "metadata": {
        "id": "ZWx6d45JB8Jj"
      },
      "execution_count": 25,
      "outputs": []
    },
    {
      "cell_type": "code",
      "source": [
        "loss = F.sum(F.sigmoid_cross_entropy(clf, n_label))\n",
        "loss.persistent = True\n",
        "learning_rate = 1e-03\n",
        "clf_solver = S.Adam(learning_rate)\n",
        "with nn.parameter_scope(\"classifier\"):\n",
        "    clf_solver.set_parameters(nn.get_parameters())\n",
        "clf_solver.weight_decay(1e-05)\n",
        "clf_solver.update()"
      ],
      "metadata": {
        "id": "T13GKq4LCAOI"
      },
      "execution_count": 26,
      "outputs": []
    },
    {
      "cell_type": "code",
      "source": [
        "max_iter = int(trainloader.size / batchsize)\n",
        "total_epochs = 10\n",
        "for epoch in range(total_epochs):\n",
        "    for i in range(max_iter):\n",
        "        n_feature.d, n_label.d, _ = trainloader.next()\n",
        "        clf_solver.zero_grad()\n",
        "        loss.forward(clear_no_need_grad=True)\n",
        "        loss.backward(clear_buffer=True)\n",
        "        clf_solver.update()"
      ],
      "metadata": {
        "id": "0xRdwLIjCCda"
      },
      "execution_count": 27,
      "outputs": []
    },
    {
      "cell_type": "markdown",
      "source": [
        "###Fairness for Classifier"
      ],
      "metadata": {
        "id": "WTQk2i45Clb4"
      }
    },
    {
      "cell_type": "markdown",
      "source": [
        "###Caldars-Verwer score\n",
        "This is defined as the difference between conditional probabilities. The larger score indicates the unfairer decision."
      ],
      "metadata": {
        "id": "aSp4RVBeaayu"
      }
    },
    {
      "cell_type": "code",
      "source": [
        "test_feature.d, test_label.d,test_senstive.d = testloader.next()\n",
        "t_clf_out = F.sigmoid(t_clf)\n",
        "t_clf_out.forward(clear_buffer=True)\n",
        "y_pre_clf = t_clf_out.d.ravel()\n",
        "preds = np.where(y_pre_clf > 0.5, 1, 0)\n",
        "clf_accuracy = metrics.accuracy_score(y_test, preds) * 100\n",
        "\n",
        "out_a = t_clf_out.d[test_senstive.d == 1]\n",
        "out_b = t_clf_out.d[test_senstive.d == 0]\n",
        "\n",
        "clf_cv_score = CVS(out_a,out_b)"
      ],
      "metadata": {
        "id": "RSYdo4HdCpNv"
      },
      "execution_count": 28,
      "outputs": []
    },
    {
      "cell_type": "code",
      "source": [
        "print(\"Classfier accuracy : \", clf_accuracy,\"CV Score :\", clf_cv_score) #baseline accuracy"
      ],
      "metadata": {
        "colab": {
          "base_uri": "https://localhost:8080/"
        },
        "id": "YCOJwa0_CpI7",
        "outputId": "39a1e249-fb4f-4732-b3bd-23dfadb7c9b3"
      },
      "execution_count": 29,
      "outputs": [
        {
          "output_type": "stream",
          "name": "stdout",
          "text": [
            "Classfier accuracy :  68.72628726287263 CV Score : 0.2207\n"
          ]
        }
      ]
    },
    {
      "cell_type": "markdown",
      "source": [
        "###PRR"
      ],
      "metadata": {
        "id": "0yLNx1_uDnMu"
      }
    },
    {
      "cell_type": "code",
      "source": [
        "# Prejudice Index implementation\n",
        "def pr_loss(output_a, output_b, eta):\n",
        "    N_a = F.constant(output_a.shape[0])\n",
        "    N_b   = F.constant(output_b.shape[0])\n",
        "    Dxisi = F.stack(N_b,N_a,axis=0) #aa sample, #cc sample\n",
        "    # Pr[y|s]\n",
        "    y_pred_a = F.sum(output_a)\n",
        "    y_pred_b   = F.sum(output_b)\n",
        "    P_ys = F.stack(y_pred_b,y_pred_a,axis=0) / Dxisi\n",
        "    P = F.concatenate(output_a,output_b,axis=0)\n",
        "    P_y =  F.sum(P) / (output_a.shape[0]+output_b.shape[0])\n",
        "    P_s1y1 = F.log(P_ys[1]) - F.log(P_y)\n",
        "    P_s1y0 = F.log(1-P_ys[1]) - F.log(1-P_y)\n",
        "    P_s0y1 = F.log(P_ys[0]) - F.log(P_y)\n",
        "    P_s0y0 = F.log(1-P_ys[0]) - F.log(1-P_y)\n",
        "    \n",
        "    P_s1y1 = F.reshape(P_s1y1,(P_s1y1.d.size,))\n",
        "    P_s1y0 = F.reshape(P_s1y0,(P_s1y0.d.size,))\n",
        "    P_s0y1 = F.reshape(P_s0y1,(P_s0y1.d.size,))\n",
        "    P_s0y0 = F.reshape(P_s0y0,(P_s0y0.d.size,))\n",
        "    \n",
        "    # PI\n",
        "    PI_s1y1 = output_a * P_s1y1\n",
        "    PI_s1y0 =(1- output_a) * P_s1y0\n",
        "    PI_s0y1 = output_b * P_s0y1\n",
        "    PI_s0y0 = (1- output_b )* P_s0y0\n",
        "    PI = F.sum(PI_s1y1) + F.sum(PI_s1y0) + F.sum(PI_s0y1) + F.sum(PI_s0y0)\n",
        "    PI = eta * PI\n",
        "    return PI\n"
      ],
      "metadata": {
        "id": "SYqH3m1LCpGR"
      },
      "execution_count": 30,
      "outputs": []
    },
    {
      "cell_type": "code",
      "source": [
        "# training with different eta values\n",
        "max_iter = int(trainloader.size / batchsize)\n",
        "acc = []\n",
        "cvs_score = [] # to plot the CV score\n",
        "eta_value = [0.0,1.0,5.0,10.0,15.0,20.0,50.0] # Parameter for Prejudice Remover\n",
        "for eta in eta_value :\n",
        "    nn.clear_parameters()\n",
        "    for epoch in range(total_epochs):\n",
        "        for i in range(max_iter):\n",
        "            n_feature.d, n_label.d, n_senstive.d = trainloader.next()\n",
        "            clf_solver.zero_grad()\n",
        "            clf_sigm.forward(clear_no_need_grad=True)\n",
        "            output_a = clf_sigm[n_senstive.d == 0]\n",
        "            output_b = clf_sigm[n_senstive.d == 1]\n",
        "            PILoss = pr_loss(output_a,output_b,eta)\n",
        "            t_loss = loss + PILoss\n",
        "            t_loss.forward(clear_no_need_grad=True)\n",
        "            t_loss.backward(clear_buffer=True)\n",
        "            clf_solver.update()\n",
        "    test_feature.d, test_label.d,test_senstive.d = testloader.next()\n",
        "    t_clf_out = F.sigmoid(t_clf)\n",
        "    t_clf_out.forward(clear_buffer=True)\n",
        "    y_pre_clf = t_clf_out.d.ravel()\n",
        "    preds = np.where(y_pre_clf > 0.5, 1, 0)\n",
        "    clf_accuracy = metrics.accuracy_score(y_test, preds) * 100\n",
        "    out_a = t_clf_out.d[test_senstive.d == 0]\n",
        "    out_b = t_clf_out.d[test_senstive.d == 1]\n",
        "    cvscore = CVS(out_a,out_b)\n",
        "    acc.append(clf_accuracy)\n",
        "    cvs_score.append(cvscore)"
      ],
      "metadata": {
        "id": "5ftzgGi1CozO",
        "colab": {
          "base_uri": "https://localhost:8080/"
        },
        "outputId": "b9121318-d49a-4b1d-a19e-4654b11db54f"
      },
      "execution_count": 31,
      "outputs": [
        {
          "output_type": "stream",
          "name": "stderr",
          "text": [
            "/usr/local/lib/python3.7/dist-packages/ipykernel_launcher.py:13: DeprecationWarning: `np.bool` is a deprecated alias for the builtin `bool`. To silence this warning, use `bool` by itself. Doing this will not modify any behavior and is safe. If you specifically wanted the numpy scalar type, use `np.bool_` here.\n",
            "Deprecated in NumPy 1.20; for more details and guidance: https://numpy.org/devdocs/release/1.20.0-notes.html#deprecations\n",
            "  del sys.path[0]\n",
            "/usr/local/lib/python3.7/dist-packages/ipykernel_launcher.py:14: DeprecationWarning: `np.bool` is a deprecated alias for the builtin `bool`. To silence this warning, use `bool` by itself. Doing this will not modify any behavior and is safe. If you specifically wanted the numpy scalar type, use `np.bool_` here.\n",
            "Deprecated in NumPy 1.20; for more details and guidance: https://numpy.org/devdocs/release/1.20.0-notes.html#deprecations\n",
            "  \n",
            "/usr/local/lib/python3.7/dist-packages/ipykernel_launcher.py:13: DeprecationWarning: `np.bool` is a deprecated alias for the builtin `bool`. To silence this warning, use `bool` by itself. Doing this will not modify any behavior and is safe. If you specifically wanted the numpy scalar type, use `np.bool_` here.\n",
            "Deprecated in NumPy 1.20; for more details and guidance: https://numpy.org/devdocs/release/1.20.0-notes.html#deprecations\n",
            "  del sys.path[0]\n",
            "/usr/local/lib/python3.7/dist-packages/ipykernel_launcher.py:14: DeprecationWarning: `np.bool` is a deprecated alias for the builtin `bool`. To silence this warning, use `bool` by itself. Doing this will not modify any behavior and is safe. If you specifically wanted the numpy scalar type, use `np.bool_` here.\n",
            "Deprecated in NumPy 1.20; for more details and guidance: https://numpy.org/devdocs/release/1.20.0-notes.html#deprecations\n",
            "  \n",
            "/usr/local/lib/python3.7/dist-packages/ipykernel_launcher.py:13: DeprecationWarning: `np.bool` is a deprecated alias for the builtin `bool`. To silence this warning, use `bool` by itself. Doing this will not modify any behavior and is safe. If you specifically wanted the numpy scalar type, use `np.bool_` here.\n",
            "Deprecated in NumPy 1.20; for more details and guidance: https://numpy.org/devdocs/release/1.20.0-notes.html#deprecations\n",
            "  del sys.path[0]\n",
            "/usr/local/lib/python3.7/dist-packages/ipykernel_launcher.py:14: DeprecationWarning: `np.bool` is a deprecated alias for the builtin `bool`. To silence this warning, use `bool` by itself. Doing this will not modify any behavior and is safe. If you specifically wanted the numpy scalar type, use `np.bool_` here.\n",
            "Deprecated in NumPy 1.20; for more details and guidance: https://numpy.org/devdocs/release/1.20.0-notes.html#deprecations\n",
            "  \n",
            "/usr/local/lib/python3.7/dist-packages/ipykernel_launcher.py:13: DeprecationWarning: `np.bool` is a deprecated alias for the builtin `bool`. To silence this warning, use `bool` by itself. Doing this will not modify any behavior and is safe. If you specifically wanted the numpy scalar type, use `np.bool_` here.\n",
            "Deprecated in NumPy 1.20; for more details and guidance: https://numpy.org/devdocs/release/1.20.0-notes.html#deprecations\n",
            "  del sys.path[0]\n",
            "/usr/local/lib/python3.7/dist-packages/ipykernel_launcher.py:14: DeprecationWarning: `np.bool` is a deprecated alias for the builtin `bool`. To silence this warning, use `bool` by itself. Doing this will not modify any behavior and is safe. If you specifically wanted the numpy scalar type, use `np.bool_` here.\n",
            "Deprecated in NumPy 1.20; for more details and guidance: https://numpy.org/devdocs/release/1.20.0-notes.html#deprecations\n",
            "  \n",
            "/usr/local/lib/python3.7/dist-packages/ipykernel_launcher.py:13: DeprecationWarning: `np.bool` is a deprecated alias for the builtin `bool`. To silence this warning, use `bool` by itself. Doing this will not modify any behavior and is safe. If you specifically wanted the numpy scalar type, use `np.bool_` here.\n",
            "Deprecated in NumPy 1.20; for more details and guidance: https://numpy.org/devdocs/release/1.20.0-notes.html#deprecations\n",
            "  del sys.path[0]\n",
            "/usr/local/lib/python3.7/dist-packages/ipykernel_launcher.py:14: DeprecationWarning: `np.bool` is a deprecated alias for the builtin `bool`. To silence this warning, use `bool` by itself. Doing this will not modify any behavior and is safe. If you specifically wanted the numpy scalar type, use `np.bool_` here.\n",
            "Deprecated in NumPy 1.20; for more details and guidance: https://numpy.org/devdocs/release/1.20.0-notes.html#deprecations\n",
            "  \n",
            "/usr/local/lib/python3.7/dist-packages/ipykernel_launcher.py:13: DeprecationWarning: `np.bool` is a deprecated alias for the builtin `bool`. To silence this warning, use `bool` by itself. Doing this will not modify any behavior and is safe. If you specifically wanted the numpy scalar type, use `np.bool_` here.\n",
            "Deprecated in NumPy 1.20; for more details and guidance: https://numpy.org/devdocs/release/1.20.0-notes.html#deprecations\n",
            "  del sys.path[0]\n",
            "/usr/local/lib/python3.7/dist-packages/ipykernel_launcher.py:14: DeprecationWarning: `np.bool` is a deprecated alias for the builtin `bool`. To silence this warning, use `bool` by itself. Doing this will not modify any behavior and is safe. If you specifically wanted the numpy scalar type, use `np.bool_` here.\n",
            "Deprecated in NumPy 1.20; for more details and guidance: https://numpy.org/devdocs/release/1.20.0-notes.html#deprecations\n",
            "  \n",
            "/usr/local/lib/python3.7/dist-packages/ipykernel_launcher.py:13: DeprecationWarning: `np.bool` is a deprecated alias for the builtin `bool`. To silence this warning, use `bool` by itself. Doing this will not modify any behavior and is safe. If you specifically wanted the numpy scalar type, use `np.bool_` here.\n",
            "Deprecated in NumPy 1.20; for more details and guidance: https://numpy.org/devdocs/release/1.20.0-notes.html#deprecations\n",
            "  del sys.path[0]\n",
            "/usr/local/lib/python3.7/dist-packages/ipykernel_launcher.py:14: DeprecationWarning: `np.bool` is a deprecated alias for the builtin `bool`. To silence this warning, use `bool` by itself. Doing this will not modify any behavior and is safe. If you specifically wanted the numpy scalar type, use `np.bool_` here.\n",
            "Deprecated in NumPy 1.20; for more details and guidance: https://numpy.org/devdocs/release/1.20.0-notes.html#deprecations\n",
            "  \n"
          ]
        }
      ]
    },
    {
      "cell_type": "code",
      "source": [
        "fairness_plot(eta_value,'eta',acc,\"Accuracy\",cvs_score,\"CV Score\") #Graphical Comparison of fairness & performance"
      ],
      "metadata": {
        "id": "qtU1S_84G1G5",
        "outputId": "6f455603-6cb9-425d-f2db-c5cf193175f1",
        "colab": {
          "base_uri": "https://localhost:8080/",
          "height": 451
        }
      },
      "execution_count": 32,
      "outputs": [
        {
          "output_type": "display_data",
          "data": {
            "text/plain": [
              "<Figure size 720x504 with 2 Axes>"
            ],
            "image/png": "[encoded data removed]"
          },
          "metadata": {
            "needs_background": "light"
          }
        }
      ]
    },
    {
      "cell_type": "markdown",
      "source": [
        "By adapting PRR, we sacrificed accuracy."
      ],
      "metadata": {
        "id": "yIOZeIVDrl4D"
      }
    }
  ]
}