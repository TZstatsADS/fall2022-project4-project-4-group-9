{
  "cells": [
    {
      "cell_type": "markdown",
      "metadata": {
        "id": "wANV-HWZ4XEf"
      },
      "source": [
        "# Pre-Process"
      ]
    },
    {
      "cell_type": "code",
      "source": [
        "# import file using colab\n",
        "from google.colab import files\n",
        "uploaded = files.upload()\n",
        "import io\n",
        "import pandas as pd\n",
        "df = pd.read_csv(io.BytesIO(uploaded['compas-scores-two-years.csv']))"
      ],
      "metadata": {
        "colab": {
          "base_uri": "https://localhost:8080/",
          "height": 73
        },
        "id": "3rHJBFkTbe2W",
        "outputId": "4605cbe3-5429-445f-a45f-75b35ee04949"
      },
      "execution_count": 1,
      "outputs": [
        {
          "output_type": "display_data",
          "data": {
            "text/plain": [
              "<IPython.core.display.HTML object>"
            ],
            "text/html": [
              "\n",
              "     <input type=\"file\" id=\"files-a3064af7-765c-41e0-9810-74649a61a9fc\" name=\"files[]\" multiple disabled\n",
              "        style=\"border:none\" />\n",
              "     <output id=\"result-a3064af7-765c-41e0-9810-74649a61a9fc\">\n",
              "      Upload widget is only available when the cell has been executed in the\n",
              "      current browser session. Please rerun this cell to enable.\n",
              "      </output>\n",
              "      <script>// Copyright 2017 Google LLC\n",
              "//\n",
              "// Licensed under the Apache License, Version 2.0 (the \"License\");\n",
              "// you may not use this file except in compliance with the License.\n",
              "// You may obtain a copy of the License at\n",
              "//\n",
              "//      http://www.apache.org/licenses/LICENSE-2.0\n",
              "//\n",
              "// Unless required by applicable law or agreed to in writing, software\n",
              "// distributed under the License is distributed on an \"AS IS\" BASIS,\n",
              "// WITHOUT WARRANTIES OR CONDITIONS OF ANY KIND, either express or implied.\n",
              "// See the License for the specific language governing permissions and\n",
              "// limitations under the License.\n",
              "\n",
              "/**\n",
              " * @fileoverview Helpers for google.colab Python module.\n",
              " */\n",
              "(function(scope) {\n",
              "function span(text, styleAttributes = {}) {\n",
              "  const element = document.createElement('span');\n",
              "  element.textContent = text;\n",
              "  for (const key of Object.keys(styleAttributes)) {\n",
              "    element.style[key] = styleAttributes[key];\n",
              "  }\n",
              "  return element;\n",
              "}\n",
              "\n",
              "// Max number of bytes which will be uploaded at a time.\n",
              "const MAX_PAYLOAD_SIZE = 100 * 1024;\n",
              "\n",
              "function _uploadFiles(inputId, outputId) {\n",
              "  const steps = uploadFilesStep(inputId, outputId);\n",
              "  const outputElement = document.getElementById(outputId);\n",
              "  // Cache steps on the outputElement to make it available for the next call\n",
              "  // to uploadFilesContinue from Python.\n",
              "  outputElement.steps = steps;\n",
              "\n",
              "  return _uploadFilesContinue(outputId);\n",
              "}\n",
              "\n",
              "// This is roughly an async generator (not supported in the browser yet),\n",
              "// where there are multiple asynchronous steps and the Python side is going\n",
              "// to poll for completion of each step.\n",
              "// This uses a Promise to block the python side on completion of each step,\n",
              "// then passes the result of the previous step as the input to the next step.\n",
              "function _uploadFilesContinue(outputId) {\n",
              "  const outputElement = document.getElementById(outputId);\n",
              "  const steps = outputElement.steps;\n",
              "\n",
              "  const next = steps.next(outputElement.lastPromiseValue);\n",
              "  return Promise.resolve(next.value.promise).then((value) => {\n",
              "    // Cache the last promise value to make it available to the next\n",
              "    // step of the generator.\n",
              "    outputElement.lastPromiseValue = value;\n",
              "    return next.value.response;\n",
              "  });\n",
              "}\n",
              "\n",
              "/**\n",
              " * Generator function which is called between each async step of the upload\n",
              " * process.\n",
              " * @param {string} inputId Element ID of the input file picker element.\n",
              " * @param {string} outputId Element ID of the output display.\n",
              " * @return {!Iterable<!Object>} Iterable of next steps.\n",
              " */\n",
              "function* uploadFilesStep(inputId, outputId) {\n",
              "  const inputElement = document.getElementById(inputId);\n",
              "  inputElement.disabled = false;\n",
              "\n",
              "  const outputElement = document.getElementById(outputId);\n",
              "  outputElement.innerHTML = '';\n",
              "\n",
              "  const pickedPromise = new Promise((resolve) => {\n",
              "    inputElement.addEventListener('change', (e) => {\n",
              "      resolve(e.target.files);\n",
              "    });\n",
              "  });\n",
              "\n",
              "  const cancel = document.createElement('button');\n",
              "  inputElement.parentElement.appendChild(cancel);\n",
              "  cancel.textContent = 'Cancel upload';\n",
              "  const cancelPromise = new Promise((resolve) => {\n",
              "    cancel.onclick = () => {\n",
              "      resolve(null);\n",
              "    };\n",
              "  });\n",
              "\n",
              "  // Wait for the user to pick the files.\n",
              "  const files = yield {\n",
              "    promise: Promise.race([pickedPromise, cancelPromise]),\n",
              "    response: {\n",
              "      action: 'starting',\n",
              "    }\n",
              "  };\n",
              "\n",
              "  cancel.remove();\n",
              "\n",
              "  // Disable the input element since further picks are not allowed.\n",
              "  inputElement.disabled = true;\n",
              "\n",
              "  if (!files) {\n",
              "    return {\n",
              "      response: {\n",
              "        action: 'complete',\n",
              "      }\n",
              "    };\n",
              "  }\n",
              "\n",
              "  for (const file of files) {\n",
              "    const li = document.createElement('li');\n",
              "    li.append(span(file.name, {fontWeight: 'bold'}));\n",
              "    li.append(span(\n",
              "        `(${file.type || 'n/a'}) - ${file.size} bytes, ` +\n",
              "        `last modified: ${\n",
              "            file.lastModifiedDate ? file.lastModifiedDate.toLocaleDateString() :\n",
              "                                    'n/a'} - `));\n",
              "    const percent = span('0% done');\n",
              "    li.appendChild(percent);\n",
              "\n",
              "    outputElement.appendChild(li);\n",
              "\n",
              "    const fileDataPromise = new Promise((resolve) => {\n",
              "      const reader = new FileReader();\n",
              "      reader.onload = (e) => {\n",
              "        resolve(e.target.result);\n",
              "      };\n",
              "      reader.readAsArrayBuffer(file);\n",
              "    });\n",
              "    // Wait for the data to be ready.\n",
              "    let fileData = yield {\n",
              "      promise: fileDataPromise,\n",
              "      response: {\n",
              "        action: 'continue',\n",
              "      }\n",
              "    };\n",
              "\n",
              "    // Use a chunked sending to avoid message size limits. See b/62115660.\n",
              "    let position = 0;\n",
              "    do {\n",
              "      const length = Math.min(fileData.byteLength - position, MAX_PAYLOAD_SIZE);\n",
              "      const chunk = new Uint8Array(fileData, position, length);\n",
              "      position += length;\n",
              "\n",
              "      const base64 = btoa(String.fromCharCode.apply(null, chunk));\n",
              "      yield {\n",
              "        response: {\n",
              "          action: 'append',\n",
              "          file: file.name,\n",
              "          data: base64,\n",
              "        },\n",
              "      };\n",
              "\n",
              "      let percentDone = fileData.byteLength === 0 ?\n",
              "          100 :\n",
              "          Math.round((position / fileData.byteLength) * 100);\n",
              "      percent.textContent = `${percentDone}% done`;\n",
              "\n",
              "    } while (position < fileData.byteLength);\n",
              "  }\n",
              "\n",
              "  // All done.\n",
              "  yield {\n",
              "    response: {\n",
              "      action: 'complete',\n",
              "    }\n",
              "  };\n",
              "}\n",
              "\n",
              "scope.google = scope.google || {};\n",
              "scope.google.colab = scope.google.colab || {};\n",
              "scope.google.colab._files = {\n",
              "  _uploadFiles,\n",
              "  _uploadFilesContinue,\n",
              "};\n",
              "})(self);\n",
              "</script> "
            ]
          },
          "metadata": {}
        },
        {
          "output_type": "stream",
          "name": "stdout",
          "text": [
            "Saving compas-scores-two-years.csv to compas-scores-two-years.csv\n"
          ]
        }
      ]
    },
    {
      "cell_type": "code",
      "source": [
        "#!pip install matplotlib --upgrade\n",
        "import matplotlib\n",
        "matplotlib.__version__"
      ],
      "metadata": {
        "colab": {
          "base_uri": "https://localhost:8080/",
          "height": 35
        },
        "id": "yr36-_r52OVE",
        "outputId": "aacfa28b-b620-4947-c298-fc8251d7c590"
      },
      "execution_count": 3,
      "outputs": [
        {
          "output_type": "execute_result",
          "data": {
            "text/plain": [
              "'3.5.3'"
            ],
            "application/vnd.google.colaboratory.intrinsic+json": {
              "type": "string"
            }
          },
          "metadata": {},
          "execution_count": 3
        }
      ]
    },
    {
      "cell_type": "code",
      "execution_count": 4,
      "metadata": {
        "id": "k1WHo4Iddz7l",
        "colab": {
          "base_uri": "https://localhost:8080/"
        },
        "outputId": "240bd074-cf1d-4d82-c22c-f18054450e6a"
      },
      "outputs": [
        {
          "output_type": "stream",
          "name": "stderr",
          "text": [
            "/usr/local/lib/python3.7/dist-packages/pandas/core/generic.py:6619: SettingWithCopyWarning: \n",
            "A value is trying to be set on a copy of a slice from a DataFrame\n",
            "\n",
            "See the caveats in the documentation: https://pandas.pydata.org/pandas-docs/stable/user_guide/indexing.html#returning-a-view-versus-a-copy\n",
            "  return self._update_inplace(result)\n",
            "/usr/local/lib/python3.7/dist-packages/ipykernel_launcher.py:9: SettingWithCopyWarning: \n",
            "A value is trying to be set on a copy of a slice from a DataFrame.\n",
            "Try using .loc[row_indexer,col_indexer] = value instead\n",
            "\n",
            "See the caveats in the documentation: https://pandas.pydata.org/pandas-docs/stable/user_guide/indexing.html#returning-a-view-versus-a-copy\n",
            "  if __name__ == '__main__':\n",
            "/usr/local/lib/python3.7/dist-packages/ipykernel_launcher.py:11: SettingWithCopyWarning: \n",
            "A value is trying to be set on a copy of a slice from a DataFrame.\n",
            "Try using .loc[row_indexer,col_indexer] = value instead\n",
            "\n",
            "See the caveats in the documentation: https://pandas.pydata.org/pandas-docs/stable/user_guide/indexing.html#returning-a-view-versus-a-copy\n",
            "  # This is added back by InteractiveShellApp.init_path()\n"
          ]
        }
      ],
      "source": [
        "import pandas as pd\n",
        "import numpy as np\n",
        "#df = pd.read_csv(\"compas-scores-two-years.csv\")\n",
        "df = df.loc[df[\"race\"].isin([\"African-American\", \"Caucasian\"])]\n",
        "df[\"race\"].replace(['African-American', 'Caucasian'],[0, 1], inplace=True)\n",
        "df[\"score_text\"].replace([\"Low\",\"Medium\",\"High\"],[0,1,2],inplace=True)\n",
        "df[\"sex\"].replace([\"Male\",\"Female\"],[0,1],inplace=True)\n",
        "df[\"c_charge_degree\"].replace([\"M\",\"F\"],[0,1],inplace=True)\n",
        "df[\"priors_count\"] = np.where(df['priors_count'] > 0, 1, 0)\n",
        "juv_cond = (df['juv_fel_count'] > 0) | (df['juv_misd_count'] > 0) | (df['juv_other_count'] > 0)\n",
        "df['juv_count'] = np.where(juv_cond, 1, 0)"
      ]
    },
    {
      "cell_type": "code",
      "execution_count": 5,
      "metadata": {
        "colab": {
          "base_uri": "https://localhost:8080/"
        },
        "id": "4lSZo05Gd_Lo",
        "outputId": "aa73b18c-9d91-4839-9d2d-0159ecaddfd9"
      },
      "outputs": [
        {
          "output_type": "stream",
          "name": "stdout",
          "text": [
            "(5271, 7) (5271,) (879, 7) (879,)\n",
            "(4392, 7) (4392,) (879, 7) (879,)\n"
          ]
        }
      ],
      "source": [
        "y = df[\"two_year_recid\"]\n",
        "X = pd.DataFrame(df, columns=[\"race\",\"age\",\"priors_count\",\"juv_count\",'score_text',\"sex\",\"c_charge_degree\"])\n",
        "from sklearn.model_selection import train_test_split\n",
        "X_train, X_test, y_train, y_test=train_test_split(X,y,test_size=1/7, random_state=67, stratify=y)\n",
        "print(X_train.shape, y_train.shape, X_test.shape, y_test.shape)\n",
        "X_train, X_valid, y_train, y_valid=train_test_split(X_train,y_train,test_size=879, random_state=67, stratify=y_train)\n",
        "print(X_train.shape, y_train.shape, X_valid.shape, y_valid.shape)"
      ]
    },
    {
      "cell_type": "markdown",
      "metadata": {
        "id": "5XH3AmE1wide"
      },
      "source": [
        "# Baseline"
      ]
    },
    {
      "cell_type": "code",
      "execution_count": 6,
      "metadata": {
        "colab": {
          "base_uri": "https://localhost:8080/"
        },
        "id": "d798yW5oeKVK",
        "outputId": "0e53801c-a2fc-403b-a460-612422d1fcb1"
      },
      "outputs": [
        {
          "output_type": "execute_result",
          "data": {
            "text/plain": [
              "0.6666666666666666"
            ]
          },
          "metadata": {},
          "execution_count": 6
        }
      ],
      "source": [
        "from sklearn.linear_model import LogisticRegression\n",
        "clf = LogisticRegression(random_state=0).fit(X_train, y_train)\n",
        "clf.score(X_test,y_test)"
      ]
    },
    {
      "cell_type": "code",
      "execution_count": 7,
      "metadata": {
        "id": "FGlQZYBunn4q"
      },
      "outputs": [],
      "source": [
        "index_b= (X_test[\"race\"]==0)\n",
        "X_test_b=X_test[index_b]\n",
        "y_test_b=y_test[index_b]\n",
        "X_test_w=X_test[-index_b]\n",
        "y_test_w=y_test[-index_b]"
      ]
    },
    {
      "cell_type": "code",
      "execution_count": 8,
      "metadata": {
        "id": "P-PpERnWKhIZ"
      },
      "outputs": [],
      "source": [
        "index_b= (X_train[\"race\"]==0)\n",
        "X_train_b=X_train[index_b]\n",
        "y_train_b=y_train[index_b]\n",
        "X_train_w=X_train[-index_b]\n",
        "y_train_w=y_train[-index_b]"
      ]
    },
    {
      "cell_type": "code",
      "execution_count": 9,
      "metadata": {
        "colab": {
          "base_uri": "https://localhost:8080/"
        },
        "id": "os9zoVlwv_hn",
        "outputId": "5924aaf0-2349-46d0-8484-781570a02037"
      },
      "outputs": [
        {
          "output_type": "stream",
          "name": "stdout",
          "text": [
            "0.6475095785440613\n",
            "0.6946778711484594\n",
            "calibration score:  0.04716829260439803\n"
          ]
        }
      ],
      "source": [
        "#calibration\n",
        "print(clf.score(X_test_b,y_test_b))\n",
        "print(clf.score(X_test_w,y_test_w))\n",
        "print(\"calibration score: \",abs(clf.score(X_test_b,y_test_b)-clf.score(X_test_w,y_test_w)))"
      ]
    },
    {
      "cell_type": "code",
      "execution_count": null,
      "metadata": {
        "id": "I9DMiMtA4XEl"
      },
      "outputs": [],
      "source": []
    },
    {
      "cell_type": "code",
      "execution_count": null,
      "metadata": {
        "id": "sgiE-emQ4XEl"
      },
      "outputs": [],
      "source": []
    },
    {
      "cell_type": "code",
      "execution_count": null,
      "metadata": {
        "id": "h2HcbIVK4XEl"
      },
      "outputs": [],
      "source": []
    },
    {
      "cell_type": "markdown",
      "metadata": {
        "id": "c-PeyL154XEl"
      },
      "source": [
        "# A5"
      ]
    },
    {
      "cell_type": "code",
      "execution_count": 10,
      "metadata": {
        "id": "WgyeH1xv4XEm"
      },
      "outputs": [],
      "source": [
        "Z_new = pd.DataFrame(df[\"race\"])\n",
        "y_new = df[\"two_year_recid\"]\n",
        "X_new = pd.DataFrame(df, columns=[\"race\",\"age\",\"priors_count\",\"juv_fel_count\",\"juv_misd_count\",\"juv_other_count\",'decile_score','score_text',\"sex\"])"
      ]
    },
    {
      "cell_type": "code",
      "execution_count": 11,
      "metadata": {
        "colab": {
          "base_uri": "https://localhost:8080/",
          "height": 1000
        },
        "id": "s73Be9ZJ4XEm",
        "outputId": "bb9c3848-e97f-46f2-896f-3c5637025ed8"
      },
      "outputs": [
        {
          "output_type": "stream",
          "name": "stdout",
          "text": [
            "Cloning into 'nnabla-examples'...\n",
            "remote: Enumerating objects: 8716, done.\u001b[K\n",
            "remote: Counting objects: 100% (1269/1269), done.\u001b[K\n",
            "remote: Compressing objects: 100% (570/570), done.\u001b[K\n",
            "remote: Total 8716 (delta 718), reused 1149 (delta 667), pack-reused 7447\u001b[K\n",
            "Receiving objects: 100% (8716/8716), 295.83 MiB | 24.96 MiB/s, done.\n",
            "Resolving deltas: 100% (4623/4623), done.\n",
            "Checking out files: 100% (1642/1642), done.\n",
            "/content/nnabla-examples/responsible_ai/prejudice_remover_regularizer\n",
            "Looking in indexes: https://pypi.org/simple, https://us-python.pkg.dev/colab-wheels/public/simple/\n",
            "Collecting nnabla-ext-cuda114\n",
            "  Downloading nnabla_ext_cuda114-1.31.0-cp37-cp37m-manylinux_2_17_x86_64.whl (114.8 MB)\n",
            "\u001b[K     |████████████████████████████████| 114.8 MB 52 kB/s \n",
            "\u001b[?25hRequirement already satisfied: setuptools in /usr/local/lib/python3.7/dist-packages (from nnabla-ext-cuda114) (57.4.0)\n",
            "Collecting nnabla==1.31.0\n",
            "  Downloading nnabla-1.31.0-cp37-cp37m-manylinux_2_17_x86_64.whl (18.8 MB)\n",
            "\u001b[K     |████████████████████████████████| 18.8 MB 53.4 MB/s \n",
            "\u001b[?25hRequirement already satisfied: pyyaml in /usr/local/lib/python3.7/dist-packages (from nnabla==1.31.0->nnabla-ext-cuda114) (6.0)\n",
            "Requirement already satisfied: numpy>=1.20.0 in /usr/local/lib/python3.7/dist-packages (from nnabla==1.31.0->nnabla-ext-cuda114) (1.21.6)\n",
            "Requirement already satisfied: Cython in /usr/local/lib/python3.7/dist-packages (from nnabla==1.31.0->nnabla-ext-cuda114) (0.29.32)\n",
            "Requirement already satisfied: scipy in /usr/local/lib/python3.7/dist-packages (from nnabla==1.31.0->nnabla-ext-cuda114) (1.7.3)\n",
            "Requirement already satisfied: contextlib2 in /usr/local/lib/python3.7/dist-packages (from nnabla==1.31.0->nnabla-ext-cuda114) (0.5.5)\n",
            "Requirement already satisfied: imageio in /usr/local/lib/python3.7/dist-packages (from nnabla==1.31.0->nnabla-ext-cuda114) (2.9.0)\n",
            "Requirement already satisfied: tqdm in /usr/local/lib/python3.7/dist-packages (from nnabla==1.31.0->nnabla-ext-cuda114) (4.64.1)\n",
            "Collecting boto3\n",
            "  Downloading boto3-1.26.19-py3-none-any.whl (132 kB)\n",
            "\u001b[K     |████████████████████████████████| 132 kB 72.2 MB/s \n",
            "\u001b[?25hRequirement already satisfied: h5py in /usr/local/lib/python3.7/dist-packages (from nnabla==1.31.0->nnabla-ext-cuda114) (3.1.0)\n",
            "Requirement already satisfied: six in /usr/local/lib/python3.7/dist-packages (from nnabla==1.31.0->nnabla-ext-cuda114) (1.15.0)\n",
            "Requirement already satisfied: pillow in /usr/local/lib/python3.7/dist-packages (from nnabla==1.31.0->nnabla-ext-cuda114) (7.1.2)\n",
            "Collecting protobuf<=3.19.4\n",
            "  Downloading protobuf-3.19.4-cp37-cp37m-manylinux_2_17_x86_64.manylinux2014_x86_64.whl (1.1 MB)\n",
            "\u001b[K     |████████████████████████████████| 1.1 MB 59.4 MB/s \n",
            "\u001b[?25hCollecting configparser\n",
            "  Downloading configparser-5.3.0-py3-none-any.whl (19 kB)\n",
            "Collecting jmespath<2.0.0,>=0.7.1\n",
            "  Downloading jmespath-1.0.1-py3-none-any.whl (20 kB)\n",
            "Collecting s3transfer<0.7.0,>=0.6.0\n",
            "  Downloading s3transfer-0.6.0-py3-none-any.whl (79 kB)\n",
            "\u001b[K     |████████████████████████████████| 79 kB 9.8 MB/s \n",
            "\u001b[?25hCollecting botocore<1.30.0,>=1.29.19\n",
            "  Downloading botocore-1.29.19-py3-none-any.whl (10.1 MB)\n",
            "\u001b[K     |████████████████████████████████| 10.1 MB 54.7 MB/s \n",
            "\u001b[?25hRequirement already satisfied: python-dateutil<3.0.0,>=2.1 in /usr/local/lib/python3.7/dist-packages (from botocore<1.30.0,>=1.29.19->boto3->nnabla==1.31.0->nnabla-ext-cuda114) (2.8.2)\n",
            "Collecting urllib3<1.27,>=1.25.4\n",
            "  Downloading urllib3-1.26.13-py2.py3-none-any.whl (140 kB)\n",
            "\u001b[K     |████████████████████████████████| 140 kB 69.8 MB/s \n",
            "\u001b[?25hRequirement already satisfied: cached-property in /usr/local/lib/python3.7/dist-packages (from h5py->nnabla==1.31.0->nnabla-ext-cuda114) (1.5.2)\n",
            "Installing collected packages: urllib3, jmespath, botocore, s3transfer, protobuf, configparser, boto3, nnabla, nnabla-ext-cuda114\n",
            "  Attempting uninstall: urllib3\n",
            "    Found existing installation: urllib3 1.24.3\n",
            "    Uninstalling urllib3-1.24.3:\n",
            "      Successfully uninstalled urllib3-1.24.3\n",
            "  Attempting uninstall: protobuf\n",
            "    Found existing installation: protobuf 3.19.6\n",
            "    Uninstalling protobuf-3.19.6:\n",
            "      Successfully uninstalled protobuf-3.19.6\n",
            "\u001b[31mERROR: pip's dependency resolver does not currently take into account all the packages that are installed. This behaviour is the source of the following dependency conflicts.\n",
            "requests 2.23.0 requires urllib3!=1.25.0,!=1.25.1,<1.26,>=1.21.1, but you have urllib3 1.26.13 which is incompatible.\n",
            "googleapis-common-protos 1.57.0 requires protobuf!=3.20.0,!=3.20.1,!=4.21.1,!=4.21.2,!=4.21.3,!=4.21.4,!=4.21.5,<5.0.0dev,>=3.19.5, but you have protobuf 3.19.4 which is incompatible.\n",
            "google-cloud-translate 3.8.4 requires protobuf!=3.20.0,!=3.20.1,!=4.21.0,!=4.21.1,!=4.21.2,!=4.21.3,!=4.21.4,!=4.21.5,<5.0.0dev,>=3.19.5, but you have protobuf 3.19.4 which is incompatible.\n",
            "google-cloud-language 2.6.1 requires protobuf!=3.20.0,!=3.20.1,!=4.21.0,!=4.21.1,!=4.21.2,!=4.21.3,!=4.21.4,!=4.21.5,<5.0.0dev,>=3.19.5, but you have protobuf 3.19.4 which is incompatible.\n",
            "google-cloud-firestore 2.7.2 requires protobuf!=3.20.0,!=3.20.1,!=4.21.0,!=4.21.1,!=4.21.2,!=4.21.3,!=4.21.4,!=4.21.5,<5.0.0dev,>=3.19.5, but you have protobuf 3.19.4 which is incompatible.\n",
            "google-cloud-datastore 2.9.0 requires protobuf!=3.20.0,!=3.20.1,!=4.21.0,!=4.21.1,!=4.21.2,!=4.21.3,!=4.21.4,!=4.21.5,<5.0.0dev,>=3.19.5, but you have protobuf 3.19.4 which is incompatible.\n",
            "google-cloud-bigquery 3.3.6 requires protobuf!=3.20.0,!=3.20.1,!=4.21.0,!=4.21.1,!=4.21.2,!=4.21.3,!=4.21.4,!=4.21.5,<5.0.0dev,>=3.19.5, but you have protobuf 3.19.4 which is incompatible.\n",
            "google-cloud-bigquery-storage 2.16.2 requires protobuf!=3.20.0,!=3.20.1,!=4.21.0,!=4.21.1,!=4.21.2,!=4.21.3,!=4.21.4,!=4.21.5,<5.0.0dev,>=3.19.5, but you have protobuf 3.19.4 which is incompatible.\u001b[0m\n",
            "Successfully installed boto3-1.26.19 botocore-1.29.19 configparser-5.3.0 jmespath-1.0.1 nnabla-1.31.0 nnabla-ext-cuda114-1.31.0 protobuf-3.19.4 s3transfer-0.6.0 urllib3-1.26.13\n"
          ]
        },
        {
          "output_type": "display_data",
          "data": {
            "application/vnd.colab-display-data+json": {
              "pip_warning": {
                "packages": [
                  "google"
                ]
              }
            }
          },
          "metadata": {}
        }
      ],
      "source": [
        "!git clone https://github.com/sony/nnabla-examples.git\n",
        "%cd nnabla-examples/responsible_ai/prejudice_remover_regularizer\n",
        "!pip install nnabla-ext-cuda114"
      ]
    },
    {
      "cell_type": "code",
      "execution_count": 12,
      "metadata": {
        "id": "9YOIo7I84XEm"
      },
      "outputs": [],
      "source": [
        "import matplotlib.pyplot as plt\n",
        "import numpy as np\n",
        "import os\n",
        "import sys\n",
        "from sklearn.model_selection import train_test_split\n",
        "from sklearn.preprocessing import StandardScaler\n",
        "from sklearn import metrics\n",
        "import nnabla as nn\n",
        "from nnabla.logger import logger\n",
        "import nnabla.functions as F\n",
        "import nnabla.parametric_functions as PF\n",
        "import nnabla.solvers as S\n",
        "from nnabla.utils.data_iterator import data_iterator\n",
        "from nnabla.utils.data_source import DataSource\n",
        "from sklearn.metrics import confusion_matrix, ConfusionMatrixDisplay\n",
        "from IPython.display import Markdown\n",
        "\n",
        "from utils import *"
      ]
    },
    {
      "cell_type": "code",
      "source": [
        "# data preparation\n",
        "(X_train_new, X_test_new, y_train_new, y_test_new, Z_train_new, Z_test_new) = train_test_split(X_new, y_new, Z_new, test_size=0.3, stratify=y, random_state=7)\n",
        "\n",
        "scale_orig = StandardScaler()\n",
        "X_train_new = scale_orig.fit_transform(X_train_new)\n",
        "X_test_new = scale_orig.fit_transform(X_test_new)"
      ],
      "metadata": {
        "id": "MFppXwlzYw-q"
      },
      "execution_count": 13,
      "outputs": []
    },
    {
      "cell_type": "code",
      "source": [
        "class dataset(DataSource):\n",
        "    def __init__(self,features, labels, senstive_attribute, shuffle=False):\n",
        "        super(dataset, self).__init__(shuffle=shuffle)\n",
        "        self.x = features\n",
        "        self.y = labels.reshape(-1, 1)\n",
        "        self.z = senstive_attribute\n",
        "        self._size = self.y.size\n",
        "        self._variables = ('x', 'y', 'z')\n",
        "        \n",
        "    def _get_data(self, idx):\n",
        "        return self.x[idx], self.y[idx], self.z[idx]\n",
        "\n",
        "trainset = dataset(X_train_new, y_train_new.to_numpy(), Z_train_new.to_numpy(), shuffle=True)\n",
        "testset = dataset(X_test_new, y_test_new.to_numpy(), Z_test_new.to_numpy())\n",
        "\n",
        "batchsize = 32\n",
        "test_batchsize = X_test_new.shape[0]\n",
        "\n",
        "trainloader = data_iterator(trainset, batch_size=batchsize)\n",
        "testloader = data_iterator(testset, batch_size=test_batchsize)"
      ],
      "metadata": {
        "id": "vFefKYXuYw8c"
      },
      "execution_count": 14,
      "outputs": []
    },
    {
      "cell_type": "code",
      "source": [
        "from nnabla.ext_utils import get_extension_context\n",
        "context = \"cudnn\" # for cpu set context as 'cpu'\n",
        "device_id = 0\n",
        "ctx = get_extension_context(context, device_id=device_id)\n",
        "nn.set_default_context(ctx)"
      ],
      "metadata": {
        "id": "xDZFbe4jYw6F"
      },
      "execution_count": 15,
      "outputs": []
    },
    {
      "cell_type": "code",
      "source": [
        "n_feature = nn.Variable((batchsize, 9))\n",
        "n_label = nn.Variable((batchsize, 1))\n",
        "n_senstive = nn.Variable((batchsize, 1))\n",
        "\n",
        "test_feature = nn.Variable((test_batchsize, 9))\n",
        "test_label = nn.Variable((test_batchsize, 1))\n",
        "test_senstive = nn.Variable((test_batchsize, 1))"
      ],
      "metadata": {
        "id": "X4pJp_yHYw3n"
      },
      "execution_count": 16,
      "outputs": []
    },
    {
      "cell_type": "code",
      "source": [
        "# classifier\n",
        "def Classifier(features_n, n_hidden=32, p_dropout=0.2,train=True):\n",
        "    with nn.parameter_scope('classifier'):\n",
        "        l1 = PF.affine(features_n, n_hidden, name='l1')\n",
        "        l1 = F.relu(l1)\n",
        "        if (train):\n",
        "            l1 = F.dropout(l1,p_dropout)\n",
        "        l2 = PF.affine(l1, n_hidden, name='l2')\n",
        "        l2 = F.relu(l2)\n",
        "        if (train):\n",
        "            l2 = F.dropout(l2,p_dropout)\n",
        "        l3 = PF.affine(l2, n_hidden, name='l3')\n",
        "        l3 = F.relu(l3)\n",
        "        if (train):\n",
        "            l3 = F.dropout(l3,p_dropout)\n",
        "        l4 = PF.affine(l3, 1, name='l4')\n",
        "    return l4"
      ],
      "metadata": {
        "id": "Iq4Yyw7yZeKw"
      },
      "execution_count": 17,
      "outputs": []
    },
    {
      "cell_type": "code",
      "source": [
        "clf_new = Classifier(n_feature)\n",
        "clf_sigm = F.sigmoid(clf_new)\n",
        "clf_new.persistent = True\n",
        "clf_sigm.persistent = True\n",
        "t_clf = Classifier(test_feature,train=False)\n",
        "loss = F.sum(F.sigmoid_cross_entropy(clf_new, n_label))\n",
        "loss.persistent = True\n",
        "learning_rate = 1e-03\n",
        "clf_solver = S.Adam(learning_rate)\n",
        "with nn.parameter_scope(\"classifier\"):\n",
        "    clf_solver.set_parameters(nn.get_parameters())\n",
        "clf_solver.weight_decay(1e-05)\n",
        "clf_solver.update()"
      ],
      "metadata": {
        "id": "yCZmbI5rZeIj"
      },
      "execution_count": 18,
      "outputs": []
    },
    {
      "cell_type": "code",
      "source": [
        "max_iter = int(trainloader.size / batchsize)\n",
        "total_epochs = 10\n",
        "for epoch in range(total_epochs):\n",
        "    for i in range(max_iter):\n",
        "        n_feature.d, n_label.d, _ = trainloader.next()\n",
        "        clf_solver.zero_grad()\n",
        "        loss.forward(clear_no_need_grad=True)\n",
        "        loss.backward(clear_buffer=True)\n",
        "        clf_solver.update()"
      ],
      "metadata": {
        "id": "DSE4yBXfZeGM"
      },
      "execution_count": 19,
      "outputs": []
    },
    {
      "cell_type": "code",
      "source": [
        "test_feature.d, test_label.d,test_senstive.d = testloader.next()\n",
        "t_clf_out = F.sigmoid(t_clf)\n",
        "t_clf_out.forward(clear_buffer=True)\n",
        "y_pre_clf = t_clf_out.d.ravel()\n",
        "preds = np.where(y_pre_clf > 0.5, 1, 0)\n",
        "clf_accuracy = metrics.accuracy_score(y_test_new, preds) * 100\n",
        "\n",
        "out_a = t_clf_out.d[test_senstive.d == 1]\n",
        "out_b = t_clf_out.d[test_senstive.d == 0]\n",
        "\n",
        "clf_cv_score = CVS(out_a,out_b)"
      ],
      "metadata": {
        "id": "Q-2HEZtXZeDz"
      },
      "execution_count": 20,
      "outputs": []
    },
    {
      "cell_type": "code",
      "source": [
        "print(\"Classfier accuracy : \", clf_accuracy,\"CV Score :\", clf_cv_score) #classifier without PRR"
      ],
      "metadata": {
        "colab": {
          "base_uri": "https://localhost:8080/"
        },
        "id": "BZLRZbMzZd-C",
        "outputId": "ff3f238b-c6e3-4198-da96-3c7bc4860224"
      },
      "execution_count": 21,
      "outputs": [
        {
          "output_type": "stream",
          "name": "stdout",
          "text": [
            "Classfier accuracy :  65.79945799457995 CV Score : 0.2177\n"
          ]
        }
      ]
    },
    {
      "cell_type": "code",
      "source": [
        "# Prejudice Index implementation\n",
        "def pr_loss(output_a, output_b, eta):\n",
        "    N_a = F.constant(output_a.shape[0])\n",
        "    N_b   = F.constant(output_b.shape[0])\n",
        "    Dxisi = F.stack(N_b,N_a,axis=0) #aa sample, #cc sample\n",
        "    # Pr[y|s]\n",
        "    y_pred_a = F.sum(output_a)\n",
        "    y_pred_b   = F.sum(output_b)\n",
        "    P_ys = F.stack(y_pred_b,y_pred_a,axis=0) / Dxisi\n",
        "    P = F.concatenate(output_a,output_b,axis=0)\n",
        "    P_y =  F.sum(P) / (output_a.shape[0]+output_b.shape[0])\n",
        "    P_s1y1 = F.log(P_ys[1]) - F.log(P_y)\n",
        "    P_s1y0 = F.log(1-P_ys[1]) - F.log(1-P_y)\n",
        "    P_s0y1 = F.log(P_ys[0]) - F.log(P_y)\n",
        "    P_s0y0 = F.log(1-P_ys[0]) - F.log(1-P_y)\n",
        "    \n",
        "    P_s1y1 = F.reshape(P_s1y1,(P_s1y1.d.size,))\n",
        "    P_s1y0 = F.reshape(P_s1y0,(P_s1y0.d.size,))\n",
        "    P_s0y1 = F.reshape(P_s0y1,(P_s0y1.d.size,))\n",
        "    P_s0y0 = F.reshape(P_s0y0,(P_s0y0.d.size,))\n",
        "    \n",
        "    # PI\n",
        "    PI_s1y1 = output_a * P_s1y1\n",
        "    PI_s1y0 =(1- output_a) * P_s1y0\n",
        "    PI_s0y1 = output_b * P_s0y1\n",
        "    PI_s0y0 = (1- output_b )* P_s0y0\n",
        "    PI = F.sum(PI_s1y1) + F.sum(PI_s1y0) + F.sum(PI_s0y1) + F.sum(PI_s0y0)\n",
        "    PI = eta * PI\n",
        "    return PI"
      ],
      "metadata": {
        "id": "hf4W6c3rZxc-"
      },
      "execution_count": 22,
      "outputs": []
    },
    {
      "cell_type": "code",
      "source": [
        "# training with different eta values\n",
        "max_iter = int(trainloader.size / batchsize)\n",
        "acc = []\n",
        "cvs_score = [] # to plot the CV score\n",
        "eta_value = [0.0,0.5,1.0,2.0,5.0,10.0,20.0] # Parameter for Prejudice Remover\n",
        "for eta in eta_value :\n",
        "    nn.clear_parameters()\n",
        "    for epoch in range(total_epochs):\n",
        "        for i in range(max_iter):\n",
        "            n_feature.d, n_label.d, n_senstive.d = trainloader.next()\n",
        "            clf_solver.zero_grad()\n",
        "            clf_sigm.forward(clear_no_need_grad=True)\n",
        "            output_a = clf_sigm[n_senstive.d == 0]\n",
        "            output_b = clf_sigm[n_senstive.d == 1]\n",
        "            PILoss = pr_loss(output_a,output_b,eta)\n",
        "            t_loss = loss + PILoss\n",
        "            t_loss.forward(clear_no_need_grad=True)\n",
        "            t_loss.backward(clear_buffer=True)\n",
        "            clf_solver.update()\n",
        "    test_feature.d, test_label.d,test_senstive.d = testloader.next()\n",
        "    t_clf_out = F.sigmoid(t_clf)\n",
        "    t_clf_out.forward(clear_buffer=True)\n",
        "    y_pre_clf = t_clf_out.d.ravel()\n",
        "    preds = np.where(y_pre_clf > 0.5, 1, 0)\n",
        "    clf_accuracy = metrics.accuracy_score(y_test_new, preds) * 100\n",
        "    out_a = t_clf_out.d[test_senstive.d == 0]\n",
        "    out_b = t_clf_out.d[test_senstive.d == 1]\n",
        "    cvscore = CVS(out_a,out_b)\n",
        "    acc.append(clf_accuracy)\n",
        "    cvs_score.append(cvscore)"
      ],
      "metadata": {
        "colab": {
          "base_uri": "https://localhost:8080/"
        },
        "id": "PDpYBVdHZ0mY",
        "outputId": "99ede888-a533-46cf-fc19-1ab9f8947407"
      },
      "execution_count": 23,
      "outputs": [
        {
          "output_type": "stream",
          "name": "stderr",
          "text": [
            "/usr/local/lib/python3.7/dist-packages/ipykernel_launcher.py:13: DeprecationWarning: `np.bool` is a deprecated alias for the builtin `bool`. To silence this warning, use `bool` by itself. Doing this will not modify any behavior and is safe. If you specifically wanted the numpy scalar type, use `np.bool_` here.\n",
            "Deprecated in NumPy 1.20; for more details and guidance: https://numpy.org/devdocs/release/1.20.0-notes.html#deprecations\n",
            "  del sys.path[0]\n",
            "/usr/local/lib/python3.7/dist-packages/ipykernel_launcher.py:14: DeprecationWarning: `np.bool` is a deprecated alias for the builtin `bool`. To silence this warning, use `bool` by itself. Doing this will not modify any behavior and is safe. If you specifically wanted the numpy scalar type, use `np.bool_` here.\n",
            "Deprecated in NumPy 1.20; for more details and guidance: https://numpy.org/devdocs/release/1.20.0-notes.html#deprecations\n",
            "  \n",
            "/usr/local/lib/python3.7/dist-packages/ipykernel_launcher.py:13: DeprecationWarning: `np.bool` is a deprecated alias for the builtin `bool`. To silence this warning, use `bool` by itself. Doing this will not modify any behavior and is safe. If you specifically wanted the numpy scalar type, use `np.bool_` here.\n",
            "Deprecated in NumPy 1.20; for more details and guidance: https://numpy.org/devdocs/release/1.20.0-notes.html#deprecations\n",
            "  del sys.path[0]\n",
            "/usr/local/lib/python3.7/dist-packages/ipykernel_launcher.py:14: DeprecationWarning: `np.bool` is a deprecated alias for the builtin `bool`. To silence this warning, use `bool` by itself. Doing this will not modify any behavior and is safe. If you specifically wanted the numpy scalar type, use `np.bool_` here.\n",
            "Deprecated in NumPy 1.20; for more details and guidance: https://numpy.org/devdocs/release/1.20.0-notes.html#deprecations\n",
            "  \n",
            "/usr/local/lib/python3.7/dist-packages/ipykernel_launcher.py:13: DeprecationWarning: `np.bool` is a deprecated alias for the builtin `bool`. To silence this warning, use `bool` by itself. Doing this will not modify any behavior and is safe. If you specifically wanted the numpy scalar type, use `np.bool_` here.\n",
            "Deprecated in NumPy 1.20; for more details and guidance: https://numpy.org/devdocs/release/1.20.0-notes.html#deprecations\n",
            "  del sys.path[0]\n",
            "/usr/local/lib/python3.7/dist-packages/ipykernel_launcher.py:14: DeprecationWarning: `np.bool` is a deprecated alias for the builtin `bool`. To silence this warning, use `bool` by itself. Doing this will not modify any behavior and is safe. If you specifically wanted the numpy scalar type, use `np.bool_` here.\n",
            "Deprecated in NumPy 1.20; for more details and guidance: https://numpy.org/devdocs/release/1.20.0-notes.html#deprecations\n",
            "  \n",
            "/usr/local/lib/python3.7/dist-packages/ipykernel_launcher.py:13: DeprecationWarning: `np.bool` is a deprecated alias for the builtin `bool`. To silence this warning, use `bool` by itself. Doing this will not modify any behavior and is safe. If you specifically wanted the numpy scalar type, use `np.bool_` here.\n",
            "Deprecated in NumPy 1.20; for more details and guidance: https://numpy.org/devdocs/release/1.20.0-notes.html#deprecations\n",
            "  del sys.path[0]\n",
            "/usr/local/lib/python3.7/dist-packages/ipykernel_launcher.py:14: DeprecationWarning: `np.bool` is a deprecated alias for the builtin `bool`. To silence this warning, use `bool` by itself. Doing this will not modify any behavior and is safe. If you specifically wanted the numpy scalar type, use `np.bool_` here.\n",
            "Deprecated in NumPy 1.20; for more details and guidance: https://numpy.org/devdocs/release/1.20.0-notes.html#deprecations\n",
            "  \n",
            "/usr/local/lib/python3.7/dist-packages/ipykernel_launcher.py:13: DeprecationWarning: `np.bool` is a deprecated alias for the builtin `bool`. To silence this warning, use `bool` by itself. Doing this will not modify any behavior and is safe. If you specifically wanted the numpy scalar type, use `np.bool_` here.\n",
            "Deprecated in NumPy 1.20; for more details and guidance: https://numpy.org/devdocs/release/1.20.0-notes.html#deprecations\n",
            "  del sys.path[0]\n",
            "/usr/local/lib/python3.7/dist-packages/ipykernel_launcher.py:14: DeprecationWarning: `np.bool` is a deprecated alias for the builtin `bool`. To silence this warning, use `bool` by itself. Doing this will not modify any behavior and is safe. If you specifically wanted the numpy scalar type, use `np.bool_` here.\n",
            "Deprecated in NumPy 1.20; for more details and guidance: https://numpy.org/devdocs/release/1.20.0-notes.html#deprecations\n",
            "  \n",
            "/usr/local/lib/python3.7/dist-packages/ipykernel_launcher.py:13: DeprecationWarning: `np.bool` is a deprecated alias for the builtin `bool`. To silence this warning, use `bool` by itself. Doing this will not modify any behavior and is safe. If you specifically wanted the numpy scalar type, use `np.bool_` here.\n",
            "Deprecated in NumPy 1.20; for more details and guidance: https://numpy.org/devdocs/release/1.20.0-notes.html#deprecations\n",
            "  del sys.path[0]\n",
            "/usr/local/lib/python3.7/dist-packages/ipykernel_launcher.py:14: DeprecationWarning: `np.bool` is a deprecated alias for the builtin `bool`. To silence this warning, use `bool` by itself. Doing this will not modify any behavior and is safe. If you specifically wanted the numpy scalar type, use `np.bool_` here.\n",
            "Deprecated in NumPy 1.20; for more details and guidance: https://numpy.org/devdocs/release/1.20.0-notes.html#deprecations\n",
            "  \n",
            "/usr/local/lib/python3.7/dist-packages/ipykernel_launcher.py:13: DeprecationWarning: `np.bool` is a deprecated alias for the builtin `bool`. To silence this warning, use `bool` by itself. Doing this will not modify any behavior and is safe. If you specifically wanted the numpy scalar type, use `np.bool_` here.\n",
            "Deprecated in NumPy 1.20; for more details and guidance: https://numpy.org/devdocs/release/1.20.0-notes.html#deprecations\n",
            "  del sys.path[0]\n",
            "/usr/local/lib/python3.7/dist-packages/ipykernel_launcher.py:14: DeprecationWarning: `np.bool` is a deprecated alias for the builtin `bool`. To silence this warning, use `bool` by itself. Doing this will not modify any behavior and is safe. If you specifically wanted the numpy scalar type, use `np.bool_` here.\n",
            "Deprecated in NumPy 1.20; for more details and guidance: https://numpy.org/devdocs/release/1.20.0-notes.html#deprecations\n",
            "  \n"
          ]
        }
      ]
    },
    {
      "cell_type": "code",
      "source": [
        "fairness_plot(eta_value,'eta',acc,\"Accuracy\",cvs_score,\"CV Score\") #Graphical Comparison of fairness & performance"
      ],
      "metadata": {
        "colab": {
          "base_uri": "https://localhost:8080/",
          "height": 451
        },
        "id": "CC6qkExkZ25r",
        "outputId": "5f217fc2-8765-4e75-def6-26e0e2948814"
      },
      "execution_count": 24,
      "outputs": [
        {
          "output_type": "display_data",
          "data": {
            "text/plain": [
              "<Figure size 720x504 with 2 Axes>"
            ],
            "image/png": "[encoded data removed]"
          },
          "metadata": {
            "needs_background": "light"
          }
        }
      ]
    },
    {
      "cell_type": "code",
      "source": [
        "# use eta = 10 to train the model\n",
        "for epoch in range(total_epochs):\n",
        "  for i in range(max_iter):\n",
        "    n_feature.d, n_label.d, n_senstive.d = trainloader.next()\n",
        "    clf_solver.zero_grad()\n",
        "    clf_sigm.forward(clear_no_need_grad=True)\n",
        "    output_a = clf_sigm[n_senstive.d == 0]\n",
        "    output_b = clf_sigm[n_senstive.d == 1]\n",
        "    PILoss = pr_loss(output_a,output_b,10.0)\n",
        "    t_loss = loss + PILoss\n",
        "    t_loss.forward(clear_no_need_grad=True)\n",
        "    t_loss.backward(clear_buffer=True)\n",
        "    clf_solver.update()\n",
        "test_feature.d, test_label.d,test_senstive.d = testloader.next()\n",
        "t_clf_out = F.sigmoid(t_clf)\n",
        "t_clf_out.forward(clear_buffer=True)\n",
        "y_pre_clf = t_clf_out.d.ravel()\n",
        "preds = np.where(y_pre_clf > 0.5, 1, 0)\n",
        "clf_accuracy = metrics.accuracy_score(y_test_new, preds)\n",
        "out_a = t_clf_out.d[test_senstive.d == 0]\n",
        "out_b = t_clf_out.d[test_senstive.d == 1]\n",
        "cvscore = CVS(out_a,out_b)"
      ],
      "metadata": {
        "colab": {
          "base_uri": "https://localhost:8080/"
        },
        "id": "F0KlgMjxZ22b",
        "outputId": "8c52e675-71ab-4392-efcf-c9d655337baf"
      },
      "execution_count": 35,
      "outputs": [
        {
          "output_type": "stream",
          "name": "stderr",
          "text": [
            "/usr/local/lib/python3.7/dist-packages/ipykernel_launcher.py:7: DeprecationWarning: `np.bool` is a deprecated alias for the builtin `bool`. To silence this warning, use `bool` by itself. Doing this will not modify any behavior and is safe. If you specifically wanted the numpy scalar type, use `np.bool_` here.\n",
            "Deprecated in NumPy 1.20; for more details and guidance: https://numpy.org/devdocs/release/1.20.0-notes.html#deprecations\n",
            "  import sys\n",
            "/usr/local/lib/python3.7/dist-packages/ipykernel_launcher.py:8: DeprecationWarning: `np.bool` is a deprecated alias for the builtin `bool`. To silence this warning, use `bool` by itself. Doing this will not modify any behavior and is safe. If you specifically wanted the numpy scalar type, use `np.bool_` here.\n",
            "Deprecated in NumPy 1.20; for more details and guidance: https://numpy.org/devdocs/release/1.20.0-notes.html#deprecations\n",
            "  \n"
          ]
        }
      ]
    },
    {
      "cell_type": "code",
      "source": [
        "a = 0\n",
        "b = 0\n",
        "for x in out_a:\n",
        "  if x<0.5:\n",
        "    a+=1\n",
        "for x in out_b:\n",
        "  if x<0.5:\n",
        "    b+=1\n",
        "\n",
        "accuracy_AA = a/len(out_a)\n",
        "accuracy_CC = b/len(out_b)\n",
        "\n",
        "print('Total accuracy:',clf_accuracy, 'African American accuracy:',accuracy_AA, 'Caucasian accuracy:',accuracy_CC)"
      ],
      "metadata": {
        "colab": {
          "base_uri": "https://localhost:8080/"
        },
        "id": "TG1RrpK-Z2uV",
        "outputId": "914f6e1d-b897-45b4-8c6b-377ded887bf6"
      },
      "execution_count": 43,
      "outputs": [
        {
          "output_type": "stream",
          "name": "stdout",
          "text": [
            "Total accuracy: 0.6417344173441735 African American accuracy: 0.6169244767970883 Caucasian accuracy: 0.5817694369973191\n"
          ]
        }
      ]
    },
    {
      "cell_type": "markdown",
      "metadata": {
        "id": "npGSh6Rc4XEm"
      },
      "source": [
        "# A6"
      ]
    },
    {
      "cell_type": "markdown",
      "metadata": {
        "id": "ZCvk4rRGwmW9"
      },
      "source": [
        "## Determine e"
      ]
    },
    {
      "cell_type": "code",
      "execution_count": 44,
      "metadata": {
        "colab": {
          "base_uri": "https://localhost:8080/"
        },
        "id": "jsb2K-Etwo19",
        "outputId": "fbdd2e5f-c585-490d-96f6-c4f131e3dc50"
      },
      "outputs": [
        {
          "output_type": "stream",
          "name": "stdout",
          "text": [
            "0.5003808073115004\n",
            "0.2480181200453001\n",
            "D_all: 0.25236268726620026\n"
          ]
        }
      ],
      "source": [
        "print(np.sum(clf.predict(X_train_b)==1)/len(X_train_b))\n",
        "print(np.sum(clf.predict(X_train_w)==1)/len(X_train_w))\n",
        "D_all=np.sum(clf.predict(X_train_b)==1)/len(X_train_b)-np.sum(clf.predict(X_train_w)==1)/len(X_train_w)\n",
        "print(\"D_all:\", D_all)"
      ]
    },
    {
      "cell_type": "code",
      "execution_count": 45,
      "metadata": {
        "id": "rSwxZCINHI1W"
      },
      "outputs": [],
      "source": [
        "def D_bad_function(x):\n",
        "    \n",
        "    # Making male and female subsets of black people:\n",
        "    B_dataset = X_train_b.groupby(x)\n",
        "    W_dataset = X_train_w.groupby(x)\n",
        "\n",
        "    # Total unique values in \"sex\" column\n",
        "    n = np.sum(B_dataset[x].nunique())\n",
        "    \n",
        "    e = []\n",
        "    for i in range(n):\n",
        "        e.append((np.sum(clf.predict(B_dataset.get_group(i))==1)/len(B_dataset.get_group(i))+np.sum(clf.predict(W_dataset.get_group(i))==1)/len(W_dataset.get_group(i)))/n)\n",
        "\n",
        "    d = []\n",
        "    for i in range(n):\n",
        "        d.append((len(B_dataset.get_group(i))/len(X_train_b)-len(W_dataset.get_group(i))/len(X_train_w))*e[i])\n",
        "    \n",
        "    D_exp = np.sum(d)\n",
        "    \n",
        "    return(D_all-D_exp)"
      ]
    },
    {
      "cell_type": "code",
      "execution_count": 46,
      "metadata": {
        "id": "mv4HYCFjHWhM"
      },
      "outputs": [],
      "source": [
        "D_bad_all=[D_bad_function(\"sex\"),D_bad_function(\"priors_count\"),D_bad_function(\"juv_count\"),\n",
        "           D_bad_function(\"c_charge_degree\"),D_bad_function(\"score_text\")]"
      ]
    },
    {
      "cell_type": "code",
      "execution_count": 47,
      "metadata": {
        "colab": {
          "base_uri": "https://localhost:8080/",
          "height": 485
        },
        "id": "AWOlnqBNIVCB",
        "outputId": "7261cb40-cef5-4c76-d148-f1bcf63c16a0"
      },
      "outputs": [
        {
          "output_type": "execute_result",
          "data": {
            "text/plain": [
              "([<matplotlib.axis.XTick at 0x7fa700f62e90>,\n",
              "  <matplotlib.axis.XTick at 0x7fa700f62d90>,\n",
              "  <matplotlib.axis.XTick at 0x7fa7041411d0>,\n",
              "  <matplotlib.axis.XTick at 0x7fa700ce7d90>,\n",
              "  <matplotlib.axis.XTick at 0x7fa700cf3450>],\n",
              " [Text(0.0, 0, 'sex'),\n",
              "  Text(1.0, 0, 'priors_count'),\n",
              "  Text(2.0, 0, 'juv_count'),\n",
              "  Text(3.0, 0, 'c_charge_degree'),\n",
              "  Text(4.0, 0, 'score_text')])"
            ]
          },
          "metadata": {},
          "execution_count": 47
        },
        {
          "output_type": "display_data",
          "data": {
            "text/plain": [
              "<Figure size 432x288 with 1 Axes>"
            ],
            "image/png": "[encoded data removed]"
          },
          "metadata": {
            "needs_background": "light"
          }
        }
      ],
      "source": [
        "import matplotlib.pyplot as plt\n",
        "plt.plot(D_bad_all)\n",
        "plt.axhline(y = D_all, color = 'r', linestyle = '--')\n",
        "plt.ylabel(\"discrimination\")\n",
        "plt.ylim([0,0.3])\n",
        "plt.legend([\"D_bad\",\"D_all\"])\n",
        "plt.xticks([0.0,1.0,2.0,3.0,4.0],[\"sex\",\"priors_count\",\"juv_count\",\"c_charge_degree\",\"score_text\"],rotation=30)"
      ]
    },
    {
      "cell_type": "markdown",
      "metadata": {
        "id": "L5D4LqW390kY"
      },
      "source": [
        "## Algorithm: Local massaging"
      ]
    },
    {
      "cell_type": "code",
      "execution_count": 48,
      "metadata": {
        "colab": {
          "base_uri": "https://localhost:8080/"
        },
        "id": "_iUloSfy92jD",
        "outputId": "c293dec0-33d3-49bd-f09f-ddaf670cb557"
      },
      "outputs": [
        {
          "output_type": "stream",
          "name": "stdout",
          "text": [
            "(2237, 7) (1207, 7) (948, 7)\n"
          ]
        }
      ],
      "source": [
        "#split X_train into different sex, 0:low, 1:medium, 2:high\n",
        "index_0= (X_train[\"score_text\"]==0)\n",
        "X_train_0=X_train[index_0]\n",
        "y_train_0=y_train[index_0]\n",
        "index_1= (X_train[\"score_text\"]==1)\n",
        "X_train_1=X_train[index_1]\n",
        "y_train_1=y_train[index_1]\n",
        "index_2= (X_train[\"score_text\"]==2)\n",
        "X_train_2=X_train[index_2]\n",
        "y_train_2=y_train[index_2]\n",
        "print(X_train_0.shape,X_train_1.shape,X_train_2.shape)"
      ]
    },
    {
      "cell_type": "code",
      "execution_count": 49,
      "metadata": {
        "id": "uak2iAZeCUJB"
      },
      "outputs": [],
      "source": [
        "from sklearn.linear_model import LogisticRegression\n",
        "clf_0 = LogisticRegression(random_state=0).fit(X_train_0, y_train_0)\n",
        "clf_1 = LogisticRegression(random_state=0).fit(X_train_1, y_train_1)\n",
        "clf_2 = LogisticRegression(random_state=0).fit(X_train_2, y_train_2)"
      ]
    },
    {
      "cell_type": "code",
      "execution_count": 50,
      "metadata": {
        "colab": {
          "base_uri": "https://localhost:8080/"
        },
        "id": "9wdKPzdM-PWo",
        "outputId": "d7c4912d-bcc1-4412-889d-09021042922d"
      },
      "outputs": [
        {
          "output_type": "stream",
          "name": "stderr",
          "text": [
            "/usr/local/lib/python3.7/dist-packages/ipykernel_launcher.py:2: SettingWithCopyWarning: \n",
            "A value is trying to be set on a copy of a slice from a DataFrame.\n",
            "Try using .loc[row_indexer,col_indexer] = value instead\n",
            "\n",
            "See the caveats in the documentation: https://pandas.pydata.org/pandas-docs/stable/user_guide/indexing.html#returning-a-view-versus-a-copy\n",
            "  \n",
            "/usr/local/lib/python3.7/dist-packages/ipykernel_launcher.py:3: SettingWithCopyWarning: \n",
            "A value is trying to be set on a copy of a slice from a DataFrame.\n",
            "Try using .loc[row_indexer,col_indexer] = value instead\n",
            "\n",
            "See the caveats in the documentation: https://pandas.pydata.org/pandas-docs/stable/user_guide/indexing.html#returning-a-view-versus-a-copy\n",
            "  This is separate from the ipykernel package so we can avoid doing imports until\n",
            "/usr/local/lib/python3.7/dist-packages/ipykernel_launcher.py:4: SettingWithCopyWarning: \n",
            "A value is trying to be set on a copy of a slice from a DataFrame.\n",
            "Try using .loc[row_indexer,col_indexer] = value instead\n",
            "\n",
            "See the caveats in the documentation: https://pandas.pydata.org/pandas-docs/stable/user_guide/indexing.html#returning-a-view-versus-a-copy\n",
            "  after removing the cwd from sys.path.\n"
          ]
        }
      ],
      "source": [
        "#get probability for logistic regression\n",
        "X_train_0[\"prob_0\"],X_train_0[\"prob_1\"]=clf_0.predict_proba(X_train_0)[:,0],clf_0.predict_proba(X_train_0)[:,1]\n",
        "X_train_1[\"prob_0\"],X_train_1[\"prob_1\"]=clf_1.predict_proba(X_train_1)[:,0],clf_1.predict_proba(X_train_1)[:,1]\n",
        "X_train_2[\"prob_0\"],X_train_2[\"prob_1\"]=clf_2.predict_proba(X_train_2)[:,0],clf_2.predict_proba(X_train_2)[:,1]"
      ]
    },
    {
      "cell_type": "code",
      "execution_count": 51,
      "metadata": {
        "colab": {
          "base_uri": "https://localhost:8080/"
        },
        "id": "7UOqPdAZC3Kv",
        "outputId": "7e3b7832-cb82-4303-a25c-87487d89dbdb"
      },
      "outputs": [
        {
          "output_type": "stream",
          "name": "stdout",
          "text": [
            "(2626, 7) (1766, 7)\n"
          ]
        }
      ],
      "source": [
        "index_b= (X_train[\"race\"]==0)\n",
        "X_train_b=X_train[index_b]\n",
        "y_train_b=y_train[index_b]\n",
        "X_train_w=X_train[-index_b]\n",
        "y_train_w=y_train[-index_b]\n",
        "print(X_train_b.shape,X_train_w.shape)"
      ]
    },
    {
      "cell_type": "code",
      "execution_count": 52,
      "metadata": {
        "colab": {
          "base_uri": "https://localhost:8080/"
        },
        "id": "QUfG1gGxDM0_",
        "outputId": "2a8e6200-4cae-4d06-8854-581b8bae83cd"
      },
      "outputs": [
        {
          "output_type": "stream",
          "name": "stdout",
          "text": [
            "(1084, 7) (808, 7) (734, 7) (1153, 7) (399, 7) (214, 7)\n"
          ]
        }
      ],
      "source": [
        "index_b_0= (X_train_b[\"score_text\"]==0)\n",
        "X_train_b_0=X_train_b[index_b_0]\n",
        "y_train_b_0=y_train_b[index_b_0]\n",
        "index_b_1= (X_train_b[\"score_text\"]==1)\n",
        "X_train_b_1=X_train_b[index_b_1]\n",
        "y_train_b_1=y_train_b[index_b_1]\n",
        "index_b_2= (X_train_b[\"score_text\"]==2)\n",
        "X_train_b_2=X_train_b[index_b_2]\n",
        "y_train_b_2=y_train_b[index_b_2]\n",
        "\n",
        "index_w_0= (X_train_w[\"score_text\"]==0)\n",
        "X_train_w_0=X_train_w[index_w_0]\n",
        "y_train_w_0=y_train_w[index_w_0]\n",
        "index_w_1= (X_train_w[\"score_text\"]==1)\n",
        "X_train_w_1=X_train_w[index_w_1]\n",
        "y_train_w_1=y_train_w[index_w_1]\n",
        "index_w_2= (X_train_w[\"score_text\"]==2)\n",
        "X_train_w_2=X_train_w[index_w_2]\n",
        "y_train_w_2=y_train_w[index_w_2]\n",
        "\n",
        "print(X_train_b_0.shape,X_train_b_1.shape,X_train_b_2.shape,X_train_w_0.shape,X_train_w_1.shape,X_train_w_2.shape)"
      ]
    },
    {
      "cell_type": "code",
      "execution_count": 53,
      "metadata": {
        "id": "syCgHsfxDnop"
      },
      "outputs": [],
      "source": [
        "#e_0\n",
        "p_plus_e_0=(np.sum(clf_0.predict(X_train_b_0)==1)/len(X_train_b_0)+np.sum(clf_0.predict(X_train_w_0)==1)/len(X_train_w_0))/2\n",
        "#e_1\n",
        "p_plus_e_1=(np.sum(clf_1.predict(X_train_b_1)==1)/len(X_train_b_1)+np.sum(clf_1.predict(X_train_w_1)==1)/len(X_train_w_1))/2\n",
        "#e_2\n",
        "p_plus_e_2=(np.sum(clf_2.predict(X_train_b_2)==1)/len(X_train_b_2)+np.sum(clf_2.predict(X_train_w_2)==1)/len(X_train_w_2))/2"
      ]
    },
    {
      "cell_type": "code",
      "execution_count": 54,
      "metadata": {
        "colab": {
          "base_uri": "https://localhost:8080/"
        },
        "id": "R8vIDZH0CmJj",
        "outputId": "445fe058-76cc-49a9-b0b1-f25eb3811800"
      },
      "outputs": [
        {
          "output_type": "stream",
          "name": "stdout",
          "text": [
            "21 23 24 11 8 2\n"
          ]
        }
      ],
      "source": [
        "\n",
        "delta_b_0=abs(int(len(X_train_b_0)*(np.sum(clf_0.predict(X_train_b_0)==1)/len(X_train_b_0)-p_plus_e_0)))\n",
        "delta_w_0=abs(int(len(X_train_w_0)*(np.sum(clf_0.predict(X_train_w_0)==1)/len(X_train_w_0)-p_plus_e_0)))\n",
        "\n",
        "delta_b_1=abs(int(len(X_train_b_1)*(np.sum(clf_1.predict(X_train_b_1)==1)/len(X_train_b_1)-p_plus_e_1)))\n",
        "delta_w_1=abs(int(len(X_train_w_1)*(np.sum(clf_1.predict(X_train_w_1)==1)/len(X_train_w_1)-p_plus_e_1)))\n",
        "\n",
        "delta_b_2=abs(int(len(X_train_b_2)*(np.sum(clf_2.predict(X_train_b_2)==1)/len(X_train_b_2)-p_plus_e_2)))\n",
        "delta_w_2=abs(int(len(X_train_w_2)*(np.sum(clf_2.predict(X_train_w_2)==1)/len(X_train_w_2)-p_plus_e_2)))\n",
        "print(delta_b_0,delta_w_0,delta_b_1,delta_w_1,delta_b_2,delta_w_2)"
      ]
    },
    {
      "cell_type": "code",
      "execution_count": 55,
      "metadata": {
        "id": "gLVnUiyX6FlV"
      },
      "outputs": [],
      "source": [
        "index_p_to_n_0=X_train_0[(X_train_0[\"prob_1\"]>=0.5)&(X_train_0[\"race\"]==0)][\"prob_1\"].sort_values()[:delta_b_0]\n",
        "index_n_to_p_0=X_train_0[(X_train_0[\"prob_1\"]<0.5)&(X_train_0[\"race\"]==1)][\"prob_1\"].sort_values(ascending=False)[:delta_w_0]\n",
        "\n",
        "index_p_to_n_1=X_train_1[(X_train_1[\"prob_1\"]>=0.5)&(X_train_1[\"race\"]==0)][\"prob_1\"].sort_values()[:delta_b_1]\n",
        "index_n_to_p_1=X_train_1[(X_train_1[\"prob_1\"]<0.5)&(X_train_1[\"race\"]==1)][\"prob_1\"].sort_values(ascending=False)[:delta_w_1]\n",
        "\n",
        "index_p_to_n_2=X_train_2[(X_train_2[\"prob_1\"]>=0.5)&(X_train_2[\"race\"]==0)][\"prob_1\"].sort_values()[:delta_b_2]\n",
        "index_n_to_p_2=X_train_2[(X_train_2[\"prob_1\"]<0.5)&(X_train_2[\"race\"]==1)][\"prob_1\"].sort_values(ascending=False)[:delta_w_2]"
      ]
    },
    {
      "cell_type": "code",
      "execution_count": 56,
      "metadata": {
        "id": "zg4Ypy-sEfXw"
      },
      "outputs": [],
      "source": [
        "y_train_new=y_train.copy()\n",
        "y_train_new[y_train_new.index.isin(index_p_to_n_0.index)]=0\n",
        "y_train_new[y_train_new.index.isin(index_n_to_p_0.index)]=1\n",
        "y_train_new[y_train_new.index.isin(index_p_to_n_1.index)]=0\n",
        "y_train_new[y_train_new.index.isin(index_n_to_p_1.index)]=1\n",
        "y_train_new[y_train_new.index.isin(index_p_to_n_2.index)]=0\n",
        "y_train_new[y_train_new.index.isin(index_n_to_p_2.index)]=1"
      ]
    },
    {
      "cell_type": "code",
      "execution_count": 57,
      "metadata": {
        "colab": {
          "base_uri": "https://localhost:8080/"
        },
        "id": "bD8pi4ANJl3s",
        "outputId": "998c4d0d-02b6-47f5-b955-96ac96609edb"
      },
      "outputs": [
        {
          "output_type": "execute_result",
          "data": {
            "text/plain": [
              "0.6723549488054608"
            ]
          },
          "metadata": {},
          "execution_count": 57
        }
      ],
      "source": [
        "from sklearn.linear_model import LogisticRegression\n",
        "clf_new = LogisticRegression(random_state=0).fit(X_train, y_train_new)\n",
        "clf_new.score(X_test,y_test)"
      ]
    },
    {
      "cell_type": "code",
      "execution_count": 58,
      "metadata": {
        "colab": {
          "base_uri": "https://localhost:8080/"
        },
        "id": "rWMYRKbIKp-O",
        "outputId": "1b38f0ec-09ae-4e4f-dbed-24d8bfbc6265"
      },
      "outputs": [
        {
          "output_type": "stream",
          "name": "stdout",
          "text": [
            "calibration score:  0.04702340706397501\n"
          ]
        }
      ],
      "source": [
        "print(\"calibration score: \",abs(clf_new.score(X_test_b,y_test_b)-clf_new.score(X_test_w,y_test_w)))"
      ]
    },
    {
      "cell_type": "markdown",
      "metadata": {
        "id": "fRiYXp5_LXDb"
      },
      "source": [
        "## Algorithm: Local preferential sampling"
      ]
    },
    {
      "cell_type": "code",
      "execution_count": 59,
      "metadata": {
        "id": "UZuSGUy3LaZm"
      },
      "outputs": [],
      "source": [
        "index_p_to_n_0_u=X_train_0[(X_train_0[\"prob_1\"]>=0.5)&(X_train_0[\"race\"]==0)][\"prob_1\"].sort_values()[:int(delta_b_0/2)]\n",
        "index_p_to_n_0_d=X_train_0[(X_train_0[\"prob_1\"]<0.5)&(X_train_0[\"race\"]==0)][\"prob_1\"].sort_values(ascending=False)[:int(delta_b_0/2)]\n",
        "\n",
        "index_n_to_p_0_d=X_train_0[(X_train_0[\"prob_1\"]<0.5)&(X_train_0[\"race\"]==1)][\"prob_1\"].sort_values(ascending=False)[:int(delta_w_0/2)]\n",
        "index_n_to_p_0_u=X_train_0[(X_train_0[\"prob_1\"]>=0.5)&(X_train_0[\"race\"]==1)][\"prob_1\"].sort_values()[:int(delta_w_0/2)]\n",
        "\n",
        "index_p_to_n_1_u=X_train_1[(X_train_1[\"prob_1\"]>=0.5)&(X_train_1[\"race\"]==0)][\"prob_1\"].sort_values()[:int(delta_b_1/2)]\n",
        "index_p_to_n_1_d=X_train_1[(X_train_1[\"prob_1\"]<0.5)&(X_train_1[\"race\"]==0)][\"prob_1\"].sort_values(ascending=False)[:int(delta_b_1/2)]\n",
        "\n",
        "index_n_to_p_1_d=X_train_1[(X_train_1[\"prob_1\"]<0.5)&(X_train_1[\"race\"]==1)][\"prob_1\"].sort_values(ascending=False)[:int(delta_w_1/2)]\n",
        "index_n_to_p_1_u=X_train_1[(X_train_1[\"prob_1\"]>=0.5)&(X_train_1[\"race\"]==1)][\"prob_1\"].sort_values()[:int(delta_w_1/2)]\n",
        "\n",
        "index_p_to_n_2_u=X_train_2[(X_train_2[\"prob_1\"]>=0.5)&(X_train_2[\"race\"]==0)][\"prob_1\"].sort_values()[:int(delta_b_2/2)]\n",
        "index_p_to_n_2_d=X_train_2[(X_train_2[\"prob_1\"]<0.5)&(X_train_2[\"race\"]==0)][\"prob_1\"].sort_values(ascending=False)[:int(delta_b_2/2)]\n",
        "\n",
        "index_n_to_p_2_d=X_train_2[(X_train_2[\"prob_1\"]<0.5)&(X_train_2[\"race\"]==1)][\"prob_1\"].sort_values(ascending=False)[:int(delta_w_2/2)]\n",
        "index_n_to_p_2_u=X_train_2[(X_train_2[\"prob_1\"]>=0.5)&(X_train_2[\"race\"]==1)][\"prob_1\"].sort_values()[:int(delta_w_2/2)]"
      ]
    },
    {
      "cell_type": "code",
      "execution_count": 60,
      "metadata": {
        "id": "VZ9v6jpYM_QT"
      },
      "outputs": [],
      "source": [
        "X_train_new1=X_train.copy()\n",
        "y_train_new1=y_train.copy()\n",
        "df_new=pd.concat([X_train_new1,y_train_new1],axis=1)\n",
        "df_new.drop(index_p_to_n_0_d.index,inplace=True)\n",
        "df_new.drop(index_n_to_p_0_u.index,inplace=True)\n",
        "df_new.drop(index_p_to_n_1_d.index,inplace=True)\n",
        "df_new.drop(index_n_to_p_1_u.index,inplace=True)\n",
        "df_new.drop(index_p_to_n_2_d.index,inplace=True)\n",
        "df_new.drop(index_n_to_p_2_u.index,inplace=True)"
      ]
    },
    {
      "cell_type": "code",
      "execution_count": 61,
      "metadata": {
        "id": "We5aSq_SP-xU"
      },
      "outputs": [],
      "source": [
        "df_dup_1=df_new[df_new.index.isin(index_p_to_n_0_u.index)]\n",
        "df_dup_2=df_new[df_new.index.isin(index_n_to_p_0_d.index)]\n",
        "df_dup_3=df_new[df_new.index.isin(index_p_to_n_1_u.index)]\n",
        "df_dup_4=df_new[df_new.index.isin(index_n_to_p_1_d.index)]\n",
        "df_dup_5=df_new[df_new.index.isin(index_p_to_n_2_u.index)]\n",
        "df_dup_6=df_new[df_new.index.isin(index_n_to_p_2_d.index)]\n",
        "df_new_all=df_new.append([df_dup_1,df_dup_2,df_dup_3,df_dup_4,df_dup_4,df_dup_4])"
      ]
    },
    {
      "cell_type": "code",
      "execution_count": 62,
      "metadata": {
        "colab": {
          "base_uri": "https://localhost:8080/"
        },
        "id": "wv_YIG3MOFtr",
        "outputId": "c8a5eca1-c16b-4dc1-efe1-ae0bef853e3b"
      },
      "outputs": [
        {
          "output_type": "stream",
          "name": "stdout",
          "text": [
            "(4350, 8) (4392, 7) (4398, 8)\n"
          ]
        }
      ],
      "source": [
        "print(df_new.shape,X_train_new1.shape,df_new_all.shape)"
      ]
    },
    {
      "cell_type": "code",
      "execution_count": 63,
      "metadata": {
        "colab": {
          "base_uri": "https://localhost:8080/"
        },
        "id": "jgzoYgAkQux_",
        "outputId": "1ca437cb-353d-43d1-b900-5c61fa6ddfd0"
      },
      "outputs": [
        {
          "output_type": "stream",
          "name": "stdout",
          "text": [
            "0.6689419795221843\n",
            "calibration score:  0.03390321645899741\n"
          ]
        }
      ],
      "source": [
        "from sklearn.linear_model import LogisticRegression\n",
        "clf_new1 = LogisticRegression(random_state=0).fit(df_new_all.drop(\"two_year_recid\",axis=1), df_new_all[\"two_year_recid\"])\n",
        "print(clf_new1.score(X_test,y_test))\n",
        "print(\"calibration score: \",abs(clf_new1.score(X_test_b,y_test_b)-clf_new1.score(X_test_w,y_test_w)))"
      ]
    },
    {
      "cell_type": "markdown",
      "metadata": {
        "id": "O5LUwohfGXdw"
      },
      "source": [
        "# Comparision plots:"
      ]
    },
    {
      "cell_type": "markdown",
      "metadata": {
        "id": "nlHCYOAGGbgg"
      },
      "source": [
        "## Accuracy plot:"
      ]
    },
    {
      "cell_type": "code",
      "execution_count": 68,
      "metadata": {
        "colab": {
          "base_uri": "https://localhost:8080/",
          "height": 499
        },
        "id": "-P2VMvoxGgOi",
        "outputId": "a01073df-97e2-49f5-ed50-f90219f46289"
      },
      "outputs": [
        {
          "output_type": "display_data",
          "data": {
            "text/plain": [
              "<Figure size 1008x576 with 1 Axes>"
            ],
            "image/png": "[encoded data removed]"
          },
          "metadata": {
            "needs_background": "light"
          }
        }
      ],
      "source": [
        "labels = ['Baseline', 'A5', 'A6 LM', 'A6 LPS']   # Add other models here\n",
        "\n",
        "# Replace 0.555 with true scores:\n",
        "Accuracy_score             = np.round_([clf.score(X_test,y_test),round(clf_accuracy,1), clf_new.score(X_test,y_test),clf_new1.score(X_test,y_test)],3)\n",
        "Accuracy_African_American  = np.round_([clf.score(X_test_b,y_test_b),accuracy_AA,clf_new.score(X_test_b,y_test_b),clf_new1.score(X_test_b,y_test_b)],3)\n",
        "Accuracy_Caucassian        = np.round_([clf.score(X_test_w,y_test_w),accuracy_CC,clf_new.score(X_test_w,y_test_w),clf_new1.score(X_test_w,y_test_w)],3)\n",
        "\n",
        "x = np.arange(len(labels))  \n",
        "width = 0.25 \n",
        "\n",
        "fig, ax = plt.subplots(figsize=(14, 8))\n",
        "\n",
        "rects0 = ax.bar(x , Accuracy_score , width, label='Total Accuracy', color=\"gray\")\n",
        "rects1 = ax.bar(x - width, Accuracy_African_American, width, label='African_American', color = \"black\")\n",
        "rects2 = ax.bar(x + width, Accuracy_Caucassian, width, label='Caucassian', color = \"peachpuff\")\n",
        "\n",
        "ax.set_ylabel('Accuracy')\n",
        "ax.set_title('Accuracy Comparision')\n",
        "ax.set_xticks(x, labels)\n",
        "ax.legend(bbox_to_anchor=(1.05, 1.0), loc='upper left')\n",
        "\n",
        "ax.bar_label(rects0, padding=3)\n",
        "ax.bar_label(rects1, padding=3)\n",
        "ax.bar_label(rects2, padding=3)\n",
        "\n",
        "plt.show()"
      ]
    },
    {
      "cell_type": "markdown",
      "metadata": {
        "id": "3McibdwKLmBM"
      },
      "source": [
        "## Calibration plot:"
      ]
    },
    {
      "cell_type": "code",
      "execution_count": 67,
      "metadata": {
        "colab": {
          "base_uri": "https://localhost:8080/",
          "height": 299
        },
        "id": "J2nUCHB8Llcc",
        "outputId": "f0fa8d98-2189-4203-de5f-98d4283bb3e9"
      },
      "outputs": [
        {
          "output_type": "execute_result",
          "data": {
            "text/plain": [
              "Text(0.5, 1.0, 'Calibration score Comparision')"
            ]
          },
          "metadata": {},
          "execution_count": 67
        },
        {
          "output_type": "display_data",
          "data": {
            "text/plain": [
              "<Figure size 432x288 with 1 Axes>"
            ],
            "image/png": "[encoded data removed]"
          },
          "metadata": {
            "needs_background": "light"
          }
        }
      ],
      "source": [
        "x_labels = ['Baseline','A5', 'A6 LM', 'A6 LPS']\n",
        "\n",
        "Baseline_cal_score = abs(clf.score(X_test_b,y_test_b)-clf.score(X_test_w,y_test_w))\n",
        "A5_cal_score = cvscore\n",
        "A6_LM_cal_score = abs(clf_new.score(X_test_b,y_test_b)-clf_new.score(X_test_w,y_test_w))\n",
        "A6_LPS_cal_score = abs(clf_new1.score(X_test_b,y_test_b)-clf_new1.score(X_test_w,y_test_w))      # Enter score here\n",
        "\n",
        "Calibration_score = np.round([Baseline_cal_score,A5_cal_score,A6_LM_cal_score,A6_LPS_cal_score],3)\n",
        "\n",
        "score_series = pd.Series(Calibration_score)\n",
        "\n",
        "plt.figure()\n",
        "fig = score_series.plot(kind='bar',color=\"gray\")\n",
        "fig.set_xticklabels(x_labels, rotation=0)\n",
        "fig.bar_label(fig.containers[0], label_type='edge')\n",
        "plt.ylabel('Calibration score',fontsize = 12)\n",
        "plt.title('Calibration score Comparision',fontsize = 14)"
      ]
    },
    {
      "cell_type": "markdown",
      "metadata": {
        "id": "tl4rIzPdTqZI"
      },
      "source": [
        "## False Positive Rate plot:"
      ]
    },
    {
      "cell_type": "code",
      "execution_count": null,
      "metadata": {
        "colab": {
          "base_uri": "https://localhost:8080/"
        },
        "id": "DhfKFRZhUS3M",
        "outputId": "2a40d18a-e6da-4e39-bfc9-0669c5191650"
      },
      "outputs": [
        {
          "name": "stdout",
          "output_type": "stream",
          "text": [
            "Total FPR:  0.24733475479744135\n",
            "African American FPR:  0.340080971659919\n",
            "Caucasian FPR:  0.14414414414414414\n"
          ]
        }
      ],
      "source": [
        "#FPR for baseline\n",
        "from sklearn.metrics import confusion_matrix\n",
        "y_pred_T = clf.predict(X_test)\n",
        "CM_T = confusion_matrix(y_test, y_pred_T)\n",
        "\n",
        "TN_T = CM_T[0][0]\n",
        "FN_T = CM_T[1][0]\n",
        "TP_T = CM_T[1][1]\n",
        "FP_T = CM_T[0][1]\n",
        "\n",
        "FPR_T = FP_T/(FP_T+TN_T)\n",
        "print(\"Total FPR: \",FPR_T)\n",
        "\n",
        "# African American FPR\n",
        "\n",
        "y_pred_b = clf.predict(X_test_b)\n",
        "CM_b = confusion_matrix(y_test_b, y_pred_b)\n",
        "\n",
        "TN_b = CM_b[0][0]\n",
        "FP_b = CM_b[0][1]\n",
        "\n",
        "FPR_b = FP_b/(FP_b+TN_b)\n",
        "print(\"African American FPR: \",FPR_b)\n",
        "\n",
        "# Caucasian FPR\n",
        "\n",
        "y_pred_w = clf.predict(X_test_w)\n",
        "CM_w = confusion_matrix(y_test_w, y_pred_w)\n",
        "\n",
        "TN_w = CM_w [0][0]\n",
        "FP_w = CM_w [0][1]\n",
        "\n",
        "FPR_w = FP_w/(FP_w+TN_w)\n",
        "print(\"Caucasian FPR: \",FPR_w)"
      ]
    },
    {
      "cell_type": "code",
      "execution_count": null,
      "metadata": {
        "colab": {
          "base_uri": "https://localhost:8080/"
        },
        "id": "jxyj7p_-UeDT",
        "outputId": "a75beb3c-8acd-4e70-95d1-f9760d432264"
      },
      "outputs": [
        {
          "name": "stdout",
          "output_type": "stream",
          "text": [
            "Total FPR:  0.23880597014925373\n",
            "African American FPR:  0.31983805668016196\n",
            "Caucasian FPR:  0.14864864864864866\n"
          ]
        }
      ],
      "source": [
        "# FPR for A6 LM\n",
        "\n",
        "# Overall FPR\n",
        "y_pred_T = clf_new.predict(X_test)\n",
        "CM_T = confusion_matrix(y_test, y_pred_T)\n",
        "TN_T = CM_T[0][0]\n",
        "FP_T = CM_T[0][1]\n",
        "FPR_T_LM = FP_T/(FP_T+TN_T)\n",
        "print(\"Total FPR: \",FPR_T_LM)\n",
        "\n",
        "\n",
        "# African American FPR\n",
        "y_pred_b = clf_new.predict(X_test_b)\n",
        "CM_b = confusion_matrix(y_test_b, y_pred_b)\n",
        "TN_b = CM_b[0][0]\n",
        "FP_b = CM_b[0][1]\n",
        "FPR_b_LM = FP_b/(FP_b+TN_b)\n",
        "print(\"African American FPR: \",FPR_b_LM)\n",
        "\n",
        "\n",
        "# Caucasian FPR\n",
        "y_pred_w = clf_new.predict(X_test_w)\n",
        "CM_w = confusion_matrix(y_test_w, y_pred_w)\n",
        "TN_w = CM_w [0][0]\n",
        "FP_w = CM_w [0][1]\n",
        "FPR_w_LM = FP_w/(FP_w+TN_w)\n",
        "print(\"Caucasian FPR: \",FPR_w_LM)"
      ]
    },
    {
      "cell_type": "code",
      "execution_count": null,
      "metadata": {
        "colab": {
          "base_uri": "https://localhost:8080/"
        },
        "id": "Me2eA7BrT_fa",
        "outputId": "9e9b2d67-9b7f-4c03-85db-8ad26c48f530"
      },
      "outputs": [
        {
          "name": "stdout",
          "output_type": "stream",
          "text": [
            "Total FPR:  0.24520255863539445\n",
            "African American FPR:  0.3360323886639676\n",
            "Caucasian FPR:  0.14414414414414414\n"
          ]
        }
      ],
      "source": [
        "# FPR for A6 LPS\n",
        "from sklearn.metrics import confusion_matrix\n",
        "# Overall FPR\n",
        "y_pred_T = clf_new1.predict(X_test)\n",
        "CM_T = confusion_matrix(y_test, y_pred_T)\n",
        "TN_T = CM_T[0][0]\n",
        "FP_T = CM_T[0][1]\n",
        "FPR_T_LPS = FP_T/(FP_T+TN_T)\n",
        "print(\"Total FPR: \",FPR_T_LPS)\n",
        "\n",
        "# African American FPR\n",
        "y_pred_b = clf_new1.predict(X_test_b)\n",
        "CM_b = confusion_matrix(y_test_b, y_pred_b)\n",
        "TN_b = CM_b[0][0]\n",
        "FP_b = CM_b[0][1]\n",
        "FPR_b_LPS = FP_b/(FP_b+TN_b)\n",
        "print(\"African American FPR: \",FPR_b_LPS)\n",
        "\n",
        "# Caucasian FPR\n",
        "y_pred_w = clf_new1.predict(X_test_w)\n",
        "CM_w = confusion_matrix(y_test_w, y_pred_w)\n",
        "TN_w = CM_w [0][0]\n",
        "FP_w = CM_w [0][1]\n",
        "FPR_w_LPS = FP_w/(FP_w+TN_w)\n",
        "print(\"Caucasian FPR: \",FPR_w_LPS)"
      ]
    },
    {
      "cell_type": "code",
      "execution_count": null,
      "metadata": {
        "colab": {
          "base_uri": "https://localhost:8080/",
          "height": 499
        },
        "id": "ax3CVe58Tpx9",
        "outputId": "42586b6b-2b7c-4d8d-eea2-bc75be987907"
      },
      "outputs": [
        {
          "data": {
            "image/png": "[encoded data removed]",
            "text/plain": [
              "<Figure size 1008x576 with 1 Axes>"
            ]
          },
          "metadata": {
            "needs_background": "light"
          },
          "output_type": "display_data"
        }
      ],
      "source": [
        "labels = ['Baseline', 'A5', 'A6 LM', 'A6 LPS']   # Add other models here\n",
        "\n",
        "# Insert scores here:\n",
        "FPR_score             = np.round_([FPR_T,0.555, FPR_T_LM, FPR_T_LPS],3)\n",
        "FPR_African_American  = np.round_([FPR_b,0.555, FPR_b_LM, FPR_b_LPS],3)\n",
        "FPR_Caucassian        = np.round_([FPR_w,0.555, FPR_w_LM, FPR_w_LPS],3)\n",
        "\n",
        "x = np.arange(len(labels))  \n",
        "width = 0.25 \n",
        "\n",
        "fig, ax = plt.subplots(figsize=(14, 8))\n",
        "\n",
        "rects0 = ax.bar(x , FPR_score  , width, label='Total Accuracy', color=\"gray\")\n",
        "rects1 = ax.bar(x - width, FPR_African_American, width, label='African_American', color = \"black\")\n",
        "rects2 = ax.bar(x + width, FPR_Caucassian, width, label='Caucassian', color = \"peachpuff\")\n",
        "\n",
        "ax.set_ylabel('False Positive Rate')\n",
        "ax.set_title('False Positive Rate Comparision')\n",
        "ax.set_xticks(x, labels)\n",
        "ax.legend(bbox_to_anchor=(1.05, 1.0), loc='upper left')\n",
        "\n",
        "ax.bar_label(rects0, padding=3)\n",
        "ax.bar_label(rects1, padding=3)\n",
        "ax.bar_label(rects2, padding=3)\n",
        "\n",
        "plt.show()"
      ]
    }
  ],
  "metadata": {
    "colab": {
      "provenance": [],
      "collapsed_sections": [
        "tl4rIzPdTqZI"
      ]
    },
    "hide_input": false,
    "kernelspec": {
      "display_name": "Python 3 (ipykernel)",
      "language": "python",
      "name": "python3"
    },
    "language_info": {
      "codemirror_mode": {
        "name": "ipython",
        "version": 3
      },
      "file_extension": ".py",
      "mimetype": "text/x-python",
      "name": "python",
      "nbconvert_exporter": "python",
      "pygments_lexer": "ipython3",
      "version": "3.9.12"
    },
    "accelerator": "GPU",
    "gpuClass": "standard"
  },
  "nbformat": 4,
  "nbformat_minor": 0
}