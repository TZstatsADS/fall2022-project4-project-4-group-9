{
 "cells": [
  {
   "cell_type": "code",
   "execution_count": 68,
   "id": "6d019f0a",
   "metadata": {},
   "outputs": [],
   "source": [
    "import pandas as pd"
   ]
  },
  {
   "cell_type": "code",
   "execution_count": 69,
   "id": "94515949",
   "metadata": {},
   "outputs": [],
   "source": [
    "# Importing datasets:\n",
    "\n",
    "df = pd.read_csv(\"compas-scores-two-years.csv\")"
   ]
  },
  {
   "cell_type": "markdown",
   "id": "83972f61",
   "metadata": {},
   "source": [
    "# Pre-processing:"
   ]
  },
  {
   "cell_type": "code",
   "execution_count": 70,
   "id": "99558a3b",
   "metadata": {},
   "outputs": [],
   "source": [
    "# Subsetting \"African-American\", \"Caucasian\" race rows and converting them to 0/1:\n",
    "\n",
    "df = df.loc[df[\"race\"].isin([\"African-American\", \"Caucasian\"])]\n",
    "df[\"race\"].replace(['African-American', 'Caucasian'],[0, 1], inplace=True)"
   ]
  },
  {
   "cell_type": "code",
   "execution_count": 71,
   "id": "5b301da4",
   "metadata": {},
   "outputs": [
    {
     "data": {
      "text/plain": [
       "array(['id', 'name', 'first', 'last', 'compas_screening_date', 'sex',\n",
       "       'dob', 'age', 'age_cat', 'race', 'juv_fel_count', 'decile_score',\n",
       "       'juv_misd_count', 'juv_other_count', 'priors_count',\n",
       "       'days_b_screening_arrest', 'c_jail_in', 'c_jail_out',\n",
       "       'c_case_number', 'c_offense_date', 'c_arrest_date',\n",
       "       'c_days_from_compas', 'c_charge_degree', 'c_charge_desc',\n",
       "       'is_recid', 'r_case_number', 'r_charge_degree',\n",
       "       'r_days_from_arrest', 'r_offense_date', 'r_charge_desc',\n",
       "       'r_jail_in', 'r_jail_out', 'violent_recid', 'is_violent_recid',\n",
       "       'vr_case_number', 'vr_charge_degree', 'vr_offense_date',\n",
       "       'vr_charge_desc', 'type_of_assessment', 'decile_score.1',\n",
       "       'score_text', 'screening_date', 'v_type_of_assessment',\n",
       "       'v_decile_score', 'v_score_text', 'v_screening_date', 'in_custody',\n",
       "       'out_custody', 'priors_count.1', 'start', 'end', 'event',\n",
       "       'two_year_recid'], dtype=object)"
      ]
     },
     "execution_count": 71,
     "metadata": {},
     "output_type": "execute_result"
    }
   ],
   "source": [
    "df.columns.values"
   ]
  },
  {
   "cell_type": "code",
   "execution_count": 72,
   "id": "c51a348c",
   "metadata": {},
   "outputs": [],
   "source": [
    "# Sensitive variable:\n",
    "\n",
    "s = df[\"race\"]"
   ]
  },
  {
   "cell_type": "code",
   "execution_count": 73,
   "id": "9bbea413",
   "metadata": {},
   "outputs": [],
   "source": [
    "# Target variable\n",
    "\n",
    "y = df[\"two_year_recid\"]"
   ]
  },
  {
   "cell_type": "code",
   "execution_count": 74,
   "id": "a8af075e",
   "metadata": {},
   "outputs": [],
   "source": [
    "# Predictors:   ( Add columns here)\n",
    "\n",
    "X = pd.DataFrame(df, columns=[\"age\",'priors_count'])"
   ]
  },
  {
   "cell_type": "markdown",
   "id": "d5cc07af",
   "metadata": {},
   "source": [
    "# Accuracy Metric:"
   ]
  },
  {
   "cell_type": "code",
   "execution_count": null,
   "id": "36020b59",
   "metadata": {},
   "outputs": [],
   "source": []
  }
 ],
 "metadata": {
  "hide_input": false,
  "kernelspec": {
   "display_name": "Python 3 (ipykernel)",
   "language": "python",
   "name": "python3"
  },
  "language_info": {
   "codemirror_mode": {
    "name": "ipython",
    "version": 3
   },
   "file_extension": ".py",
   "mimetype": "text/x-python",
   "name": "python",
   "nbconvert_exporter": "python",
   "pygments_lexer": "ipython3",
   "version": "3.9.12"
  }
 },
 "nbformat": 4,
 "nbformat_minor": 5
}
