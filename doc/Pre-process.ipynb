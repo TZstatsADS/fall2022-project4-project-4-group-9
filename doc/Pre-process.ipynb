{
 "cells": [
  {
   "cell_type": "code",
   "execution_count": 1,
   "id": "67da9cb8",
   "metadata": {
    "id": "k1WHo4Iddz7l"
   },
   "outputs": [],
   "source": [
    "import pandas as pd\n",
    "\n",
    "# Reading data:\n",
    "df= pd.read_csv(\"compas-scores-two-years.csv\")\n",
    "\n",
    "# Subsetting only \"African-American\" and \"Caucasian\" races:\n",
    "df = df.loc[df[\"race\"].isin([\"African-American\", \"Caucasian\"])]\n",
    "\n",
    "# Replacing \"African-American\" and \"Caucasian\" labels with 0 and 1:\n",
    "df[\"race\"].replace(['African-American', 'Caucasian'],[0, 1], inplace=True)\n",
    "\n",
    "# Label encoding \"score text\" variable:\n",
    "df[\"score_text\"].replace([\"Low\",\"Medium\",\"High\"],[0,1,2],inplace=True)\n",
    "\n",
    "# Replacing \"Male\" and \"Female\" labels with 0 and 1:\n",
    "df[\"sex\"].replace([\"Male\",\"Female\"],[0,1],inplace=True)"
   ]
  },
  {
   "cell_type": "code",
   "execution_count": 11,
   "id": "cbce811a",
   "metadata": {
    "colab": {
     "base_uri": "https://localhost:8080/"
    },
    "id": "4lSZo05Gd_Lo",
    "outputId": "727f359e-5da5-4859-ba92-a87b9f6bc678"
   },
   "outputs": [
    {
     "name": "stdout",
     "output_type": "stream",
     "text": [
      "(5271, 9) (5271,) (879, 9) (879,)\n",
      "(4392, 9) (4392,) (879, 9) (879,)\n"
     ]
    }
   ],
   "source": [
    "# Target variable \"two_year_recid\"\n",
    "y = df[\"two_year_recid\"]\n",
    "\n",
    "# Predictors:\n",
    "X = pd.DataFrame(df, columns=[\"race\",\"age\",\"priors_count\",\"juv_fel_count\",\"juv_misd_count\",\"juv_other_count\",'decile_score','score_text',\"sex\"])\n",
    "\n",
    "# Splitting into train-valid-test sets:\n",
    "from sklearn.model_selection import train_test_split\n",
    "X_train, X_test, y_train, y_test=train_test_split(X,y,test_size=879, random_state=42, stratify=y)\n",
    "print(X_train.shape, y_train.shape, X_test.shape, y_test.shape)\n",
    "X_train, X_valid, y_train, y_valid=train_test_split(X_train,y_train,test_size=879, random_state=42, stratify=y_train)\n",
    "print(X_train.shape, y_train.shape, X_valid.shape, y_valid.shape)"
   ]
  },
  {
   "cell_type": "markdown",
   "id": "2e916b86",
   "metadata": {
    "id": "5XH3AmE1wide"
   },
   "source": [
    "# Baseline"
   ]
  },
  {
   "cell_type": "code",
   "execution_count": 9,
   "id": "86049175",
   "metadata": {
    "colab": {
     "base_uri": "https://localhost:8080/"
    },
    "id": "d798yW5oeKVK",
    "outputId": "636563f8-0a29-4cef-ef6a-75b33bcdf7f4"
   },
   "outputs": [
    {
     "name": "stdout",
     "output_type": "stream",
     "text": [
      "Accuracy: 0.6934959349593496\n"
     ]
    }
   ],
   "source": [
    "# Fitting logistic regression model:\n",
    "from sklearn.linear_model import LogisticRegression\n",
    "clf = LogisticRegression(random_state=0).fit(X_train, y_train)\n",
    "\n",
    "# Accuracy of logistic regression model:\n",
    "print(\"Accuracy:\", clf.score(X_test,y_test))"
   ]
  },
  {
   "cell_type": "code",
   "execution_count": 4,
   "id": "15b96d9c",
   "metadata": {
    "colab": {
     "base_uri": "https://localhost:8080/"
    },
    "id": "FGlQZYBunn4q",
    "outputId": "a3b63f45-01b4-4fd8-8a89-fb9aa9344c11"
   },
   "outputs": [],
   "source": [
    "index_b= (X_test[\"race\"]==0)\n",
    "X_test_b=X_test[index_b]\n",
    "y_test_b=y_test[index_b]\n",
    "X_test_w=X_test[-index_b]\n",
    "y_test_w=y_test[-index_b]"
   ]
  },
  {
   "cell_type": "code",
   "execution_count": 10,
   "id": "3b82dc13",
   "metadata": {
    "colab": {
     "base_uri": "https://localhost:8080/"
    },
    "id": "os9zoVlwv_hn",
    "outputId": "6f4e333d-cbbe-48c5-b190-7178e1103376"
   },
   "outputs": [
    {
     "name": "stdout",
     "output_type": "stream",
     "text": [
      "Calibration score:  0.04059572423732882\n"
     ]
    }
   ],
   "source": [
    "# Calibration score (Accuracy differnce between 2 groups)\n",
    "\n",
    "print(\"Calibration score: \",abs(clf.score(X_test_b,y_test_b)-clf.score(X_test_w,y_test_w)))"
   ]
  }
 ],
 "metadata": {
  "hide_input": false,
  "kernelspec": {
   "display_name": "Python 3 (ipykernel)",
   "language": "python",
   "name": "python3"
  },
  "language_info": {
   "codemirror_mode": {
    "name": "ipython",
    "version": 3
   },
   "file_extension": ".py",
   "mimetype": "text/x-python",
   "name": "python",
   "nbconvert_exporter": "python",
   "pygments_lexer": "ipython3",
   "version": "3.9.12"
  }
 },
 "nbformat": 4,
 "nbformat_minor": 5
}
